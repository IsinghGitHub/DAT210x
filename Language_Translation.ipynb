{
  "nbformat": 4,
  "nbformat_minor": 0,
  "metadata": {
    "colab": {
      "name": "Language_Translation.ipynb",
      "version": "0.3.2",
      "provenance": [],
      "toc_visible": true,
      "include_colab_link": true
    },
    "kernelspec": {
      "name": "python3",
      "display_name": "Python 3"
    },
    "accelerator": "GPU"
  },
  "cells": [
    {
      "cell_type": "markdown",
      "metadata": {
        "id": "view-in-github",
        "colab_type": "text"
      },
      "source": [
        "<a href=\"https://colab.research.google.com/github/IsinghGitHub/DAT210x/blob/master/Language_Translation.ipynb\" target=\"_parent\"><img src=\"https://colab.research.google.com/assets/colab-badge.svg\" alt=\"Open In Colab\"/></a>"
      ]
    },
    {
      "metadata": {
        "id": "4jirhTigG94S",
        "colab_type": "code",
        "colab": {}
      },
      "cell_type": "code",
      "source": [
        "# DataFrame\n",
        "import pandas as pd"
      ],
      "execution_count": 0,
      "outputs": []
    },
    {
      "metadata": {
        "id": "xi0dllZbG94b",
        "colab_type": "code",
        "colab": {}
      },
      "cell_type": "code",
      "source": [
        "# Matplot\n",
        "import matplotlib.pyplot as plt\n",
        "%matplotlib inline"
      ],
      "execution_count": 0,
      "outputs": []
    },
    {
      "metadata": {
        "id": "1cLWyV1qG94i",
        "colab_type": "code",
        "colab": {}
      },
      "cell_type": "code",
      "source": [
        "# Scikit-learn\n",
        "from sklearn.model_selection import train_test_split\n",
        "from sklearn.preprocessing import LabelEncoder\n",
        "from sklearn.metrics import confusion_matrix, classification_report, accuracy_score\n",
        "from sklearn.manifold import TSNE\n",
        "from sklearn.feature_extraction.text import TfidfVectorizer"
      ],
      "execution_count": 0,
      "outputs": []
    },
    {
      "metadata": {
        "id": "nb5uKpiVG94m",
        "colab_type": "code",
        "colab": {}
      },
      "cell_type": "code",
      "source": [
        "# Keras\n",
        "from keras.preprocessing.text import Tokenizer\n",
        "from keras.preprocessing.sequence import pad_sequences\n",
        "from keras.models import Sequential\n",
        "from keras.layers import (Activation, Dense, Dropout, Embedding, Flatten, Conv1D, MaxPooling1D)"
      ],
      "execution_count": 0,
      "outputs": []
    },
    {
      "metadata": {
        "id": "uNMKmvhnG94p",
        "colab_type": "code",
        "colab": {}
      },
      "cell_type": "code",
      "source": [
        "#LSTM\n",
        "from keras import utils\n",
        "from keras.callbacks import ReduceLROnPlateau, EarlyStopping\n"
      ],
      "execution_count": 0,
      "outputs": []
    },
    {
      "metadata": {
        "id": "-B1VjpFbG94s",
        "colab_type": "code",
        "colab": {}
      },
      "cell_type": "code",
      "source": [
        "# nltk\n",
        "import nltk\n",
        "from nltk.corpus import stopwords\n",
        "from  nltk.stem import SnowballStemmer"
      ],
      "execution_count": 0,
      "outputs": []
    },
    {
      "metadata": {
        "id": "Ca8kiqeKG94v",
        "colab_type": "code",
        "colab": {}
      },
      "cell_type": "code",
      "source": [
        "# Word2vec\n",
        "import gensim\n"
      ],
      "execution_count": 0,
      "outputs": []
    },
    {
      "metadata": {
        "id": "6jZFEiqwG94y",
        "colab_type": "code",
        "colab": {}
      },
      "cell_type": "code",
      "source": [
        "# Utility\n",
        "import re\n",
        "import numpy as np\n",
        "import os\n",
        "from collections import Counter\n",
        "import logging\n",
        "import time\n",
        "import pickle\n",
        "import itertools"
      ],
      "execution_count": 0,
      "outputs": []
    },
    {
      "metadata": {
        "id": "RaO8zOVDG942",
        "colab_type": "code",
        "colab": {}
      },
      "cell_type": "code",
      "source": [
        "# Set log\n",
        "logging.basicConfig(format='%(asctime)s : %(levelname)s : %(message)s', level=logging.INFO)"
      ],
      "execution_count": 0,
      "outputs": []
    },
    {
      "metadata": {
        "id": "YhvmE8GPG945",
        "colab_type": "code",
        "colab": {
          "base_uri": "https://localhost:8080/",
          "height": 68
        },
        "outputId": "718f9d86-da98-4a47-d5b5-b56162bc2a5e"
      },
      "cell_type": "code",
      "source": [
        "nltk.download('stopwords')"
      ],
      "execution_count": 52,
      "outputs": [
        {
          "output_type": "stream",
          "text": [
            "[nltk_data] Downloading package stopwords to /root/nltk_data...\n",
            "[nltk_data]   Package stopwords is already up-to-date!\n"
          ],
          "name": "stdout"
        },
        {
          "output_type": "execute_result",
          "data": {
            "text/plain": [
              "True"
            ]
          },
          "metadata": {
            "tags": []
          },
          "execution_count": 52
        }
      ]
    },
    {
      "metadata": {
        "id": "oE6ew2KdG95A",
        "colab_type": "text"
      },
      "cell_type": "markdown",
      "source": [
        "## Settings"
      ]
    },
    {
      "metadata": {
        "id": "sMNjiKU6G95B",
        "colab_type": "code",
        "colab": {}
      },
      "cell_type": "code",
      "source": [
        "# DATASET\n",
        "DATASET_COLUMNS = [\"target\", \"ids\", \"date\", \"flag\", \"user\", \"text\"]\n",
        "DATASET_ENCODING = \"ISO-8859-1\"\n",
        "TRAIN_SIZE = 0.8\n",
        "\n",
        "# TEXT CLENAING\n",
        "TEXT_CLEANING_RE = \"@\\S+|https?:\\S+|http?:\\S|[^A-Za-z0-9]+\"\n",
        "\n",
        "# WORD2VEC \n",
        "W2V_SIZE = 300\n",
        "W2V_WINDOW = 7\n",
        "W2V_EPOCH = 32\n",
        "W2V_MIN_COUNT = 10\n",
        "\n",
        "# KERAS\n",
        "SEQUENCE_LENGTH = 300\n",
        "EPOCHS = 8\n",
        "BATCH_SIZE = 1024\n",
        "\n",
        "# SENTIMENT\n",
        "POSITIVE = \"POSITIVE\"\n",
        "NEGATIVE = \"NEGATIVE\"\n",
        "NEUTRAL = \"NEUTRAL\"\n",
        "SENTIMENT_THRESHOLDS = (0.4, 0.7)\n",
        "\n",
        "# EXPORT\n",
        "KERAS_MODEL = \"model.h5\"\n",
        "WORD2VEC_MODEL = \"model.w2v\"\n",
        "TOKENIZER_MODEL = \"tokenizer.pkl\"\n",
        "ENCODER_MODEL = \"encoder.pkl\"\n"
      ],
      "execution_count": 0,
      "outputs": []
    },
    {
      "metadata": {
        "id": "ggQ0CnzVG95D",
        "colab_type": "text"
      },
      "cell_type": "markdown",
      "source": [
        "## Dataset details\n",
        "target: the polarity of the tweet (0 = negative, 2 = neutral, 4 = positive)\n",
        "\n",
        "ids: The id of the tweet ( 2087)\n",
        "\n",
        "date: the date of the tweet (Sat May 16 23:58:44 UTC 2009)\n",
        "\n",
        "flag: The query (lyx). If there is no query, then this value is NO_QUERY.\n",
        "\n",
        "user: the user that tweeted (robotickilldozr)\n",
        "\n",
        "text: the text of the tweet (Lyx is cool)"
      ]
    },
    {
      "metadata": {
        "id": "LXCt9ecbG95E",
        "colab_type": "text"
      },
      "cell_type": "markdown",
      "source": [
        "## Accessing file from OS "
      ]
    },
    {
      "metadata": {
        "id": "kzAqeMegG95F",
        "colab_type": "code",
        "colab": {}
      },
      "cell_type": "code",
      "source": [
        "import os, sys\n",
        "\n",
        "# Open a file\n",
        "#path = \"E:\\\\Documents\\\\Data_Science\\\\Analytics_vidya\\\\Sentiment_Analysis_Tweets\\\\tweeter_training_data\"\n",
        "#dirs = os.listdir( path )\n",
        "\n",
        "# This would print all the files and directories\n",
        "#for file in dirs:\n",
        "       #print (file)"
      ],
      "execution_count": 0,
      "outputs": []
    },
    {
      "metadata": {
        "id": "XNkJJXw8SW5u",
        "colab_type": "code",
        "colab": {
          "base_uri": "https://localhost:8080/",
          "height": 34
        },
        "outputId": "96dccbaa-1443-4e8c-f0a4-826b1be30e11"
      },
      "cell_type": "code",
      "source": [
        "from google.colab import drive\n",
        "drive.mount('/content/tweeter_data')\n"
      ],
      "execution_count": 55,
      "outputs": [
        {
          "output_type": "stream",
          "text": [
            "Drive already mounted at /content/tweeter_data; to attempt to forcibly remount, call drive.mount(\"/content/tweeter_data\", force_remount=True).\n"
          ],
          "name": "stdout"
        }
      ]
    },
    {
      "metadata": {
        "id": "Te7rY3L5WEdU",
        "colab_type": "code",
        "colab": {}
      },
      "cell_type": "code",
      "source": [
        "import os\n",
        "import gc\n",
        "#os.chdir('E:/')\n",
        "import warnings\n",
        "warnings.filterwarnings(\"ignore\")\n",
        "warnings.filterwarnings(\"ignore\", category=DeprecationWarning)"
      ],
      "execution_count": 0,
      "outputs": []
    },
    {
      "metadata": {
        "id": "hGKM2jXmWQYI",
        "colab_type": "code",
        "colab": {
          "base_uri": "https://localhost:8080/",
          "height": 34
        },
        "outputId": "4a6ac5e4-9600-4e06-bf46-c5d84593024d"
      },
      "cell_type": "code",
      "source": [
        "#Change the working directory\n",
        "os.chdir('/content/tweeter_data/My Drive/Collab_Projects/Sentiment_Analysis_Tweets/tweeter_training_data/')\n",
        "os.listdir()"
      ],
      "execution_count": 57,
      "outputs": [
        {
          "output_type": "execute_result",
          "data": {
            "text/plain": [
              "['tweeter_dataset_16M.csv']"
            ]
          },
          "metadata": {
            "tags": []
          },
          "execution_count": 57
        }
      ]
    },
    {
      "metadata": {
        "id": "1OP3yvo8XZAj",
        "colab_type": "code",
        "colab": {}
      },
      "cell_type": "code",
      "source": [
        "import pandas as pd\n",
        "import numpy as np\n",
        "import math\n",
        "import nltk\n",
        "import re \n",
        "from nltk.tokenize import word_tokenize\n",
        "from nltk.corpus import stopwords\n",
        "import string\n",
        "import tensorflow as tf\n",
        "from tensorflow.keras import backend as backend\n",
        "import codecs\n",
        "tf.set_random_seed(42)"
      ],
      "execution_count": 0,
      "outputs": []
    },
    {
      "metadata": {
        "id": "1_LAZqepXLvr",
        "colab_type": "code",
        "colab": {
          "base_uri": "https://localhost:8080/",
          "height": 54
        },
        "outputId": "8246ca2f-8d9a-4f00-dc15-cf0de78a21c5"
      },
      "cell_type": "code",
      "source": [
        "with codecs.open('tweeter_dataset_16M.csv', encoding=DATASET_ENCODING) as f:\n",
        "    texual_data = f.read()\n",
        "texual_data[0:200]"
      ],
      "execution_count": 59,
      "outputs": [
        {
          "output_type": "execute_result",
          "data": {
            "text/plain": [
              "'\"0\",\"1467810369\",\"Mon Apr 06 22:19:45 PDT 2009\",\"NO_QUERY\",\"_TheSpecialOne_\",\"@switchfoot http://twitpic.com/2y1zl - Awww, that\\'s a bummer.  You shoulda got David Carr of Third Day to do it. ;D\"\\n\"0\",\"'"
            ]
          },
          "metadata": {
            "tags": []
          },
          "execution_count": 59
        }
      ]
    },
    {
      "metadata": {
        "id": "6sENm0Bpj26G",
        "colab_type": "code",
        "colab": {}
      },
      "cell_type": "code",
      "source": [
        "from google.colab import files\n",
        "\n",
        "df = pd.read_csv('tweeter_dataset_16M.csv', encoding =DATASET_ENCODING , names=DATASET_COLUMNS)\n"
      ],
      "execution_count": 0,
      "outputs": []
    },
    {
      "metadata": {
        "id": "6HD6fVrmG95J",
        "colab_type": "code",
        "colab": {}
      },
      "cell_type": "code",
      "source": [
        "#import os,sys\n",
        "#path = 'E:\\\\Documents\\\\Data_Science\\\\Analytics_vidya\\\\Sentiment_Analysis_Tweets\\\\tweeter_training_data\\\\'\n",
        "#dataset_filename = os.listdir(path)[0]\n",
        "#path\n",
        "#dataset_filename"
      ],
      "execution_count": 0,
      "outputs": []
    },
    {
      "metadata": {
        "id": "N6nhWBh8G95N",
        "colab_type": "code",
        "colab": {}
      },
      "cell_type": "code",
      "source": [
        "#dataset_path = os.path.join(path,dataset_filename)"
      ],
      "execution_count": 0,
      "outputs": []
    },
    {
      "metadata": {
        "scrolled": true,
        "id": "l7kBnmMMG95R",
        "colab_type": "code",
        "colab": {}
      },
      "cell_type": "code",
      "source": [
        "#df = pd.read_csv(dataset_path, encoding =DATASET_ENCODING , names=DATASET_COLUMNS)"
      ],
      "execution_count": 0,
      "outputs": []
    },
    {
      "metadata": {
        "id": "kTh0HmBwG95U",
        "colab_type": "code",
        "colab": {
          "base_uri": "https://localhost:8080/",
          "height": 34
        },
        "outputId": "c53f298b-2ae2-41ef-9527-1a5cae3e91f5"
      },
      "cell_type": "code",
      "source": [
        "print(\"Dataset size:\", len(df))"
      ],
      "execution_count": 64,
      "outputs": [
        {
          "output_type": "stream",
          "text": [
            "Dataset size: 1600000\n"
          ],
          "name": "stdout"
        }
      ]
    },
    {
      "metadata": {
        "id": "aJXUsgOyG95n",
        "colab_type": "text"
      },
      "cell_type": "markdown",
      "source": [
        "## Map target label to String\n",
        "0 -> NEGATIVE\n",
        "2 -> NEUTRAL\n",
        "4 -> POSITIVE"
      ]
    },
    {
      "metadata": {
        "id": "6Wj-fh6gG95o",
        "colab_type": "code",
        "colab": {}
      },
      "cell_type": "code",
      "source": [
        "decode_map = {0: \"NEGATIVE\", 2: \"NEUTRAL\", 4: \"POSITIVE\"}\n",
        "def decode_sentiment(label):\n",
        "    return decode_map[int(label)]"
      ],
      "execution_count": 0,
      "outputs": []
    },
    {
      "metadata": {
        "id": "xfhnp2kGG95q",
        "colab_type": "code",
        "colab": {
          "base_uri": "https://localhost:8080/",
          "height": 51
        },
        "outputId": "35278ccc-01f0-4223-b25e-21805b53b959"
      },
      "cell_type": "code",
      "source": [
        "%%time\n",
        "df.target = df.target.apply(lambda x: decode_sentiment(x))"
      ],
      "execution_count": 66,
      "outputs": [
        {
          "output_type": "stream",
          "text": [
            "CPU times: user 682 ms, sys: 5.17 ms, total: 687 ms\n",
            "Wall time: 697 ms\n"
          ],
          "name": "stdout"
        }
      ]
    },
    {
      "metadata": {
        "id": "KyuTiTW8G95u",
        "colab_type": "code",
        "colab": {
          "base_uri": "https://localhost:8080/",
          "height": 515
        },
        "outputId": "5775fb9b-f1e7-4c59-dea2-c83305053289"
      },
      "cell_type": "code",
      "source": [
        "target_cnt = Counter(df.target)\n",
        "\n",
        "plt.figure(figsize=(16,8))\n",
        "plt.bar(target_cnt.keys(), target_cnt.values())\n",
        "plt.title(\"Dataset labels distribuition\")"
      ],
      "execution_count": 67,
      "outputs": [
        {
          "output_type": "execute_result",
          "data": {
            "text/plain": [
              "Text(0.5, 1.0, 'Dataset labels distribuition')"
            ]
          },
          "metadata": {
            "tags": []
          },
          "execution_count": 67
        },
        {
          "output_type": "display_data",
          "data": {
            "image/png": "[encoded data removed]",
            "text/plain": [
              "<Figure size 1152x576 with 1 Axes>"
            ]
          },
          "metadata": {
            "tags": []
          }
        }
      ]
    },
    {
      "metadata": {
        "id": "PgGrsmJPG95y",
        "colab_type": "text"
      },
      "cell_type": "markdown",
      "source": [
        "## Pre-Process dataset"
      ]
    },
    {
      "metadata": {
        "id": "9YNUFlEuG950",
        "colab_type": "code",
        "colab": {}
      },
      "cell_type": "code",
      "source": [
        "stop_words = stopwords.words(\"english\")\n",
        "stemmer = SnowballStemmer(\"english\")"
      ],
      "execution_count": 0,
      "outputs": []
    },
    {
      "metadata": {
        "id": "J3vP-etOG952",
        "colab_type": "code",
        "colab": {}
      },
      "cell_type": "code",
      "source": [
        "def preprocess(text, stem=False):\n",
        "    # Remove link,user and special characters\n",
        "    text = re.sub(TEXT_CLEANING_RE, ' ', str(text).lower()).strip()\n",
        "    tokens = []\n",
        "    for token in text.split():\n",
        "        if token not in stop_words:\n",
        "            if stem:\n",
        "                tokens.append(stemmer.stem(token))\n",
        "            else:\n",
        "                tokens.append(token)\n",
        "    return \" \".join(tokens)"
      ],
      "execution_count": 0,
      "outputs": []
    },
    {
      "metadata": {
        "id": "bqEZII9xG959",
        "colab_type": "code",
        "colab": {
          "base_uri": "https://localhost:8080/",
          "height": 51
        },
        "outputId": "f314586a-25bf-4392-f055-093bd6c4f627"
      },
      "cell_type": "code",
      "source": [
        "%%time\n",
        "df.text = df.text.apply(lambda x: preprocess(x))"
      ],
      "execution_count": 70,
      "outputs": [
        {
          "output_type": "stream",
          "text": [
            "CPU times: user 49.3 s, sys: 129 ms, total: 49.4 s\n",
            "Wall time: 49.5 s\n"
          ],
          "name": "stdout"
        }
      ]
    },
    {
      "metadata": {
        "id": "D_SpukxDG96C",
        "colab_type": "text"
      },
      "cell_type": "markdown",
      "source": [
        "## Split train and test"
      ]
    },
    {
      "metadata": {
        "id": "JGvHr4PLG96D",
        "colab_type": "code",
        "colab": {
          "base_uri": "https://localhost:8080/",
          "height": 51
        },
        "outputId": "4293dbf8-31fb-4f4a-de8b-342348c507e4"
      },
      "cell_type": "code",
      "source": [
        "df_train, df_test = train_test_split(df, test_size=1-TRAIN_SIZE, random_state=42)\n",
        "print(\"TRAIN size:\", len(df_train))\n",
        "print(\"TEST size:\", len(df_test))"
      ],
      "execution_count": 71,
      "outputs": [
        {
          "output_type": "stream",
          "text": [
            "TRAIN size: 1280000\n",
            "TEST size: 320000\n"
          ],
          "name": "stdout"
        }
      ]
    },
    {
      "metadata": {
        "id": "YjzUlbKqG96J",
        "colab_type": "text"
      },
      "cell_type": "markdown",
      "source": [
        "## Word2Vec"
      ]
    },
    {
      "metadata": {
        "id": "LyLBUzCGG96L",
        "colab_type": "code",
        "colab": {
          "base_uri": "https://localhost:8080/",
          "height": 51
        },
        "outputId": "3860a74d-0c43-4d6d-d9ca-7e377a4c17b9"
      },
      "cell_type": "code",
      "source": [
        "%%time\n",
        "documents = [_text.split() for _text in df_train.text] "
      ],
      "execution_count": 72,
      "outputs": [
        {
          "output_type": "stream",
          "text": [
            "CPU times: user 3.4 s, sys: 303 ms, total: 3.7 s\n",
            "Wall time: 3.71 s\n"
          ],
          "name": "stdout"
        }
      ]
    },
    {
      "metadata": {
        "id": "YYVeAM7IG96Q",
        "colab_type": "code",
        "colab": {}
      },
      "cell_type": "code",
      "source": [
        "w2v_model = gensim.models.word2vec.Word2Vec(size=W2V_SIZE, \n",
        "                                            window=W2V_WINDOW, \n",
        "                                            min_count=W2V_MIN_COUNT, \n",
        "                                            workers=8)"
      ],
      "execution_count": 0,
      "outputs": []
    },
    {
      "metadata": {
        "id": "jdtjOeDKG96T",
        "colab_type": "code",
        "colab": {
          "base_uri": "https://localhost:8080/",
          "height": 2363
        },
        "outputId": "75700424-cbcd-4424-f4b1-0457a0cefa01"
      },
      "cell_type": "code",
      "source": [
        "w2v_model.build_vocab(documents)"
      ],
      "execution_count": 74,
      "outputs": [
        {
          "output_type": "stream",
          "text": [
            "2019-02-21 10:23:25,685 : INFO : collecting all words and their counts\n",
            "2019-02-21 10:23:25,688 : INFO : PROGRESS: at sentence #0, processed 0 words, keeping 0 word types\n",
            "2019-02-21 10:23:25,720 : INFO : PROGRESS: at sentence #10000, processed 72565 words, keeping 14005 word types\n",
            "2019-02-21 10:23:25,747 : INFO : PROGRESS: at sentence #20000, processed 144393 words, keeping 21587 word types\n",
            "2019-02-21 10:23:25,773 : INFO : PROGRESS: at sentence #30000, processed 215826 words, keeping 27541 word types\n",
            "2019-02-21 10:23:25,799 : INFO : PROGRESS: at sentence #40000, processed 288271 words, keeping 32764 word types\n",
            "2019-02-21 10:23:25,825 : INFO : PROGRESS: at sentence #50000, processed 359772 words, keeping 37587 word types\n",
            "2019-02-21 10:23:25,852 : INFO : PROGRESS: at sentence #60000, processed 431431 words, keeping 42198 word types\n",
            "2019-02-21 10:23:25,880 : INFO : PROGRESS: at sentence #70000, processed 503103 words, keeping 46458 word types\n",
            "2019-02-21 10:23:25,908 : INFO : PROGRESS: at sentence #80000, processed 575709 words, keeping 50476 word types\n",
            "2019-02-21 10:23:25,935 : INFO : PROGRESS: at sentence #90000, processed 647100 words, keeping 54140 word types\n",
            "2019-02-21 10:23:25,963 : INFO : PROGRESS: at sentence #100000, processed 718681 words, keeping 57777 word types\n",
            "2019-02-21 10:23:25,993 : INFO : PROGRESS: at sentence #110000, processed 790696 words, keeping 61207 word types\n",
            "2019-02-21 10:23:26,021 : INFO : PROGRESS: at sentence #120000, processed 863134 words, keeping 64583 word types\n",
            "2019-02-21 10:23:26,049 : INFO : PROGRESS: at sentence #130000, processed 935111 words, keeping 67865 word types\n",
            "2019-02-21 10:23:26,076 : INFO : PROGRESS: at sentence #140000, processed 1006668 words, keeping 70966 word types\n",
            "2019-02-21 10:23:26,104 : INFO : PROGRESS: at sentence #150000, processed 1078512 words, keeping 74119 word types\n",
            "2019-02-21 10:23:26,131 : INFO : PROGRESS: at sentence #160000, processed 1149914 words, keeping 77187 word types\n",
            "2019-02-21 10:23:26,160 : INFO : PROGRESS: at sentence #170000, processed 1222145 words, keeping 80267 word types\n",
            "2019-02-21 10:23:26,189 : INFO : PROGRESS: at sentence #180000, processed 1294708 words, keeping 83393 word types\n",
            "2019-02-21 10:23:26,219 : INFO : PROGRESS: at sentence #190000, processed 1367608 words, keeping 86329 word types\n",
            "2019-02-21 10:23:26,249 : INFO : PROGRESS: at sentence #200000, processed 1439469 words, keeping 89103 word types\n",
            "2019-02-21 10:23:26,275 : INFO : PROGRESS: at sentence #210000, processed 1512099 words, keeping 91840 word types\n",
            "2019-02-21 10:23:26,302 : INFO : PROGRESS: at sentence #220000, processed 1584149 words, keeping 94636 word types\n",
            "2019-02-21 10:23:26,328 : INFO : PROGRESS: at sentence #230000, processed 1656354 words, keeping 97353 word types\n",
            "2019-02-21 10:23:26,355 : INFO : PROGRESS: at sentence #240000, processed 1728573 words, keeping 99975 word types\n",
            "2019-02-21 10:23:26,384 : INFO : PROGRESS: at sentence #250000, processed 1801102 words, keeping 102594 word types\n",
            "2019-02-21 10:23:26,411 : INFO : PROGRESS: at sentence #260000, processed 1873103 words, keeping 105162 word types\n",
            "2019-02-21 10:23:26,441 : INFO : PROGRESS: at sentence #270000, processed 1945245 words, keeping 107626 word types\n",
            "2019-02-21 10:23:26,471 : INFO : PROGRESS: at sentence #280000, processed 2017163 words, keeping 110141 word types\n",
            "2019-02-21 10:23:26,499 : INFO : PROGRESS: at sentence #290000, processed 2089574 words, keeping 112539 word types\n",
            "2019-02-21 10:23:26,527 : INFO : PROGRESS: at sentence #300000, processed 2160996 words, keeping 114893 word types\n",
            "2019-02-21 10:23:26,555 : INFO : PROGRESS: at sentence #310000, processed 2232913 words, keeping 117298 word types\n",
            "2019-02-21 10:23:26,582 : INFO : PROGRESS: at sentence #320000, processed 2305039 words, keeping 119693 word types\n",
            "2019-02-21 10:23:26,612 : INFO : PROGRESS: at sentence #330000, processed 2377119 words, keeping 122131 word types\n",
            "2019-02-21 10:23:26,639 : INFO : PROGRESS: at sentence #340000, processed 2449370 words, keeping 124416 word types\n",
            "2019-02-21 10:23:26,669 : INFO : PROGRESS: at sentence #350000, processed 2521564 words, keeping 126669 word types\n",
            "2019-02-21 10:23:26,698 : INFO : PROGRESS: at sentence #360000, processed 2593681 words, keeping 128912 word types\n",
            "2019-02-21 10:23:26,729 : INFO : PROGRESS: at sentence #370000, processed 2665692 words, keeping 131135 word types\n",
            "2019-02-21 10:23:26,758 : INFO : PROGRESS: at sentence #380000, processed 2737859 words, keeping 133403 word types\n",
            "2019-02-21 10:23:26,788 : INFO : PROGRESS: at sentence #390000, processed 2809848 words, keeping 135551 word types\n",
            "2019-02-21 10:23:26,814 : INFO : PROGRESS: at sentence #400000, processed 2882438 words, keeping 137742 word types\n",
            "2019-02-21 10:23:26,842 : INFO : PROGRESS: at sentence #410000, processed 2954075 words, keeping 139909 word types\n",
            "2019-02-21 10:23:26,872 : INFO : PROGRESS: at sentence #420000, processed 3026247 words, keeping 142144 word types\n",
            "2019-02-21 10:23:26,899 : INFO : PROGRESS: at sentence #430000, processed 3098659 words, keeping 144364 word types\n",
            "2019-02-21 10:23:26,927 : INFO : PROGRESS: at sentence #440000, processed 3170663 words, keeping 146439 word types\n",
            "2019-02-21 10:23:26,955 : INFO : PROGRESS: at sentence #450000, processed 3243344 words, keeping 148526 word types\n",
            "2019-02-21 10:23:26,985 : INFO : PROGRESS: at sentence #460000, processed 3315466 words, keeping 150610 word types\n",
            "2019-02-21 10:23:27,013 : INFO : PROGRESS: at sentence #470000, processed 3388295 words, keeping 152737 word types\n",
            "2019-02-21 10:23:27,040 : INFO : PROGRESS: at sentence #480000, processed 3460120 words, keeping 154757 word types\n",
            "2019-02-21 10:23:27,068 : INFO : PROGRESS: at sentence #490000, processed 3531883 words, keeping 156825 word types\n",
            "2019-02-21 10:23:27,096 : INFO : PROGRESS: at sentence #500000, processed 3604217 words, keeping 158859 word types\n",
            "2019-02-21 10:23:27,124 : INFO : PROGRESS: at sentence #510000, processed 3676427 words, keeping 160852 word types\n",
            "2019-02-21 10:23:27,152 : INFO : PROGRESS: at sentence #520000, processed 3749045 words, keeping 162863 word types\n",
            "2019-02-21 10:23:27,180 : INFO : PROGRESS: at sentence #530000, processed 3821622 words, keeping 164929 word types\n",
            "2019-02-21 10:23:27,208 : INFO : PROGRESS: at sentence #540000, processed 3893627 words, keeping 166840 word types\n",
            "2019-02-21 10:23:27,236 : INFO : PROGRESS: at sentence #550000, processed 3965477 words, keeping 168799 word types\n",
            "2019-02-21 10:23:27,266 : INFO : PROGRESS: at sentence #560000, processed 4038050 words, keeping 170802 word types\n",
            "2019-02-21 10:23:27,294 : INFO : PROGRESS: at sentence #570000, processed 4110296 words, keeping 172760 word types\n",
            "2019-02-21 10:23:27,324 : INFO : PROGRESS: at sentence #580000, processed 4182385 words, keeping 174635 word types\n",
            "2019-02-21 10:23:27,355 : INFO : PROGRESS: at sentence #590000, processed 4254632 words, keeping 176470 word types\n",
            "2019-02-21 10:23:27,385 : INFO : PROGRESS: at sentence #600000, processed 4326859 words, keeping 178350 word types\n",
            "2019-02-21 10:23:27,412 : INFO : PROGRESS: at sentence #610000, processed 4399183 words, keeping 180290 word types\n",
            "2019-02-21 10:23:27,440 : INFO : PROGRESS: at sentence #620000, processed 4471343 words, keeping 182129 word types\n",
            "2019-02-21 10:23:27,473 : INFO : PROGRESS: at sentence #630000, processed 4543286 words, keeping 184005 word types\n",
            "2019-02-21 10:23:27,504 : INFO : PROGRESS: at sentence #640000, processed 4615780 words, keeping 185835 word types\n",
            "2019-02-21 10:23:27,533 : INFO : PROGRESS: at sentence #650000, processed 4688481 words, keeping 187705 word types\n",
            "2019-02-21 10:23:27,560 : INFO : PROGRESS: at sentence #660000, processed 4760481 words, keeping 189439 word types\n",
            "2019-02-21 10:23:27,592 : INFO : PROGRESS: at sentence #670000, processed 4833024 words, keeping 191232 word types\n",
            "2019-02-21 10:23:27,622 : INFO : PROGRESS: at sentence #680000, processed 4904516 words, keeping 193177 word types\n",
            "2019-02-21 10:23:27,650 : INFO : PROGRESS: at sentence #690000, processed 4976968 words, keeping 194960 word types\n",
            "2019-02-21 10:23:27,679 : INFO : PROGRESS: at sentence #700000, processed 5049412 words, keeping 196725 word types\n",
            "2019-02-21 10:23:27,706 : INFO : PROGRESS: at sentence #710000, processed 5121976 words, keeping 198516 word types\n",
            "2019-02-21 10:23:27,734 : INFO : PROGRESS: at sentence #720000, processed 5193881 words, keeping 200325 word types\n",
            "2019-02-21 10:23:27,763 : INFO : PROGRESS: at sentence #730000, processed 5265467 words, keeping 202133 word types\n",
            "2019-02-21 10:23:27,793 : INFO : PROGRESS: at sentence #740000, processed 5337518 words, keeping 203818 word types\n",
            "2019-02-21 10:23:27,821 : INFO : PROGRESS: at sentence #750000, processed 5409321 words, keeping 205535 word types\n",
            "2019-02-21 10:23:27,848 : INFO : PROGRESS: at sentence #760000, processed 5481512 words, keeping 207282 word types\n",
            "2019-02-21 10:23:27,880 : INFO : PROGRESS: at sentence #770000, processed 5554093 words, keeping 209076 word types\n",
            "2019-02-21 10:23:27,908 : INFO : PROGRESS: at sentence #780000, processed 5625382 words, keeping 210805 word types\n",
            "2019-02-21 10:23:27,935 : INFO : PROGRESS: at sentence #790000, processed 5698066 words, keeping 212618 word types\n",
            "2019-02-21 10:23:27,963 : INFO : PROGRESS: at sentence #800000, processed 5770880 words, keeping 214374 word types\n",
            "2019-02-21 10:23:27,993 : INFO : PROGRESS: at sentence #810000, processed 5843418 words, keeping 216009 word types\n",
            "2019-02-21 10:23:28,019 : INFO : PROGRESS: at sentence #820000, processed 5915628 words, keeping 217804 word types\n",
            "2019-02-21 10:23:28,048 : INFO : PROGRESS: at sentence #830000, processed 5987499 words, keeping 219585 word types\n",
            "2019-02-21 10:23:28,079 : INFO : PROGRESS: at sentence #840000, processed 6058973 words, keeping 221344 word types\n",
            "2019-02-21 10:23:28,106 : INFO : PROGRESS: at sentence #850000, processed 6131125 words, keeping 223002 word types\n",
            "2019-02-21 10:23:28,135 : INFO : PROGRESS: at sentence #860000, processed 6202951 words, keeping 224643 word types\n",
            "2019-02-21 10:23:28,165 : INFO : PROGRESS: at sentence #870000, processed 6275461 words, keeping 226362 word types\n",
            "2019-02-21 10:23:28,193 : INFO : PROGRESS: at sentence #880000, processed 6347661 words, keeping 227986 word types\n",
            "2019-02-21 10:23:28,220 : INFO : PROGRESS: at sentence #890000, processed 6419806 words, keeping 229634 word types\n",
            "2019-02-21 10:23:28,249 : INFO : PROGRESS: at sentence #900000, processed 6491644 words, keeping 231389 word types\n",
            "2019-02-21 10:23:28,277 : INFO : PROGRESS: at sentence #910000, processed 6564022 words, keeping 233050 word types\n",
            "2019-02-21 10:23:28,305 : INFO : PROGRESS: at sentence #920000, processed 6636228 words, keeping 234686 word types\n",
            "2019-02-21 10:23:28,332 : INFO : PROGRESS: at sentence #930000, processed 6708573 words, keeping 236393 word types\n",
            "2019-02-21 10:23:28,363 : INFO : PROGRESS: at sentence #940000, processed 6779956 words, keeping 238052 word types\n",
            "2019-02-21 10:23:28,392 : INFO : PROGRESS: at sentence #950000, processed 6852599 words, keeping 239716 word types\n",
            "2019-02-21 10:23:28,420 : INFO : PROGRESS: at sentence #960000, processed 6924717 words, keeping 241354 word types\n",
            "2019-02-21 10:23:28,449 : INFO : PROGRESS: at sentence #970000, processed 6996992 words, keeping 242980 word types\n",
            "2019-02-21 10:23:28,481 : INFO : PROGRESS: at sentence #980000, processed 7068402 words, keeping 244646 word types\n",
            "2019-02-21 10:23:28,513 : INFO : PROGRESS: at sentence #990000, processed 7140346 words, keeping 246186 word types\n",
            "2019-02-21 10:23:28,541 : INFO : PROGRESS: at sentence #1000000, processed 7211757 words, keeping 247726 word types\n",
            "2019-02-21 10:23:28,573 : INFO : PROGRESS: at sentence #1010000, processed 7283267 words, keeping 249288 word types\n",
            "2019-02-21 10:23:28,601 : INFO : PROGRESS: at sentence #1020000, processed 7355299 words, keeping 250860 word types\n",
            "2019-02-21 10:23:28,629 : INFO : PROGRESS: at sentence #1030000, processed 7426918 words, keeping 252366 word types\n",
            "2019-02-21 10:23:28,661 : INFO : PROGRESS: at sentence #1040000, processed 7498815 words, keeping 253930 word types\n",
            "2019-02-21 10:23:28,689 : INFO : PROGRESS: at sentence #1050000, processed 7570499 words, keeping 255471 word types\n",
            "2019-02-21 10:23:28,717 : INFO : PROGRESS: at sentence #1060000, processed 7643251 words, keeping 257035 word types\n",
            "2019-02-21 10:23:28,748 : INFO : PROGRESS: at sentence #1070000, processed 7714721 words, keeping 258509 word types\n",
            "2019-02-21 10:23:28,776 : INFO : PROGRESS: at sentence #1080000, processed 7787371 words, keeping 260071 word types\n",
            "2019-02-21 10:23:28,806 : INFO : PROGRESS: at sentence #1090000, processed 7859336 words, keeping 261683 word types\n",
            "2019-02-21 10:23:28,834 : INFO : PROGRESS: at sentence #1100000, processed 7932029 words, keeping 263278 word types\n",
            "2019-02-21 10:23:28,865 : INFO : PROGRESS: at sentence #1110000, processed 8004146 words, keeping 264800 word types\n",
            "2019-02-21 10:23:28,893 : INFO : PROGRESS: at sentence #1120000, processed 8075880 words, keeping 266309 word types\n",
            "2019-02-21 10:23:28,923 : INFO : PROGRESS: at sentence #1130000, processed 8148163 words, keeping 267826 word types\n",
            "2019-02-21 10:23:28,952 : INFO : PROGRESS: at sentence #1140000, processed 8220487 words, keeping 269391 word types\n",
            "2019-02-21 10:23:28,981 : INFO : PROGRESS: at sentence #1150000, processed 8292498 words, keeping 270894 word types\n",
            "2019-02-21 10:23:29,009 : INFO : PROGRESS: at sentence #1160000, processed 8363838 words, keeping 272400 word types\n",
            "2019-02-21 10:23:29,038 : INFO : PROGRESS: at sentence #1170000, processed 8435510 words, keeping 273970 word types\n",
            "2019-02-21 10:23:29,066 : INFO : PROGRESS: at sentence #1180000, processed 8507795 words, keeping 275521 word types\n",
            "2019-02-21 10:23:29,098 : INFO : PROGRESS: at sentence #1190000, processed 8579080 words, keeping 277007 word types\n",
            "2019-02-21 10:23:29,126 : INFO : PROGRESS: at sentence #1200000, processed 8650606 words, keeping 278457 word types\n",
            "2019-02-21 10:23:29,157 : INFO : PROGRESS: at sentence #1210000, processed 8721893 words, keeping 279959 word types\n",
            "2019-02-21 10:23:29,188 : INFO : PROGRESS: at sentence #1220000, processed 8793795 words, keeping 281427 word types\n",
            "2019-02-21 10:23:29,215 : INFO : PROGRESS: at sentence #1230000, processed 8865726 words, keeping 282981 word types\n",
            "2019-02-21 10:23:29,244 : INFO : PROGRESS: at sentence #1240000, processed 8938173 words, keeping 284542 word types\n",
            "2019-02-21 10:23:29,275 : INFO : PROGRESS: at sentence #1250000, processed 9010842 words, keeping 286064 word types\n",
            "2019-02-21 10:23:29,304 : INFO : PROGRESS: at sentence #1260000, processed 9083261 words, keeping 287521 word types\n",
            "2019-02-21 10:23:29,332 : INFO : PROGRESS: at sentence #1270000, processed 9155616 words, keeping 288987 word types\n",
            "2019-02-21 10:23:29,363 : INFO : collected 290418 word types from a corpus of 9227204 raw words and 1280000 sentences\n",
            "2019-02-21 10:23:29,364 : INFO : Loading a fresh vocabulary\n",
            "2019-02-21 10:23:29,559 : INFO : effective_min_count=10 retains 30369 unique words (10% of original 290418, drops 260049)\n",
            "2019-02-21 10:23:29,560 : INFO : effective_min_count=10 leaves 8780739 word corpus (95% of original 9227204, drops 446465)\n",
            "2019-02-21 10:23:29,654 : INFO : deleting the raw counts dictionary of 290418 items\n",
            "2019-02-21 10:23:29,662 : INFO : sample=0.001 downsamples 45 most-common words\n",
            "2019-02-21 10:23:29,663 : INFO : downsampling leaves estimated 8222658 word corpus (93.6% of prior 8780739)\n",
            "2019-02-21 10:23:29,745 : INFO : estimated required memory for 30369 words and 300 dimensions: 88070100 bytes\n",
            "2019-02-21 10:23:29,746 : INFO : resetting layer weights\n"
          ],
          "name": "stderr"
        }
      ]
    },
    {
      "metadata": {
        "id": "rzARITtvG96W",
        "colab_type": "code",
        "colab": {
          "base_uri": "https://localhost:8080/",
          "height": 34
        },
        "outputId": "6b05ae86-2869-41c2-a661-f6d89ea12627"
      },
      "cell_type": "code",
      "source": [
        "words  = w2v_model.wv.vocab.keys()\n",
        "vocab_size = len(words)\n",
        "print(\"Vocab size\", vocab_size)"
      ],
      "execution_count": 75,
      "outputs": [
        {
          "output_type": "stream",
          "text": [
            "Vocab size 30369\n"
          ],
          "name": "stdout"
        }
      ]
    },
    {
      "metadata": {
        "id": "QfM_WVfQG96Z",
        "colab_type": "code",
        "colab": {
          "base_uri": "https://localhost:8080/",
          "height": 15861
        },
        "outputId": "838cdf3e-a227-4d85-c5e9-242200668256"
      },
      "cell_type": "code",
      "source": [
        "%%time\n",
        "w2v_model.train(documents, total_examples=len(documents), epochs=W2V_EPOCH)"
      ],
      "execution_count": 76,
      "outputs": [
        {
          "output_type": "stream",
          "text": [
            "2019-02-21 10:23:30,167 : INFO : training model with 8 workers on 30369 vocabulary and 300 features, using sg=0 hs=0 sample=0.001 negative=5 window=7\n",
            "2019-02-21 10:23:31,290 : INFO : EPOCH 1 - PROGRESS: at 4.45% examples, 331976 words/s, in_qsize 13, out_qsize 2\n",
            "2019-02-21 10:23:32,304 : INFO : EPOCH 1 - PROGRESS: at 9.23% examples, 358184 words/s, in_qsize 14, out_qsize 5\n",
            "2019-02-21 10:23:33,403 : INFO : EPOCH 1 - PROGRESS: at 14.54% examples, 371606 words/s, in_qsize 15, out_qsize 0\n",
            "2019-02-21 10:23:34,435 : INFO : EPOCH 1 - PROGRESS: at 19.73% examples, 381985 words/s, in_qsize 16, out_qsize 0\n",
            "2019-02-21 10:23:35,524 : INFO : EPOCH 1 - PROGRESS: at 24.72% examples, 380900 words/s, in_qsize 16, out_qsize 0\n",
            "2019-02-21 10:23:36,580 : INFO : EPOCH 1 - PROGRESS: at 29.80% examples, 384148 words/s, in_qsize 14, out_qsize 1\n",
            "2019-02-21 10:23:37,597 : INFO : EPOCH 1 - PROGRESS: at 34.68% examples, 384949 words/s, in_qsize 14, out_qsize 1\n",
            "2019-02-21 10:23:38,597 : INFO : EPOCH 1 - PROGRESS: at 39.43% examples, 385767 words/s, in_qsize 16, out_qsize 0\n",
            "2019-02-21 10:23:39,653 : INFO : EPOCH 1 - PROGRESS: at 44.62% examples, 387869 words/s, in_qsize 15, out_qsize 0\n",
            "2019-02-21 10:23:40,754 : INFO : EPOCH 1 - PROGRESS: at 49.59% examples, 386270 words/s, in_qsize 15, out_qsize 0\n",
            "2019-02-21 10:23:41,857 : INFO : EPOCH 1 - PROGRESS: at 54.89% examples, 387181 words/s, in_qsize 15, out_qsize 0\n",
            "2019-02-21 10:23:42,866 : INFO : EPOCH 1 - PROGRESS: at 60.19% examples, 390810 words/s, in_qsize 15, out_qsize 0\n",
            "2019-02-21 10:23:43,886 : INFO : EPOCH 1 - PROGRESS: at 64.84% examples, 389670 words/s, in_qsize 16, out_qsize 0\n",
            "2019-02-21 10:23:44,951 : INFO : EPOCH 1 - PROGRESS: at 69.72% examples, 388708 words/s, in_qsize 16, out_qsize 0\n",
            "2019-02-21 10:23:46,088 : INFO : EPOCH 1 - PROGRESS: at 74.92% examples, 388113 words/s, in_qsize 16, out_qsize 7\n",
            "2019-02-21 10:23:47,107 : INFO : EPOCH 1 - PROGRESS: at 80.03% examples, 389179 words/s, in_qsize 12, out_qsize 3\n",
            "2019-02-21 10:23:48,136 : INFO : EPOCH 1 - PROGRESS: at 85.13% examples, 390197 words/s, in_qsize 15, out_qsize 0\n",
            "2019-02-21 10:23:49,157 : INFO : EPOCH 1 - PROGRESS: at 89.89% examples, 389849 words/s, in_qsize 15, out_qsize 0\n",
            "2019-02-21 10:23:50,168 : INFO : EPOCH 1 - PROGRESS: at 94.91% examples, 390619 words/s, in_qsize 15, out_qsize 0\n",
            "2019-02-21 10:23:51,097 : INFO : worker thread finished; awaiting finish of 7 more threads\n",
            "2019-02-21 10:23:51,105 : INFO : worker thread finished; awaiting finish of 6 more threads\n",
            "2019-02-21 10:23:51,118 : INFO : worker thread finished; awaiting finish of 5 more threads\n",
            "2019-02-21 10:23:51,131 : INFO : worker thread finished; awaiting finish of 4 more threads\n",
            "2019-02-21 10:23:51,144 : INFO : worker thread finished; awaiting finish of 3 more threads\n",
            "2019-02-21 10:23:51,150 : INFO : worker thread finished; awaiting finish of 2 more threads\n",
            "2019-02-21 10:23:51,161 : INFO : worker thread finished; awaiting finish of 1 more threads\n",
            "2019-02-21 10:23:51,174 : INFO : EPOCH 1 - PROGRESS: at 100.00% examples, 391898 words/s, in_qsize 0, out_qsize 1\n",
            "2019-02-21 10:23:51,175 : INFO : worker thread finished; awaiting finish of 0 more threads\n",
            "2019-02-21 10:23:51,176 : INFO : EPOCH - 1 : training on 9227204 raw words (8223355 effective words) took 21.0s, 391852 effective words/s\n",
            "2019-02-21 10:23:52,240 : INFO : EPOCH 2 - PROGRESS: at 4.45% examples, 347895 words/s, in_qsize 15, out_qsize 0\n",
            "2019-02-21 10:23:53,251 : INFO : EPOCH 2 - PROGRESS: at 9.23% examples, 367687 words/s, in_qsize 14, out_qsize 1\n",
            "2019-02-21 10:23:54,301 : INFO : EPOCH 2 - PROGRESS: at 14.54% examples, 383911 words/s, in_qsize 14, out_qsize 1\n",
            "2019-02-21 10:23:55,319 : INFO : EPOCH 2 - PROGRESS: at 19.19% examples, 381932 words/s, in_qsize 15, out_qsize 0\n",
            "2019-02-21 10:23:56,386 : INFO : EPOCH 2 - PROGRESS: at 24.29% examples, 384181 words/s, in_qsize 15, out_qsize 0\n",
            "2019-02-21 10:23:57,462 : INFO : EPOCH 2 - PROGRESS: at 29.27% examples, 383504 words/s, in_qsize 14, out_qsize 1\n",
            "2019-02-21 10:23:58,526 : INFO : EPOCH 2 - PROGRESS: at 34.46% examples, 386134 words/s, in_qsize 15, out_qsize 0\n",
            "2019-02-21 10:23:59,543 : INFO : EPOCH 2 - PROGRESS: at 39.32% examples, 387097 words/s, in_qsize 15, out_qsize 0\n",
            "2019-02-21 10:24:00,618 : INFO : EPOCH 2 - PROGRESS: at 44.29% examples, 386420 words/s, in_qsize 15, out_qsize 0\n",
            "2019-02-21 10:24:01,621 : INFO : EPOCH 2 - PROGRESS: at 49.27% examples, 388545 words/s, in_qsize 16, out_qsize 0\n",
            "2019-02-21 10:24:02,642 : INFO : EPOCH 2 - PROGRESS: at 54.03% examples, 388145 words/s, in_qsize 15, out_qsize 0\n",
            "2019-02-21 10:24:03,702 : INFO : EPOCH 2 - PROGRESS: at 58.69% examples, 386001 words/s, in_qsize 15, out_qsize 1\n",
            "2019-02-21 10:24:04,732 : INFO : EPOCH 2 - PROGRESS: at 63.75% examples, 387450 words/s, in_qsize 16, out_qsize 0\n",
            "2019-02-21 10:24:05,756 : INFO : EPOCH 2 - PROGRESS: at 68.53% examples, 387127 words/s, in_qsize 15, out_qsize 2\n",
            "2019-02-21 10:24:06,793 : INFO : EPOCH 2 - PROGRESS: at 73.41% examples, 387078 words/s, in_qsize 15, out_qsize 0\n",
            "2019-02-21 10:24:07,832 : INFO : EPOCH 2 - PROGRESS: at 78.51% examples, 388038 words/s, in_qsize 15, out_qsize 0\n",
            "2019-02-21 10:24:08,834 : INFO : EPOCH 2 - PROGRESS: at 83.29% examples, 388216 words/s, in_qsize 15, out_qsize 0\n",
            "2019-02-21 10:24:09,855 : INFO : EPOCH 2 - PROGRESS: at 88.26% examples, 388937 words/s, in_qsize 15, out_qsize 0\n",
            "2019-02-21 10:24:10,964 : INFO : EPOCH 2 - PROGRESS: at 93.15% examples, 387350 words/s, in_qsize 14, out_qsize 3\n",
            "2019-02-21 10:24:12,018 : INFO : EPOCH 2 - PROGRESS: at 98.36% examples, 388286 words/s, in_qsize 15, out_qsize 0\n",
            "2019-02-21 10:24:12,196 : INFO : worker thread finished; awaiting finish of 7 more threads\n",
            "2019-02-21 10:24:12,200 : INFO : worker thread finished; awaiting finish of 6 more threads\n",
            "2019-02-21 10:24:12,201 : INFO : worker thread finished; awaiting finish of 5 more threads\n",
            "2019-02-21 10:24:12,204 : INFO : worker thread finished; awaiting finish of 4 more threads\n",
            "2019-02-21 10:24:12,214 : INFO : worker thread finished; awaiting finish of 3 more threads\n",
            "2019-02-21 10:24:12,218 : INFO : worker thread finished; awaiting finish of 2 more threads\n",
            "2019-02-21 10:24:12,225 : INFO : worker thread finished; awaiting finish of 1 more threads\n",
            "2019-02-21 10:24:12,236 : INFO : worker thread finished; awaiting finish of 0 more threads\n",
            "2019-02-21 10:24:12,237 : INFO : EPOCH - 2 : training on 9227204 raw words (8221707 effective words) took 21.0s, 390648 effective words/s\n",
            "2019-02-21 10:24:13,289 : INFO : EPOCH 3 - PROGRESS: at 4.24% examples, 333181 words/s, in_qsize 15, out_qsize 0\n",
            "2019-02-21 10:24:14,315 : INFO : EPOCH 3 - PROGRESS: at 9.12% examples, 361846 words/s, in_qsize 14, out_qsize 1\n",
            "2019-02-21 10:24:15,323 : INFO : EPOCH 3 - PROGRESS: at 14.22% examples, 379274 words/s, in_qsize 14, out_qsize 1\n",
            "2019-02-21 10:24:16,342 : INFO : EPOCH 3 - PROGRESS: at 18.97% examples, 380514 words/s, in_qsize 15, out_qsize 0\n",
            "2019-02-21 10:24:17,348 : INFO : EPOCH 3 - PROGRESS: at 23.95% examples, 385886 words/s, in_qsize 14, out_qsize 0\n",
            "2019-02-21 10:24:18,366 : INFO : EPOCH 3 - PROGRESS: at 28.61% examples, 384260 words/s, in_qsize 15, out_qsize 0\n",
            "2019-02-21 10:24:19,401 : INFO : EPOCH 3 - PROGRESS: at 33.59% examples, 385884 words/s, in_qsize 16, out_qsize 0\n",
            "2019-02-21 10:24:20,428 : INFO : EPOCH 3 - PROGRESS: at 38.24% examples, 384281 words/s, in_qsize 15, out_qsize 0\n",
            "2019-02-21 10:24:21,449 : INFO : EPOCH 3 - PROGRESS: at 42.89% examples, 383303 words/s, in_qsize 15, out_qsize 0\n",
            "2019-02-21 10:24:22,486 : INFO : EPOCH 3 - PROGRESS: at 47.97% examples, 385398 words/s, in_qsize 15, out_qsize 0\n",
            "2019-02-21 10:24:23,505 : INFO : EPOCH 3 - PROGRESS: at 52.40% examples, 382975 words/s, in_qsize 15, out_qsize 0\n",
            "2019-02-21 10:24:24,522 : INFO : EPOCH 3 - PROGRESS: at 57.06% examples, 382438 words/s, in_qsize 15, out_qsize 0\n",
            "2019-02-21 10:24:25,563 : INFO : EPOCH 3 - PROGRESS: at 61.71% examples, 381324 words/s, in_qsize 15, out_qsize 0\n",
            "2019-02-21 10:24:26,563 : INFO : EPOCH 3 - PROGRESS: at 66.69% examples, 383286 words/s, in_qsize 16, out_qsize 0\n",
            "2019-02-21 10:24:27,615 : INFO : EPOCH 3 - PROGRESS: at 71.88% examples, 384877 words/s, in_qsize 15, out_qsize 0\n",
            "2019-02-21 10:24:28,675 : INFO : EPOCH 3 - PROGRESS: at 76.77% examples, 384452 words/s, in_qsize 15, out_qsize 0\n",
            "2019-02-21 10:24:29,732 : INFO : EPOCH 3 - PROGRESS: at 81.99% examples, 385657 words/s, in_qsize 16, out_qsize 0\n",
            "2019-02-21 10:24:30,755 : INFO : EPOCH 3 - PROGRESS: at 86.53% examples, 384553 words/s, in_qsize 15, out_qsize 0\n",
            "2019-02-21 10:24:31,788 : INFO : EPOCH 3 - PROGRESS: at 91.52% examples, 385155 words/s, in_qsize 15, out_qsize 1\n",
            "2019-02-21 10:24:32,833 : INFO : EPOCH 3 - PROGRESS: at 96.85% examples, 386830 words/s, in_qsize 15, out_qsize 0\n",
            "2019-02-21 10:24:33,385 : INFO : worker thread finished; awaiting finish of 7 more threads\n",
            "2019-02-21 10:24:33,397 : INFO : worker thread finished; awaiting finish of 6 more threads\n",
            "2019-02-21 10:24:33,407 : INFO : worker thread finished; awaiting finish of 5 more threads\n",
            "2019-02-21 10:24:33,410 : INFO : worker thread finished; awaiting finish of 4 more threads\n",
            "2019-02-21 10:24:33,411 : INFO : worker thread finished; awaiting finish of 3 more threads\n",
            "2019-02-21 10:24:33,429 : INFO : worker thread finished; awaiting finish of 2 more threads\n",
            "2019-02-21 10:24:33,435 : INFO : worker thread finished; awaiting finish of 1 more threads\n",
            "2019-02-21 10:24:33,442 : INFO : worker thread finished; awaiting finish of 0 more threads\n",
            "2019-02-21 10:24:33,443 : INFO : EPOCH - 3 : training on 9227204 raw words (8222887 effective words) took 21.2s, 387932 effective words/s\n",
            "2019-02-21 10:24:34,471 : INFO : EPOCH 4 - PROGRESS: at 4.23% examples, 341414 words/s, in_qsize 15, out_qsize 0\n",
            "2019-02-21 10:24:35,499 : INFO : EPOCH 4 - PROGRESS: at 9.23% examples, 370270 words/s, in_qsize 16, out_qsize 1\n",
            "2019-02-21 10:24:36,522 : INFO : EPOCH 4 - PROGRESS: at 14.11% examples, 377496 words/s, in_qsize 14, out_qsize 1\n",
            "2019-02-21 10:24:37,541 : INFO : EPOCH 4 - PROGRESS: at 19.19% examples, 385806 words/s, in_qsize 15, out_qsize 0\n",
            "2019-02-21 10:24:38,554 : INFO : EPOCH 4 - PROGRESS: at 23.74% examples, 382548 words/s, in_qsize 15, out_qsize 0\n",
            "2019-02-21 10:24:39,604 : INFO : EPOCH 4 - PROGRESS: at 28.83% examples, 385376 words/s, in_qsize 15, out_qsize 0\n",
            "2019-02-21 10:24:40,605 : INFO : EPOCH 4 - PROGRESS: at 33.48% examples, 384929 words/s, in_qsize 15, out_qsize 0\n",
            "2019-02-21 10:24:41,646 : INFO : EPOCH 4 - PROGRESS: at 38.46% examples, 386034 words/s, in_qsize 14, out_qsize 1\n",
            "2019-02-21 10:24:42,676 : INFO : EPOCH 4 - PROGRESS: at 43.43% examples, 387387 words/s, in_qsize 14, out_qsize 1\n",
            "2019-02-21 10:24:43,686 : INFO : EPOCH 4 - PROGRESS: at 48.08% examples, 386597 words/s, in_qsize 15, out_qsize 0\n",
            "2019-02-21 10:24:44,689 : INFO : EPOCH 4 - PROGRESS: at 53.16% examples, 389351 words/s, in_qsize 15, out_qsize 0\n",
            "2019-02-21 10:24:45,690 : INFO : EPOCH 4 - PROGRESS: at 58.03% examples, 390275 words/s, in_qsize 15, out_qsize 0\n",
            "2019-02-21 10:24:46,696 : INFO : EPOCH 4 - PROGRESS: at 62.68% examples, 389525 words/s, in_qsize 15, out_qsize 0\n",
            "2019-02-21 10:24:47,705 : INFO : EPOCH 4 - PROGRESS: at 67.77% examples, 391330 words/s, in_qsize 15, out_qsize 0\n",
            "2019-02-21 10:24:48,745 : INFO : EPOCH 4 - PROGRESS: at 72.64% examples, 390916 words/s, in_qsize 15, out_qsize 0\n",
            "2019-02-21 10:24:49,804 : INFO : EPOCH 4 - PROGRESS: at 77.63% examples, 390665 words/s, in_qsize 16, out_qsize 0\n",
            "2019-02-21 10:24:50,910 : INFO : EPOCH 4 - PROGRESS: at 82.85% examples, 390424 words/s, in_qsize 15, out_qsize 0\n",
            "2019-02-21 10:24:51,924 : INFO : EPOCH 4 - PROGRESS: at 87.73% examples, 390678 words/s, in_qsize 14, out_qsize 1\n",
            "2019-02-21 10:24:52,990 : INFO : EPOCH 4 - PROGRESS: at 92.94% examples, 391221 words/s, in_qsize 15, out_qsize 0\n",
            "2019-02-21 10:24:54,050 : INFO : EPOCH 4 - PROGRESS: at 97.93% examples, 391417 words/s, in_qsize 15, out_qsize 0\n",
            "2019-02-21 10:24:54,305 : INFO : worker thread finished; awaiting finish of 7 more threads\n",
            "2019-02-21 10:24:54,311 : INFO : worker thread finished; awaiting finish of 6 more threads\n",
            "2019-02-21 10:24:54,320 : INFO : worker thread finished; awaiting finish of 5 more threads\n",
            "2019-02-21 10:24:54,326 : INFO : worker thread finished; awaiting finish of 4 more threads\n",
            "2019-02-21 10:24:54,338 : INFO : worker thread finished; awaiting finish of 3 more threads\n",
            "2019-02-21 10:24:54,340 : INFO : worker thread finished; awaiting finish of 2 more threads\n",
            "2019-02-21 10:24:54,367 : INFO : worker thread finished; awaiting finish of 1 more threads\n",
            "2019-02-21 10:24:54,377 : INFO : worker thread finished; awaiting finish of 0 more threads\n",
            "2019-02-21 10:24:54,378 : INFO : EPOCH - 4 : training on 9227204 raw words (8223007 effective words) took 20.9s, 392995 effective words/s\n",
            "2019-02-21 10:24:55,400 : INFO : EPOCH 5 - PROGRESS: at 4.23% examples, 344292 words/s, in_qsize 15, out_qsize 0\n",
            "2019-02-21 10:24:56,472 : INFO : EPOCH 5 - PROGRESS: at 9.34% examples, 368288 words/s, in_qsize 15, out_qsize 3\n",
            "2019-02-21 10:24:57,563 : INFO : EPOCH 5 - PROGRESS: at 14.65% examples, 379263 words/s, in_qsize 15, out_qsize 0\n",
            "2019-02-21 10:24:58,575 : INFO : EPOCH 5 - PROGRESS: at 19.94% examples, 391796 words/s, in_qsize 15, out_qsize 0\n",
            "2019-02-21 10:24:59,625 : INFO : EPOCH 5 - PROGRESS: at 24.39% examples, 383052 words/s, in_qsize 16, out_qsize 0\n",
            "2019-02-21 10:25:00,632 : INFO : EPOCH 5 - PROGRESS: at 29.48% examples, 388291 words/s, in_qsize 15, out_qsize 0\n",
            "2019-02-21 10:25:01,705 : INFO : EPOCH 5 - PROGRESS: at 34.24% examples, 384933 words/s, in_qsize 15, out_qsize 0\n",
            "2019-02-21 10:25:02,713 : INFO : EPOCH 5 - PROGRESS: at 39.11% examples, 386482 words/s, in_qsize 15, out_qsize 0\n",
            "2019-02-21 10:25:03,739 : INFO : EPOCH 5 - PROGRESS: at 43.96% examples, 386969 words/s, in_qsize 15, out_qsize 0\n",
            "2019-02-21 10:25:04,745 : INFO : EPOCH 5 - PROGRESS: at 48.95% examples, 388949 words/s, in_qsize 13, out_qsize 2\n",
            "2019-02-21 10:25:05,775 : INFO : EPOCH 5 - PROGRESS: at 53.81% examples, 389004 words/s, in_qsize 15, out_qsize 0\n",
            "2019-02-21 10:25:06,779 : INFO : EPOCH 5 - PROGRESS: at 58.47% examples, 388427 words/s, in_qsize 15, out_qsize 0\n",
            "2019-02-21 10:25:07,825 : INFO : EPOCH 5 - PROGRESS: at 63.54% examples, 389325 words/s, in_qsize 15, out_qsize 0\n",
            "2019-02-21 10:25:08,847 : INFO : EPOCH 5 - PROGRESS: at 68.75% examples, 391391 words/s, in_qsize 15, out_qsize 1\n",
            "2019-02-21 10:25:09,889 : INFO : EPOCH 5 - PROGRESS: at 73.08% examples, 388072 words/s, in_qsize 15, out_qsize 0\n",
            "2019-02-21 10:25:10,927 : INFO : EPOCH 5 - PROGRESS: at 78.07% examples, 388476 words/s, in_qsize 16, out_qsize 2\n",
            "2019-02-21 10:25:11,990 : INFO : EPOCH 5 - PROGRESS: at 83.18% examples, 388778 words/s, in_qsize 13, out_qsize 2\n",
            "2019-02-21 10:25:13,006 : INFO : EPOCH 5 - PROGRESS: at 88.37% examples, 390520 words/s, in_qsize 15, out_qsize 0\n",
            "2019-02-21 10:25:14,056 : INFO : EPOCH 5 - PROGRESS: at 92.94% examples, 388678 words/s, in_qsize 13, out_qsize 2\n",
            "2019-02-21 10:25:15,065 : INFO : EPOCH 5 - PROGRESS: at 97.93% examples, 389534 words/s, in_qsize 13, out_qsize 2\n",
            "2019-02-21 10:25:15,307 : INFO : worker thread finished; awaiting finish of 7 more threads\n",
            "2019-02-21 10:25:15,311 : INFO : worker thread finished; awaiting finish of 6 more threads\n",
            "2019-02-21 10:25:15,323 : INFO : worker thread finished; awaiting finish of 5 more threads\n",
            "2019-02-21 10:25:15,357 : INFO : worker thread finished; awaiting finish of 4 more threads\n",
            "2019-02-21 10:25:15,359 : INFO : worker thread finished; awaiting finish of 3 more threads\n",
            "2019-02-21 10:25:15,375 : INFO : worker thread finished; awaiting finish of 2 more threads\n",
            "2019-02-21 10:25:15,381 : INFO : worker thread finished; awaiting finish of 1 more threads\n",
            "2019-02-21 10:25:15,389 : INFO : worker thread finished; awaiting finish of 0 more threads\n",
            "2019-02-21 10:25:15,390 : INFO : EPOCH - 5 : training on 9227204 raw words (8223483 effective words) took 21.0s, 391616 effective words/s\n",
            "2019-02-21 10:25:16,451 : INFO : EPOCH 6 - PROGRESS: at 4.34% examples, 340092 words/s, in_qsize 16, out_qsize 0\n",
            "2019-02-21 10:25:17,501 : INFO : EPOCH 6 - PROGRESS: at 9.34% examples, 366538 words/s, in_qsize 15, out_qsize 2\n",
            "2019-02-21 10:25:18,565 : INFO : EPOCH 6 - PROGRESS: at 14.43% examples, 374725 words/s, in_qsize 15, out_qsize 0\n",
            "2019-02-21 10:25:19,608 : INFO : EPOCH 6 - PROGRESS: at 19.51% examples, 381200 words/s, in_qsize 15, out_qsize 0\n",
            "2019-02-21 10:25:20,629 : INFO : EPOCH 6 - PROGRESS: at 24.39% examples, 383476 words/s, in_qsize 15, out_qsize 1\n",
            "2019-02-21 10:25:21,643 : INFO : EPOCH 6 - PROGRESS: at 29.26% examples, 385446 words/s, in_qsize 16, out_qsize 0\n",
            "2019-02-21 10:25:22,678 : INFO : EPOCH 6 - PROGRESS: at 33.81% examples, 381944 words/s, in_qsize 15, out_qsize 2\n",
            "2019-02-21 10:25:23,689 : INFO : EPOCH 6 - PROGRESS: at 39.00% examples, 386961 words/s, in_qsize 15, out_qsize 0\n",
            "2019-02-21 10:25:24,722 : INFO : EPOCH 6 - PROGRESS: at 43.54% examples, 384241 words/s, in_qsize 16, out_qsize 1\n",
            "2019-02-21 10:25:25,763 : INFO : EPOCH 6 - PROGRESS: at 47.86% examples, 379974 words/s, in_qsize 15, out_qsize 0\n",
            "2019-02-21 10:25:26,863 : INFO : EPOCH 6 - PROGRESS: at 53.06% examples, 380873 words/s, in_qsize 15, out_qsize 0\n",
            "2019-02-21 10:25:27,869 : INFO : EPOCH 6 - PROGRESS: at 58.15% examples, 383754 words/s, in_qsize 15, out_qsize 1\n",
            "2019-02-21 10:25:28,897 : INFO : EPOCH 6 - PROGRESS: at 62.89% examples, 383568 words/s, in_qsize 15, out_qsize 0\n",
            "2019-02-21 10:25:29,918 : INFO : EPOCH 6 - PROGRESS: at 67.56% examples, 382965 words/s, in_qsize 15, out_qsize 0\n",
            "2019-02-21 10:25:30,974 : INFO : EPOCH 6 - PROGRESS: at 72.53% examples, 383315 words/s, in_qsize 15, out_qsize 0\n",
            "2019-02-21 10:25:32,022 : INFO : EPOCH 6 - PROGRESS: at 77.63% examples, 384313 words/s, in_qsize 16, out_qsize 0\n",
            "2019-02-21 10:25:33,022 : INFO : EPOCH 6 - PROGRESS: at 82.42% examples, 384742 words/s, in_qsize 15, out_qsize 0\n",
            "2019-02-21 10:25:34,104 : INFO : EPOCH 6 - PROGRESS: at 87.62% examples, 385345 words/s, in_qsize 15, out_qsize 0\n",
            "2019-02-21 10:25:35,155 : INFO : EPOCH 6 - PROGRESS: at 92.72% examples, 386014 words/s, in_qsize 16, out_qsize 0\n",
            "2019-02-21 10:25:36,176 : INFO : EPOCH 6 - PROGRESS: at 97.61% examples, 386338 words/s, in_qsize 13, out_qsize 2\n",
            "2019-02-21 10:25:36,466 : INFO : worker thread finished; awaiting finish of 7 more threads\n",
            "2019-02-21 10:25:36,468 : INFO : worker thread finished; awaiting finish of 6 more threads\n",
            "2019-02-21 10:25:36,497 : INFO : worker thread finished; awaiting finish of 5 more threads\n",
            "2019-02-21 10:25:36,517 : INFO : worker thread finished; awaiting finish of 4 more threads\n",
            "2019-02-21 10:25:36,554 : INFO : worker thread finished; awaiting finish of 3 more threads\n",
            "2019-02-21 10:25:36,556 : INFO : worker thread finished; awaiting finish of 2 more threads\n",
            "2019-02-21 10:25:36,558 : INFO : worker thread finished; awaiting finish of 1 more threads\n",
            "2019-02-21 10:25:36,561 : INFO : worker thread finished; awaiting finish of 0 more threads\n",
            "2019-02-21 10:25:36,563 : INFO : EPOCH - 6 : training on 9227204 raw words (8222417 effective words) took 21.2s, 388575 effective words/s\n",
            "2019-02-21 10:25:37,581 : INFO : EPOCH 7 - PROGRESS: at 4.23% examples, 347034 words/s, in_qsize 15, out_qsize 0\n",
            "2019-02-21 10:25:38,679 : INFO : EPOCH 7 - PROGRESS: at 9.45% examples, 369435 words/s, in_qsize 15, out_qsize 0\n",
            "2019-02-21 10:25:39,722 : INFO : EPOCH 7 - PROGRESS: at 14.33% examples, 374338 words/s, in_qsize 10, out_qsize 5\n",
            "2019-02-21 10:25:40,745 : INFO : EPOCH 7 - PROGRESS: at 19.41% examples, 382839 words/s, in_qsize 15, out_qsize 0\n",
            "2019-02-21 10:25:41,772 : INFO : EPOCH 7 - PROGRESS: at 24.07% examples, 381026 words/s, in_qsize 15, out_qsize 0\n",
            "2019-02-21 10:25:42,853 : INFO : EPOCH 7 - PROGRESS: at 29.26% examples, 383489 words/s, in_qsize 13, out_qsize 2\n",
            "2019-02-21 10:25:43,872 : INFO : EPOCH 7 - PROGRESS: at 34.24% examples, 386052 words/s, in_qsize 15, out_qsize 0\n",
            "2019-02-21 10:25:45,045 : INFO : EPOCH 7 - PROGRESS: at 39.54% examples, 384995 words/s, in_qsize 16, out_qsize 4\n",
            "2019-02-21 10:25:46,077 : INFO : EPOCH 7 - PROGRESS: at 44.62% examples, 387339 words/s, in_qsize 15, out_qsize 1\n",
            "2019-02-21 10:25:47,057 : INFO : EPOCH 7 - PROGRESS: at 49.59% examples, 389496 words/s, in_qsize 15, out_qsize 0\n",
            "2019-02-21 10:25:48,114 : INFO : EPOCH 7 - PROGRESS: at 54.46% examples, 388593 words/s, in_qsize 15, out_qsize 0\n",
            "2019-02-21 10:25:49,125 : INFO : EPOCH 7 - PROGRESS: at 59.34% examples, 389228 words/s, in_qsize 14, out_qsize 1\n",
            "2019-02-21 10:25:50,214 : INFO : EPOCH 7 - PROGRESS: at 64.30% examples, 388212 words/s, in_qsize 13, out_qsize 2\n",
            "2019-02-21 10:25:51,323 : INFO : EPOCH 7 - PROGRESS: at 69.50% examples, 388027 words/s, in_qsize 14, out_qsize 1\n",
            "2019-02-21 10:25:52,356 : INFO : EPOCH 7 - PROGRESS: at 74.49% examples, 388557 words/s, in_qsize 15, out_qsize 0\n",
            "2019-02-21 10:25:53,416 : INFO : EPOCH 7 - PROGRESS: at 79.60% examples, 388943 words/s, in_qsize 13, out_qsize 2\n",
            "2019-02-21 10:25:54,433 : INFO : EPOCH 7 - PROGRESS: at 84.80% examples, 390744 words/s, in_qsize 14, out_qsize 2\n",
            "2019-02-21 10:25:55,504 : INFO : EPOCH 7 - PROGRESS: at 89.67% examples, 389804 words/s, in_qsize 15, out_qsize 0\n",
            "2019-02-21 10:25:56,625 : INFO : EPOCH 7 - PROGRESS: at 94.90% examples, 389501 words/s, in_qsize 15, out_qsize 1\n",
            "2019-02-21 10:25:57,443 : INFO : worker thread finished; awaiting finish of 7 more threads\n",
            "2019-02-21 10:25:57,455 : INFO : worker thread finished; awaiting finish of 6 more threads\n",
            "2019-02-21 10:25:57,465 : INFO : worker thread finished; awaiting finish of 5 more threads\n",
            "2019-02-21 10:25:57,496 : INFO : worker thread finished; awaiting finish of 4 more threads\n",
            "2019-02-21 10:25:57,503 : INFO : worker thread finished; awaiting finish of 3 more threads\n",
            "2019-02-21 10:25:57,512 : INFO : worker thread finished; awaiting finish of 2 more threads\n",
            "2019-02-21 10:25:57,519 : INFO : worker thread finished; awaiting finish of 1 more threads\n",
            "2019-02-21 10:25:57,529 : INFO : worker thread finished; awaiting finish of 0 more threads\n",
            "2019-02-21 10:25:57,530 : INFO : EPOCH - 7 : training on 9227204 raw words (8223203 effective words) took 20.9s, 392531 effective words/s\n",
            "2019-02-21 10:25:58,591 : INFO : EPOCH 8 - PROGRESS: at 4.45% examples, 348651 words/s, in_qsize 15, out_qsize 0\n",
            "2019-02-21 10:25:59,591 : INFO : EPOCH 8 - PROGRESS: at 9.55% examples, 382922 words/s, in_qsize 16, out_qsize 0\n",
            "2019-02-21 10:26:00,651 : INFO : EPOCH 8 - PROGRESS: at 14.00% examples, 369850 words/s, in_qsize 11, out_qsize 4\n",
            "2019-02-21 10:26:01,672 : INFO : EPOCH 8 - PROGRESS: at 19.08% examples, 379677 words/s, in_qsize 16, out_qsize 0\n",
            "2019-02-21 10:26:02,725 : INFO : EPOCH 8 - PROGRESS: at 23.96% examples, 381542 words/s, in_qsize 16, out_qsize 1\n",
            "2019-02-21 10:26:03,744 : INFO : EPOCH 8 - PROGRESS: at 28.94% examples, 383610 words/s, in_qsize 15, out_qsize 0\n",
            "2019-02-21 10:26:04,753 : INFO : EPOCH 8 - PROGRESS: at 33.92% examples, 386790 words/s, in_qsize 15, out_qsize 0\n",
            "2019-02-21 10:26:05,803 : INFO : EPOCH 8 - PROGRESS: at 38.68% examples, 385073 words/s, in_qsize 15, out_qsize 0\n",
            "2019-02-21 10:26:06,811 : INFO : EPOCH 8 - PROGRESS: at 43.54% examples, 386459 words/s, in_qsize 14, out_qsize 1\n",
            "2019-02-21 10:26:07,811 : INFO : EPOCH 8 - PROGRESS: at 48.62% examples, 389575 words/s, in_qsize 15, out_qsize 0\n",
            "2019-02-21 10:26:08,854 : INFO : EPOCH 8 - PROGRESS: at 53.27% examples, 387524 words/s, in_qsize 13, out_qsize 2\n",
            "2019-02-21 10:26:09,906 : INFO : EPOCH 8 - PROGRESS: at 58.36% examples, 388427 words/s, in_qsize 15, out_qsize 0\n",
            "2019-02-21 10:26:10,923 : INFO : EPOCH 8 - PROGRESS: at 63.22% examples, 388874 words/s, in_qsize 14, out_qsize 1\n",
            "2019-02-21 10:26:11,939 : INFO : EPOCH 8 - PROGRESS: at 67.99% examples, 388664 words/s, in_qsize 15, out_qsize 2\n",
            "2019-02-21 10:26:12,940 : INFO : EPOCH 8 - PROGRESS: at 72.75% examples, 388834 words/s, in_qsize 15, out_qsize 0\n",
            "2019-02-21 10:26:13,948 : INFO : EPOCH 8 - PROGRESS: at 77.74% examples, 389926 words/s, in_qsize 16, out_qsize 1\n",
            "2019-02-21 10:26:14,980 : INFO : EPOCH 8 - PROGRESS: at 82.53% examples, 389321 words/s, in_qsize 14, out_qsize 1\n",
            "2019-02-21 10:26:16,075 : INFO : EPOCH 8 - PROGRESS: at 87.62% examples, 389109 words/s, in_qsize 15, out_qsize 3\n",
            "2019-02-21 10:26:17,114 : INFO : EPOCH 8 - PROGRESS: at 92.83% examples, 390078 words/s, in_qsize 15, out_qsize 0\n",
            "2019-02-21 10:26:18,126 : INFO : EPOCH 8 - PROGRESS: at 97.61% examples, 389949 words/s, in_qsize 14, out_qsize 1\n",
            "2019-02-21 10:26:18,437 : INFO : worker thread finished; awaiting finish of 7 more threads\n",
            "2019-02-21 10:26:18,452 : INFO : worker thread finished; awaiting finish of 6 more threads\n",
            "2019-02-21 10:26:18,462 : INFO : worker thread finished; awaiting finish of 5 more threads\n",
            "2019-02-21 10:26:18,468 : INFO : worker thread finished; awaiting finish of 4 more threads\n",
            "2019-02-21 10:26:18,469 : INFO : worker thread finished; awaiting finish of 3 more threads\n",
            "2019-02-21 10:26:18,481 : INFO : worker thread finished; awaiting finish of 2 more threads\n",
            "2019-02-21 10:26:18,490 : INFO : worker thread finished; awaiting finish of 1 more threads\n",
            "2019-02-21 10:26:18,494 : INFO : worker thread finished; awaiting finish of 0 more threads\n",
            "2019-02-21 10:26:18,495 : INFO : EPOCH - 8 : training on 9227204 raw words (8223311 effective words) took 21.0s, 392481 effective words/s\n",
            "2019-02-21 10:26:19,560 : INFO : EPOCH 9 - PROGRESS: at 4.45% examples, 348625 words/s, in_qsize 15, out_qsize 0\n",
            "2019-02-21 10:26:20,570 : INFO : EPOCH 9 - PROGRESS: at 9.34% examples, 372508 words/s, in_qsize 15, out_qsize 0\n",
            "2019-02-21 10:26:21,574 : INFO : EPOCH 9 - PROGRESS: at 13.90% examples, 372582 words/s, in_qsize 15, out_qsize 0\n",
            "2019-02-21 10:26:22,642 : INFO : EPOCH 9 - PROGRESS: at 18.97% examples, 377517 words/s, in_qsize 15, out_qsize 0\n",
            "2019-02-21 10:26:23,694 : INFO : EPOCH 9 - PROGRESS: at 23.96% examples, 380006 words/s, in_qsize 15, out_qsize 0\n",
            "2019-02-21 10:26:24,711 : INFO : EPOCH 9 - PROGRESS: at 28.83% examples, 382310 words/s, in_qsize 15, out_qsize 0\n",
            "2019-02-21 10:26:25,785 : INFO : EPOCH 9 - PROGRESS: at 33.81% examples, 382190 words/s, in_qsize 15, out_qsize 0\n",
            "2019-02-21 10:26:26,832 : INFO : EPOCH 9 - PROGRESS: at 38.35% examples, 379024 words/s, in_qsize 15, out_qsize 0\n",
            "2019-02-21 10:26:27,851 : INFO : EPOCH 9 - PROGRESS: at 42.89% examples, 377742 words/s, in_qsize 15, out_qsize 0\n",
            "2019-02-21 10:26:28,923 : INFO : EPOCH 9 - PROGRESS: at 48.08% examples, 379898 words/s, in_qsize 15, out_qsize 0\n",
            "2019-02-21 10:26:29,931 : INFO : EPOCH 9 - PROGRESS: at 53.16% examples, 383093 words/s, in_qsize 16, out_qsize 1\n",
            "2019-02-21 10:26:30,940 : INFO : EPOCH 9 - PROGRESS: at 57.70% examples, 382111 words/s, in_qsize 16, out_qsize 4\n",
            "2019-02-21 10:26:32,000 : INFO : EPOCH 9 - PROGRESS: at 62.68% examples, 382464 words/s, in_qsize 14, out_qsize 1\n",
            "2019-02-21 10:26:33,104 : INFO : EPOCH 9 - PROGRESS: at 67.88% examples, 382817 words/s, in_qsize 14, out_qsize 1\n",
            "2019-02-21 10:26:34,120 : INFO : EPOCH 9 - PROGRESS: at 72.65% examples, 382989 words/s, in_qsize 14, out_qsize 5\n",
            "2019-02-21 10:26:35,160 : INFO : EPOCH 9 - PROGRESS: at 77.86% examples, 384790 words/s, in_qsize 15, out_qsize 1\n",
            "2019-02-21 10:26:36,185 : INFO : EPOCH 9 - PROGRESS: at 82.96% examples, 386111 words/s, in_qsize 15, out_qsize 0\n",
            "2019-02-21 10:26:37,194 : INFO : EPOCH 9 - PROGRESS: at 87.50% examples, 385277 words/s, in_qsize 15, out_qsize 1\n",
            "2019-02-21 10:26:38,339 : INFO : EPOCH 9 - PROGRESS: at 92.94% examples, 385474 words/s, in_qsize 15, out_qsize 3\n",
            "2019-02-21 10:26:39,374 : INFO : EPOCH 9 - PROGRESS: at 98.15% examples, 386829 words/s, in_qsize 14, out_qsize 1\n",
            "2019-02-21 10:26:39,564 : INFO : worker thread finished; awaiting finish of 7 more threads\n",
            "2019-02-21 10:26:39,573 : INFO : worker thread finished; awaiting finish of 6 more threads\n",
            "2019-02-21 10:26:39,598 : INFO : worker thread finished; awaiting finish of 5 more threads\n",
            "2019-02-21 10:26:39,600 : INFO : worker thread finished; awaiting finish of 4 more threads\n",
            "2019-02-21 10:26:39,607 : INFO : worker thread finished; awaiting finish of 3 more threads\n",
            "2019-02-21 10:26:39,627 : INFO : worker thread finished; awaiting finish of 2 more threads\n",
            "2019-02-21 10:26:39,651 : INFO : worker thread finished; awaiting finish of 1 more threads\n",
            "2019-02-21 10:26:39,652 : INFO : worker thread finished; awaiting finish of 0 more threads\n",
            "2019-02-21 10:26:39,654 : INFO : EPOCH - 9 : training on 9227204 raw words (8222433 effective words) took 21.1s, 388932 effective words/s\n",
            "2019-02-21 10:26:40,703 : INFO : EPOCH 10 - PROGRESS: at 4.23% examples, 335809 words/s, in_qsize 15, out_qsize 0\n",
            "2019-02-21 10:26:41,764 : INFO : EPOCH 10 - PROGRESS: at 9.45% examples, 369851 words/s, in_qsize 15, out_qsize 0\n",
            "2019-02-21 10:26:42,811 : INFO : EPOCH 10 - PROGRESS: at 14.11% examples, 369982 words/s, in_qsize 14, out_qsize 7\n",
            "2019-02-21 10:26:43,801 : INFO : EPOCH 10 - PROGRESS: at 19.30% examples, 383599 words/s, in_qsize 15, out_qsize 0\n",
            "2019-02-21 10:26:44,814 : INFO : EPOCH 10 - PROGRESS: at 24.06% examples, 384583 words/s, in_qsize 15, out_qsize 1\n",
            "2019-02-21 10:26:45,815 : INFO : EPOCH 10 - PROGRESS: at 28.94% examples, 386964 words/s, in_qsize 15, out_qsize 0\n",
            "2019-02-21 10:26:46,890 : INFO : EPOCH 10 - PROGRESS: at 33.92% examples, 386080 words/s, in_qsize 14, out_qsize 1\n",
            "2019-02-21 10:26:47,890 : INFO : EPOCH 10 - PROGRESS: at 38.89% examples, 388962 words/s, in_qsize 16, out_qsize 0\n",
            "2019-02-21 10:26:48,897 : INFO : EPOCH 10 - PROGRESS: at 43.64% examples, 388988 words/s, in_qsize 15, out_qsize 0\n",
            "2019-02-21 10:26:49,907 : INFO : EPOCH 10 - PROGRESS: at 48.62% examples, 390645 words/s, in_qsize 15, out_qsize 0\n",
            "2019-02-21 10:26:50,936 : INFO : EPOCH 10 - PROGRESS: at 53.48% examples, 390583 words/s, in_qsize 15, out_qsize 0\n",
            "2019-02-21 10:26:51,958 : INFO : EPOCH 10 - PROGRESS: at 58.26% examples, 390005 words/s, in_qsize 15, out_qsize 0\n",
            "2019-02-21 10:26:52,981 : INFO : EPOCH 10 - PROGRESS: at 63.22% examples, 390799 words/s, in_qsize 15, out_qsize 0\n",
            "2019-02-21 10:26:53,994 : INFO : EPOCH 10 - PROGRESS: at 68.32% examples, 392393 words/s, in_qsize 15, out_qsize 0\n",
            "2019-02-21 10:26:55,004 : INFO : EPOCH 10 - PROGRESS: at 72.86% examples, 390921 words/s, in_qsize 15, out_qsize 0\n",
            "2019-02-21 10:26:56,059 : INFO : EPOCH 10 - PROGRESS: at 78.29% examples, 392937 words/s, in_qsize 15, out_qsize 0\n",
            "2019-02-21 10:26:57,097 : INFO : EPOCH 10 - PROGRESS: at 83.18% examples, 393100 words/s, in_qsize 15, out_qsize 0\n",
            "2019-02-21 10:26:58,102 : INFO : EPOCH 10 - PROGRESS: at 88.05% examples, 392865 words/s, in_qsize 15, out_qsize 0\n",
            "2019-02-21 10:26:59,159 : INFO : EPOCH 10 - PROGRESS: at 92.94% examples, 392105 words/s, in_qsize 16, out_qsize 0\n",
            "2019-02-21 10:27:00,178 : INFO : EPOCH 10 - PROGRESS: at 97.93% examples, 392603 words/s, in_qsize 15, out_qsize 0\n",
            "2019-02-21 10:27:00,447 : INFO : worker thread finished; awaiting finish of 7 more threads\n",
            "2019-02-21 10:27:00,451 : INFO : worker thread finished; awaiting finish of 6 more threads\n",
            "2019-02-21 10:27:00,464 : INFO : worker thread finished; awaiting finish of 5 more threads\n",
            "2019-02-21 10:27:00,468 : INFO : worker thread finished; awaiting finish of 4 more threads\n",
            "2019-02-21 10:27:00,471 : INFO : worker thread finished; awaiting finish of 3 more threads\n",
            "2019-02-21 10:27:00,477 : INFO : worker thread finished; awaiting finish of 2 more threads\n",
            "2019-02-21 10:27:00,514 : INFO : worker thread finished; awaiting finish of 1 more threads\n",
            "2019-02-21 10:27:00,516 : INFO : worker thread finished; awaiting finish of 0 more threads\n",
            "2019-02-21 10:27:00,518 : INFO : EPOCH - 10 : training on 9227204 raw words (8222619 effective words) took 20.8s, 394384 effective words/s\n",
            "2019-02-21 10:27:01,553 : INFO : EPOCH 11 - PROGRESS: at 4.34% examples, 347524 words/s, in_qsize 12, out_qsize 4\n",
            "2019-02-21 10:27:02,569 : INFO : EPOCH 11 - PROGRESS: at 9.12% examples, 366694 words/s, in_qsize 16, out_qsize 0\n",
            "2019-02-21 10:27:03,586 : INFO : EPOCH 11 - PROGRESS: at 14.11% examples, 378615 words/s, in_qsize 15, out_qsize 0\n",
            "2019-02-21 10:27:04,638 : INFO : EPOCH 11 - PROGRESS: at 19.40% examples, 387841 words/s, in_qsize 16, out_qsize 0\n",
            "2019-02-21 10:27:05,648 : INFO : EPOCH 11 - PROGRESS: at 24.17% examples, 387952 words/s, in_qsize 15, out_qsize 0\n",
            "2019-02-21 10:27:06,650 : INFO : EPOCH 11 - PROGRESS: at 29.26% examples, 392886 words/s, in_qsize 15, out_qsize 0\n",
            "2019-02-21 10:27:07,692 : INFO : EPOCH 11 - PROGRESS: at 33.81% examples, 387898 words/s, in_qsize 15, out_qsize 0\n",
            "2019-02-21 10:27:08,702 : INFO : EPOCH 11 - PROGRESS: at 39.00% examples, 392315 words/s, in_qsize 15, out_qsize 0\n",
            "2019-02-21 10:27:09,746 : INFO : EPOCH 11 - PROGRESS: at 43.75% examples, 390360 words/s, in_qsize 14, out_qsize 1\n",
            "2019-02-21 10:27:10,764 : INFO : EPOCH 11 - PROGRESS: at 48.73% examples, 391587 words/s, in_qsize 16, out_qsize 1\n",
            "2019-02-21 10:27:11,775 : INFO : EPOCH 11 - PROGRESS: at 53.27% examples, 389685 words/s, in_qsize 15, out_qsize 0\n",
            "2019-02-21 10:27:12,792 : INFO : EPOCH 11 - PROGRESS: at 58.25% examples, 390813 words/s, in_qsize 15, out_qsize 0\n",
            "2019-02-21 10:27:13,902 : INFO : EPOCH 11 - PROGRESS: at 63.22% examples, 389013 words/s, in_qsize 14, out_qsize 1\n",
            "2019-02-21 10:27:15,033 : INFO : EPOCH 11 - PROGRESS: at 68.53% examples, 388754 words/s, in_qsize 14, out_qsize 1\n",
            "2019-02-21 10:27:16,075 : INFO : EPOCH 11 - PROGRESS: at 73.73% examples, 390200 words/s, in_qsize 15, out_qsize 0\n",
            "2019-02-21 10:27:17,075 : INFO : EPOCH 11 - PROGRESS: at 78.73% examples, 391374 words/s, in_qsize 16, out_qsize 0\n",
            "2019-02-21 10:27:18,120 : INFO : EPOCH 11 - PROGRESS: at 83.62% examples, 390904 words/s, in_qsize 15, out_qsize 0\n",
            "2019-02-21 10:27:19,132 : INFO : EPOCH 11 - PROGRESS: at 88.48% examples, 391190 words/s, in_qsize 15, out_qsize 0\n",
            "2019-02-21 10:27:20,172 : INFO : EPOCH 11 - PROGRESS: at 93.37% examples, 390853 words/s, in_qsize 15, out_qsize 0\n",
            "2019-02-21 10:27:21,174 : INFO : EPOCH 11 - PROGRESS: at 98.25% examples, 391282 words/s, in_qsize 16, out_qsize 0\n",
            "2019-02-21 10:27:21,345 : INFO : worker thread finished; awaiting finish of 7 more threads\n",
            "2019-02-21 10:27:21,406 : INFO : worker thread finished; awaiting finish of 6 more threads\n",
            "2019-02-21 10:27:21,411 : INFO : worker thread finished; awaiting finish of 5 more threads\n",
            "2019-02-21 10:27:21,422 : INFO : worker thread finished; awaiting finish of 4 more threads\n",
            "2019-02-21 10:27:21,433 : INFO : worker thread finished; awaiting finish of 3 more threads\n",
            "2019-02-21 10:27:21,436 : INFO : worker thread finished; awaiting finish of 2 more threads\n",
            "2019-02-21 10:27:21,441 : INFO : worker thread finished; awaiting finish of 1 more threads\n",
            "2019-02-21 10:27:21,443 : INFO : worker thread finished; awaiting finish of 0 more threads\n",
            "2019-02-21 10:27:21,444 : INFO : EPOCH - 11 : training on 9227204 raw words (8222007 effective words) took 20.9s, 393097 effective words/s\n",
            "2019-02-21 10:27:22,499 : INFO : EPOCH 12 - PROGRESS: at 4.34% examples, 344031 words/s, in_qsize 15, out_qsize 0\n",
            "2019-02-21 10:27:23,503 : INFO : EPOCH 12 - PROGRESS: at 9.45% examples, 379946 words/s, in_qsize 15, out_qsize 0\n",
            "2019-02-21 10:27:24,516 : INFO : EPOCH 12 - PROGRESS: at 14.54% examples, 391066 words/s, in_qsize 15, out_qsize 0\n",
            "2019-02-21 10:27:25,526 : INFO : EPOCH 12 - PROGRESS: at 19.08% examples, 385882 words/s, in_qsize 15, out_qsize 0\n",
            "2019-02-21 10:27:26,531 : INFO : EPOCH 12 - PROGRESS: at 23.74% examples, 385046 words/s, in_qsize 16, out_qsize 2\n",
            "2019-02-21 10:27:27,548 : INFO : EPOCH 12 - PROGRESS: at 29.05% examples, 392387 words/s, in_qsize 15, out_qsize 0\n",
            "2019-02-21 10:27:28,551 : INFO : EPOCH 12 - PROGRESS: at 33.38% examples, 387088 words/s, in_qsize 15, out_qsize 0\n",
            "2019-02-21 10:27:29,588 : INFO : EPOCH 12 - PROGRESS: at 37.81% examples, 382594 words/s, in_qsize 15, out_qsize 0\n",
            "2019-02-21 10:27:30,645 : INFO : EPOCH 12 - PROGRESS: at 42.89% examples, 384156 words/s, in_qsize 15, out_qsize 0\n",
            "2019-02-21 10:27:31,648 : INFO : EPOCH 12 - PROGRESS: at 47.65% examples, 384809 words/s, in_qsize 15, out_qsize 0\n",
            "2019-02-21 10:27:32,666 : INFO : EPOCH 12 - PROGRESS: at 52.62% examples, 386486 words/s, in_qsize 16, out_qsize 0\n",
            "2019-02-21 10:27:33,702 : INFO : EPOCH 12 - PROGRESS: at 57.49% examples, 386530 words/s, in_qsize 13, out_qsize 2\n",
            "2019-02-21 10:27:34,706 : INFO : EPOCH 12 - PROGRESS: at 62.35% examples, 387491 words/s, in_qsize 14, out_qsize 1\n",
            "2019-02-21 10:27:35,833 : INFO : EPOCH 12 - PROGRESS: at 67.66% examples, 387468 words/s, in_qsize 14, out_qsize 1\n",
            "2019-02-21 10:27:36,894 : INFO : EPOCH 12 - PROGRESS: at 72.86% examples, 388543 words/s, in_qsize 15, out_qsize 0\n",
            "2019-02-21 10:27:37,952 : INFO : EPOCH 12 - PROGRESS: at 78.07% examples, 389526 words/s, in_qsize 15, out_qsize 0\n",
            "2019-02-21 10:27:39,029 : INFO : EPOCH 12 - PROGRESS: at 83.18% examples, 389462 words/s, in_qsize 15, out_qsize 0\n",
            "2019-02-21 10:27:40,048 : INFO : EPOCH 12 - PROGRESS: at 88.37% examples, 391109 words/s, in_qsize 14, out_qsize 0\n",
            "2019-02-21 10:27:41,107 : INFO : EPOCH 12 - PROGRESS: at 92.94% examples, 389055 words/s, in_qsize 15, out_qsize 0\n",
            "2019-02-21 10:27:42,156 : INFO : EPOCH 12 - PROGRESS: at 98.15% examples, 389994 words/s, in_qsize 15, out_qsize 0\n",
            "2019-02-21 10:27:42,354 : INFO : worker thread finished; awaiting finish of 7 more threads\n",
            "2019-02-21 10:27:42,362 : INFO : worker thread finished; awaiting finish of 6 more threads\n",
            "2019-02-21 10:27:42,364 : INFO : worker thread finished; awaiting finish of 5 more threads\n",
            "2019-02-21 10:27:42,389 : INFO : worker thread finished; awaiting finish of 4 more threads\n",
            "2019-02-21 10:27:42,391 : INFO : worker thread finished; awaiting finish of 3 more threads\n",
            "2019-02-21 10:27:42,393 : INFO : worker thread finished; awaiting finish of 2 more threads\n",
            "2019-02-21 10:27:42,420 : INFO : worker thread finished; awaiting finish of 1 more threads\n",
            "2019-02-21 10:27:42,428 : INFO : worker thread finished; awaiting finish of 0 more threads\n",
            "2019-02-21 10:27:42,430 : INFO : EPOCH - 12 : training on 9227204 raw words (8221863 effective words) took 21.0s, 392172 effective words/s\n",
            "2019-02-21 10:27:43,478 : INFO : EPOCH 13 - PROGRESS: at 4.23% examples, 334053 words/s, in_qsize 14, out_qsize 1\n",
            "2019-02-21 10:27:44,509 : INFO : EPOCH 13 - PROGRESS: at 9.45% examples, 374284 words/s, in_qsize 15, out_qsize 0\n",
            "2019-02-21 10:27:45,563 : INFO : EPOCH 13 - PROGRESS: at 14.43% examples, 379148 words/s, in_qsize 15, out_qsize 0\n",
            "2019-02-21 10:27:46,564 : INFO : EPOCH 13 - PROGRESS: at 19.40% examples, 386415 words/s, in_qsize 15, out_qsize 0\n",
            "2019-02-21 10:27:47,604 : INFO : EPOCH 13 - PROGRESS: at 24.28% examples, 386318 words/s, in_qsize 14, out_qsize 1\n",
            "2019-02-21 10:27:48,618 : INFO : EPOCH 13 - PROGRESS: at 29.16% examples, 387819 words/s, in_qsize 14, out_qsize 1\n",
            "2019-02-21 10:27:49,618 : INFO : EPOCH 13 - PROGRESS: at 34.02% examples, 389594 words/s, in_qsize 15, out_qsize 0\n",
            "2019-02-21 10:27:50,622 : INFO : EPOCH 13 - PROGRESS: at 38.68% examples, 388616 words/s, in_qsize 15, out_qsize 0\n",
            "2019-02-21 10:27:51,647 : INFO : EPOCH 13 - PROGRESS: at 43.75% examples, 390850 words/s, in_qsize 16, out_qsize 0\n",
            "2019-02-21 10:27:52,675 : INFO : EPOCH 13 - PROGRESS: at 48.30% examples, 388135 words/s, in_qsize 15, out_qsize 4\n",
            "2019-02-21 10:27:53,770 : INFO : EPOCH 13 - PROGRESS: at 53.59% examples, 389146 words/s, in_qsize 16, out_qsize 2\n",
            "2019-02-21 10:27:54,823 : INFO : EPOCH 13 - PROGRESS: at 58.90% examples, 391343 words/s, in_qsize 15, out_qsize 0\n",
            "2019-02-21 10:27:55,929 : INFO : EPOCH 13 - PROGRESS: at 63.97% examples, 390285 words/s, in_qsize 16, out_qsize 1\n",
            "2019-02-21 10:27:57,080 : INFO : EPOCH 13 - PROGRESS: at 69.18% examples, 389818 words/s, in_qsize 15, out_qsize 4\n",
            "2019-02-21 10:27:58,056 : INFO : EPOCH 13 - PROGRESS: at 74.37% examples, 391899 words/s, in_qsize 15, out_qsize 0\n",
            "2019-02-21 10:27:59,063 : INFO : EPOCH 13 - PROGRESS: at 79.16% examples, 391711 words/s, in_qsize 15, out_qsize 0\n",
            "2019-02-21 10:28:00,081 : INFO : EPOCH 13 - PROGRESS: at 83.73% examples, 390330 words/s, in_qsize 13, out_qsize 2\n",
            "2019-02-21 10:28:01,098 : INFO : EPOCH 13 - PROGRESS: at 88.91% examples, 391955 words/s, in_qsize 15, out_qsize 0\n",
            "2019-02-21 10:28:02,130 : INFO : EPOCH 13 - PROGRESS: at 93.37% examples, 389951 words/s, in_qsize 15, out_qsize 0\n",
            "2019-02-21 10:28:03,136 : INFO : EPOCH 13 - PROGRESS: at 98.69% examples, 392090 words/s, in_qsize 13, out_qsize 0\n",
            "2019-02-21 10:28:03,289 : INFO : worker thread finished; awaiting finish of 7 more threads\n",
            "2019-02-21 10:28:03,307 : INFO : worker thread finished; awaiting finish of 6 more threads\n",
            "2019-02-21 10:28:03,316 : INFO : worker thread finished; awaiting finish of 5 more threads\n",
            "2019-02-21 10:28:03,319 : INFO : worker thread finished; awaiting finish of 4 more threads\n",
            "2019-02-21 10:28:03,323 : INFO : worker thread finished; awaiting finish of 3 more threads\n",
            "2019-02-21 10:28:03,338 : INFO : worker thread finished; awaiting finish of 2 more threads\n",
            "2019-02-21 10:28:03,347 : INFO : worker thread finished; awaiting finish of 1 more threads\n",
            "2019-02-21 10:28:03,350 : INFO : worker thread finished; awaiting finish of 0 more threads\n",
            "2019-02-21 10:28:03,352 : INFO : EPOCH - 13 : training on 9227204 raw words (8223115 effective words) took 20.9s, 393194 effective words/s\n",
            "2019-02-21 10:28:04,402 : INFO : EPOCH 14 - PROGRESS: at 4.45% examples, 352051 words/s, in_qsize 15, out_qsize 0\n",
            "2019-02-21 10:28:05,436 : INFO : EPOCH 14 - PROGRESS: at 9.45% examples, 374414 words/s, in_qsize 14, out_qsize 1\n",
            "2019-02-21 10:28:06,449 : INFO : EPOCH 14 - PROGRESS: at 14.54% examples, 387032 words/s, in_qsize 15, out_qsize 0\n",
            "2019-02-21 10:28:07,462 : INFO : EPOCH 14 - PROGRESS: at 19.08% examples, 382608 words/s, in_qsize 15, out_qsize 0\n",
            "2019-02-21 10:28:08,467 : INFO : EPOCH 14 - PROGRESS: at 24.17% examples, 389361 words/s, in_qsize 16, out_qsize 1\n",
            "2019-02-21 10:28:09,479 : INFO : EPOCH 14 - PROGRESS: at 28.72% examples, 386662 words/s, in_qsize 13, out_qsize 4\n",
            "2019-02-21 10:28:10,504 : INFO : EPOCH 14 - PROGRESS: at 33.70% examples, 388069 words/s, in_qsize 16, out_qsize 0\n",
            "2019-02-21 10:28:11,532 : INFO : EPOCH 14 - PROGRESS: at 38.57% examples, 388290 words/s, in_qsize 15, out_qsize 0\n",
            "2019-02-21 10:28:12,571 : INFO : EPOCH 14 - PROGRESS: at 43.54% examples, 389000 words/s, in_qsize 16, out_qsize 0\n",
            "2019-02-21 10:28:13,667 : INFO : EPOCH 14 - PROGRESS: at 48.73% examples, 389134 words/s, in_qsize 16, out_qsize 2\n",
            "2019-02-21 10:28:14,673 : INFO : EPOCH 14 - PROGRESS: at 53.70% examples, 390740 words/s, in_qsize 15, out_qsize 0\n",
            "2019-02-21 10:28:15,678 : INFO : EPOCH 14 - PROGRESS: at 58.69% examples, 392169 words/s, in_qsize 16, out_qsize 0\n",
            "2019-02-21 10:28:16,683 : INFO : EPOCH 14 - PROGRESS: at 63.32% examples, 391313 words/s, in_qsize 15, out_qsize 0\n",
            "2019-02-21 10:28:17,699 : INFO : EPOCH 14 - PROGRESS: at 67.99% examples, 390460 words/s, in_qsize 15, out_qsize 3\n",
            "2019-02-21 10:28:18,704 : INFO : EPOCH 14 - PROGRESS: at 72.86% examples, 390837 words/s, in_qsize 15, out_qsize 0\n",
            "2019-02-21 10:28:19,728 : INFO : EPOCH 14 - PROGRESS: at 77.63% examples, 390324 words/s, in_qsize 15, out_qsize 0\n",
            "2019-02-21 10:28:20,746 : INFO : EPOCH 14 - PROGRESS: at 82.10% examples, 388490 words/s, in_qsize 15, out_qsize 0\n",
            "2019-02-21 10:28:21,755 : INFO : EPOCH 14 - PROGRESS: at 86.85% examples, 388479 words/s, in_qsize 12, out_qsize 3\n",
            "2019-02-21 10:28:22,818 : INFO : EPOCH 14 - PROGRESS: at 91.52% examples, 386938 words/s, in_qsize 15, out_qsize 0\n",
            "2019-02-21 10:28:23,824 : INFO : EPOCH 14 - PROGRESS: at 96.21% examples, 386621 words/s, in_qsize 16, out_qsize 0\n",
            "2019-02-21 10:28:24,475 : INFO : worker thread finished; awaiting finish of 7 more threads\n",
            "2019-02-21 10:28:24,503 : INFO : worker thread finished; awaiting finish of 6 more threads\n",
            "2019-02-21 10:28:24,528 : INFO : worker thread finished; awaiting finish of 5 more threads\n",
            "2019-02-21 10:28:24,537 : INFO : worker thread finished; awaiting finish of 4 more threads\n",
            "2019-02-21 10:28:24,538 : INFO : worker thread finished; awaiting finish of 3 more threads\n",
            "2019-02-21 10:28:24,565 : INFO : worker thread finished; awaiting finish of 2 more threads\n",
            "2019-02-21 10:28:24,571 : INFO : worker thread finished; awaiting finish of 1 more threads\n",
            "2019-02-21 10:28:24,580 : INFO : worker thread finished; awaiting finish of 0 more threads\n",
            "2019-02-21 10:28:24,582 : INFO : EPOCH - 14 : training on 9227204 raw words (8222526 effective words) took 21.2s, 387563 effective words/s\n",
            "2019-02-21 10:28:25,625 : INFO : EPOCH 15 - PROGRESS: at 4.45% examples, 354123 words/s, in_qsize 15, out_qsize 0\n",
            "2019-02-21 10:28:26,627 : INFO : EPOCH 15 - PROGRESS: at 8.58% examples, 346072 words/s, in_qsize 15, out_qsize 0\n",
            "2019-02-21 10:28:27,628 : INFO : EPOCH 15 - PROGRESS: at 13.36% examples, 361247 words/s, in_qsize 15, out_qsize 0\n",
            "2019-02-21 10:28:28,667 : INFO : EPOCH 15 - PROGRESS: at 17.89% examples, 360813 words/s, in_qsize 16, out_qsize 0\n",
            "2019-02-21 10:28:29,706 : INFO : EPOCH 15 - PROGRESS: at 22.65% examples, 364199 words/s, in_qsize 16, out_qsize 0\n",
            "2019-02-21 10:28:30,734 : INFO : EPOCH 15 - PROGRESS: at 26.34% examples, 352586 words/s, in_qsize 15, out_qsize 1\n",
            "2019-02-21 10:28:31,743 : INFO : EPOCH 15 - PROGRESS: at 31.21% examples, 358945 words/s, in_qsize 15, out_qsize 1\n",
            "2019-02-21 10:28:32,830 : INFO : EPOCH 15 - PROGRESS: at 35.97% examples, 359132 words/s, in_qsize 16, out_qsize 0\n",
            "2019-02-21 10:28:33,887 : INFO : EPOCH 15 - PROGRESS: at 40.62% examples, 359466 words/s, in_qsize 15, out_qsize 0\n",
            "2019-02-21 10:28:34,898 : INFO : EPOCH 15 - PROGRESS: at 45.48% examples, 363099 words/s, in_qsize 16, out_qsize 0\n",
            "2019-02-21 10:28:35,900 : INFO : EPOCH 15 - PROGRESS: at 50.24% examples, 365589 words/s, in_qsize 15, out_qsize 0\n",
            "2019-02-21 10:28:36,902 : INFO : EPOCH 15 - PROGRESS: at 55.32% examples, 369856 words/s, in_qsize 15, out_qsize 0\n",
            "2019-02-21 10:28:37,919 : INFO : EPOCH 15 - PROGRESS: at 59.98% examples, 370401 words/s, in_qsize 15, out_qsize 0\n",
            "2019-02-21 10:28:38,982 : INFO : EPOCH 15 - PROGRESS: at 64.95% examples, 371527 words/s, in_qsize 16, out_qsize 1\n",
            "2019-02-21 10:28:40,006 : INFO : EPOCH 15 - PROGRESS: at 69.72% examples, 372262 words/s, in_qsize 14, out_qsize 1\n",
            "2019-02-21 10:28:41,124 : INFO : EPOCH 15 - PROGRESS: at 74.92% examples, 372935 words/s, in_qsize 14, out_qsize 1\n",
            "2019-02-21 10:28:42,178 : INFO : EPOCH 15 - PROGRESS: at 80.14% examples, 374866 words/s, in_qsize 15, out_qsize 0\n",
            "2019-02-21 10:28:43,181 : INFO : EPOCH 15 - PROGRESS: at 85.45% examples, 378129 words/s, in_qsize 15, out_qsize 0\n",
            "2019-02-21 10:28:44,189 : INFO : EPOCH 15 - PROGRESS: at 89.89% examples, 377308 words/s, in_qsize 15, out_qsize 0\n",
            "2019-02-21 10:28:45,194 : INFO : EPOCH 15 - PROGRESS: at 94.79% examples, 378336 words/s, in_qsize 15, out_qsize 0\n",
            "2019-02-21 10:28:46,067 : INFO : worker thread finished; awaiting finish of 7 more threads\n",
            "2019-02-21 10:28:46,094 : INFO : worker thread finished; awaiting finish of 6 more threads\n",
            "2019-02-21 10:28:46,108 : INFO : worker thread finished; awaiting finish of 5 more threads\n",
            "2019-02-21 10:28:46,137 : INFO : worker thread finished; awaiting finish of 4 more threads\n",
            "2019-02-21 10:28:46,147 : INFO : worker thread finished; awaiting finish of 3 more threads\n",
            "2019-02-21 10:28:46,166 : INFO : worker thread finished; awaiting finish of 2 more threads\n",
            "2019-02-21 10:28:46,179 : INFO : worker thread finished; awaiting finish of 1 more threads\n",
            "2019-02-21 10:28:46,184 : INFO : worker thread finished; awaiting finish of 0 more threads\n",
            "2019-02-21 10:28:46,185 : INFO : EPOCH - 15 : training on 9227204 raw words (8222505 effective words) took 21.6s, 380833 effective words/s\n",
            "2019-02-21 10:28:47,295 : INFO : EPOCH 16 - PROGRESS: at 4.67% examples, 354766 words/s, in_qsize 15, out_qsize 2\n",
            "2019-02-21 10:28:48,333 : INFO : EPOCH 16 - PROGRESS: at 9.66% examples, 371395 words/s, in_qsize 15, out_qsize 0\n",
            "2019-02-21 10:28:49,364 : INFO : EPOCH 16 - PROGRESS: at 14.87% examples, 385495 words/s, in_qsize 15, out_qsize 0\n",
            "2019-02-21 10:28:50,396 : INFO : EPOCH 16 - PROGRESS: at 19.62% examples, 384008 words/s, in_qsize 15, out_qsize 0\n",
            "2019-02-21 10:28:51,431 : INFO : EPOCH 16 - PROGRESS: at 24.50% examples, 384805 words/s, in_qsize 15, out_qsize 0\n",
            "2019-02-21 10:28:52,494 : INFO : EPOCH 16 - PROGRESS: at 29.59% examples, 386322 words/s, in_qsize 15, out_qsize 0\n",
            "2019-02-21 10:28:53,553 : INFO : EPOCH 16 - PROGRESS: at 34.57% examples, 386403 words/s, in_qsize 16, out_qsize 2\n",
            "2019-02-21 10:28:54,607 : INFO : EPOCH 16 - PROGRESS: at 39.54% examples, 386699 words/s, in_qsize 13, out_qsize 3\n",
            "2019-02-21 10:28:55,613 : INFO : EPOCH 16 - PROGRESS: at 44.51% examples, 388855 words/s, in_qsize 15, out_qsize 0\n",
            "2019-02-21 10:28:56,643 : INFO : EPOCH 16 - PROGRESS: at 49.38% examples, 388886 words/s, in_qsize 16, out_qsize 0\n",
            "2019-02-21 10:28:57,643 : INFO : EPOCH 16 - PROGRESS: at 54.56% examples, 392292 words/s, in_qsize 14, out_qsize 1\n",
            "2019-02-21 10:28:58,676 : INFO : EPOCH 16 - PROGRESS: at 59.12% examples, 389813 words/s, in_qsize 14, out_qsize 1\n",
            "2019-02-21 10:28:59,697 : INFO : EPOCH 16 - PROGRESS: at 64.19% examples, 391312 words/s, in_qsize 13, out_qsize 2\n",
            "2019-02-21 10:29:00,782 : INFO : EPOCH 16 - PROGRESS: at 68.96% examples, 389092 words/s, in_qsize 14, out_qsize 3\n",
            "2019-02-21 10:29:01,785 : INFO : EPOCH 16 - PROGRESS: at 74.05% examples, 390912 words/s, in_qsize 15, out_qsize 0\n",
            "2019-02-21 10:29:02,806 : INFO : EPOCH 16 - PROGRESS: at 78.73% examples, 389918 words/s, in_qsize 15, out_qsize 0\n",
            "2019-02-21 10:29:03,842 : INFO : EPOCH 16 - PROGRESS: at 83.62% examples, 390497 words/s, in_qsize 15, out_qsize 3\n",
            "2019-02-21 10:29:04,886 : INFO : EPOCH 16 - PROGRESS: at 88.69% examples, 390374 words/s, in_qsize 15, out_qsize 0\n",
            "2019-02-21 10:29:05,955 : INFO : EPOCH 16 - PROGRESS: at 93.70% examples, 389978 words/s, in_qsize 15, out_qsize 3\n",
            "2019-02-21 10:29:06,990 : INFO : EPOCH 16 - PROGRESS: at 98.90% examples, 391134 words/s, in_qsize 11, out_qsize 0\n",
            "2019-02-21 10:29:07,003 : INFO : worker thread finished; awaiting finish of 7 more threads\n",
            "2019-02-21 10:29:07,026 : INFO : worker thread finished; awaiting finish of 6 more threads\n",
            "2019-02-21 10:29:07,063 : INFO : worker thread finished; awaiting finish of 5 more threads\n",
            "2019-02-21 10:29:07,070 : INFO : worker thread finished; awaiting finish of 4 more threads\n",
            "2019-02-21 10:29:07,080 : INFO : worker thread finished; awaiting finish of 3 more threads\n",
            "2019-02-21 10:29:07,098 : INFO : worker thread finished; awaiting finish of 2 more threads\n",
            "2019-02-21 10:29:07,104 : INFO : worker thread finished; awaiting finish of 1 more threads\n",
            "2019-02-21 10:29:07,114 : INFO : worker thread finished; awaiting finish of 0 more threads\n",
            "2019-02-21 10:29:07,115 : INFO : EPOCH - 16 : training on 9227204 raw words (8222498 effective words) took 20.9s, 393093 effective words/s\n",
            "2019-02-21 10:29:08,196 : INFO : EPOCH 17 - PROGRESS: at 4.23% examples, 325021 words/s, in_qsize 13, out_qsize 7\n",
            "2019-02-21 10:29:09,198 : INFO : EPOCH 17 - PROGRESS: at 9.34% examples, 370140 words/s, in_qsize 15, out_qsize 0\n",
            "2019-02-21 10:29:10,202 : INFO : EPOCH 17 - PROGRESS: at 14.33% examples, 382551 words/s, in_qsize 15, out_qsize 0\n",
            "2019-02-21 10:29:11,217 : INFO : EPOCH 17 - PROGRESS: at 18.86% examples, 378961 words/s, in_qsize 13, out_qsize 2\n",
            "2019-02-21 10:29:12,232 : INFO : EPOCH 17 - PROGRESS: at 23.53% examples, 378751 words/s, in_qsize 15, out_qsize 0\n",
            "2019-02-21 10:29:13,285 : INFO : EPOCH 17 - PROGRESS: at 28.72% examples, 383445 words/s, in_qsize 15, out_qsize 0\n",
            "2019-02-21 10:29:14,295 : INFO : EPOCH 17 - PROGRESS: at 33.92% examples, 389006 words/s, in_qsize 15, out_qsize 1\n",
            "2019-02-21 10:29:15,296 : INFO : EPOCH 17 - PROGRESS: at 38.35% examples, 386029 words/s, in_qsize 15, out_qsize 0\n",
            "2019-02-21 10:29:16,299 : INFO : EPOCH 17 - PROGRESS: at 43.43% examples, 389497 words/s, in_qsize 15, out_qsize 0\n",
            "2019-02-21 10:29:17,324 : INFO : EPOCH 17 - PROGRESS: at 48.08% examples, 387868 words/s, in_qsize 15, out_qsize 0\n",
            "2019-02-21 10:29:18,370 : INFO : EPOCH 17 - PROGRESS: at 53.05% examples, 388245 words/s, in_qsize 15, out_qsize 1\n",
            "2019-02-21 10:29:19,394 : INFO : EPOCH 17 - PROGRESS: at 57.92% examples, 388502 words/s, in_qsize 13, out_qsize 2\n",
            "2019-02-21 10:29:20,447 : INFO : EPOCH 17 - PROGRESS: at 63.22% examples, 390581 words/s, in_qsize 15, out_qsize 0\n",
            "2019-02-21 10:29:21,512 : INFO : EPOCH 17 - PROGRESS: at 68.10% examples, 389545 words/s, in_qsize 15, out_qsize 0\n",
            "2019-02-21 10:29:22,568 : INFO : EPOCH 17 - PROGRESS: at 73.19% examples, 389994 words/s, in_qsize 15, out_qsize 0\n",
            "2019-02-21 10:29:23,595 : INFO : EPOCH 17 - PROGRESS: at 78.18% examples, 390555 words/s, in_qsize 14, out_qsize 1\n",
            "2019-02-21 10:29:24,615 : INFO : EPOCH 17 - PROGRESS: at 83.40% examples, 392217 words/s, in_qsize 16, out_qsize 0\n",
            "2019-02-21 10:29:25,731 : INFO : EPOCH 17 - PROGRESS: at 88.26% examples, 390221 words/s, in_qsize 14, out_qsize 1\n",
            "2019-02-21 10:29:26,770 : INFO : EPOCH 17 - PROGRESS: at 93.37% examples, 390863 words/s, in_qsize 15, out_qsize 0\n",
            "2019-02-21 10:29:27,826 : INFO : EPOCH 17 - PROGRESS: at 98.47% examples, 391143 words/s, in_qsize 15, out_qsize 0\n",
            "2019-02-21 10:29:27,914 : INFO : worker thread finished; awaiting finish of 7 more threads\n",
            "2019-02-21 10:29:27,964 : INFO : worker thread finished; awaiting finish of 6 more threads\n",
            "2019-02-21 10:29:27,976 : INFO : worker thread finished; awaiting finish of 5 more threads\n",
            "2019-02-21 10:29:27,979 : INFO : worker thread finished; awaiting finish of 4 more threads\n",
            "2019-02-21 10:29:27,983 : INFO : worker thread finished; awaiting finish of 3 more threads\n",
            "2019-02-21 10:29:28,015 : INFO : worker thread finished; awaiting finish of 2 more threads\n",
            "2019-02-21 10:29:28,022 : INFO : worker thread finished; awaiting finish of 1 more threads\n",
            "2019-02-21 10:29:28,025 : INFO : worker thread finished; awaiting finish of 0 more threads\n",
            "2019-02-21 10:29:28,027 : INFO : EPOCH - 17 : training on 9227204 raw words (8221498 effective words) took 20.9s, 393397 effective words/s\n",
            "2019-02-21 10:29:29,082 : INFO : EPOCH 18 - PROGRESS: at 4.56% examples, 358789 words/s, in_qsize 15, out_qsize 0\n",
            "2019-02-21 10:29:30,096 : INFO : EPOCH 18 - PROGRESS: at 9.34% examples, 372601 words/s, in_qsize 15, out_qsize 0\n",
            "2019-02-21 10:29:31,105 : INFO : EPOCH 18 - PROGRESS: at 14.00% examples, 374876 words/s, in_qsize 16, out_qsize 0\n",
            "2019-02-21 10:29:32,118 : INFO : EPOCH 18 - PROGRESS: at 18.97% examples, 382858 words/s, in_qsize 14, out_qsize 1\n",
            "2019-02-21 10:29:33,125 : INFO : EPOCH 18 - PROGRESS: at 24.18% examples, 390732 words/s, in_qsize 15, out_qsize 0\n",
            "2019-02-21 10:29:34,128 : INFO : EPOCH 18 - PROGRESS: at 28.72% examples, 387761 words/s, in_qsize 16, out_qsize 0\n",
            "2019-02-21 10:29:35,133 : INFO : EPOCH 18 - PROGRESS: at 33.70% examples, 390586 words/s, in_qsize 15, out_qsize 0\n",
            "2019-02-21 10:29:36,158 : INFO : EPOCH 18 - PROGRESS: at 38.68% examples, 391710 words/s, in_qsize 15, out_qsize 0\n",
            "2019-02-21 10:29:37,188 : INFO : EPOCH 18 - PROGRESS: at 43.21% examples, 388518 words/s, in_qsize 15, out_qsize 0\n",
            "2019-02-21 10:29:38,189 : INFO : EPOCH 18 - PROGRESS: at 48.19% examples, 390565 words/s, in_qsize 15, out_qsize 0\n",
            "2019-02-21 10:29:39,286 : INFO : EPOCH 18 - PROGRESS: at 53.38% examples, 390524 words/s, in_qsize 15, out_qsize 0\n",
            "2019-02-21 10:29:40,287 : INFO : EPOCH 18 - PROGRESS: at 58.58% examples, 393547 words/s, in_qsize 15, out_qsize 0\n",
            "2019-02-21 10:29:41,317 : INFO : EPOCH 18 - PROGRESS: at 63.11% examples, 391179 words/s, in_qsize 15, out_qsize 0\n",
            "2019-02-21 10:29:42,319 : INFO : EPOCH 18 - PROGRESS: at 68.21% examples, 393050 words/s, in_qsize 15, out_qsize 0\n",
            "2019-02-21 10:29:43,350 : INFO : EPOCH 18 - PROGRESS: at 72.97% examples, 392392 words/s, in_qsize 15, out_qsize 1\n",
            "2019-02-21 10:29:44,420 : INFO : EPOCH 18 - PROGRESS: at 78.29% examples, 393169 words/s, in_qsize 15, out_qsize 0\n",
            "2019-02-21 10:29:45,424 : INFO : EPOCH 18 - PROGRESS: at 83.07% examples, 393024 words/s, in_qsize 16, out_qsize 0\n",
            "2019-02-21 10:29:46,513 : INFO : EPOCH 18 - PROGRESS: at 88.16% examples, 392521 words/s, in_qsize 15, out_qsize 0\n",
            "2019-02-21 10:29:47,584 : INFO : EPOCH 18 - PROGRESS: at 93.37% examples, 392837 words/s, in_qsize 15, out_qsize 0\n",
            "2019-02-21 10:29:48,604 : INFO : EPOCH 18 - PROGRESS: at 98.47% examples, 393704 words/s, in_qsize 15, out_qsize 0\n",
            "2019-02-21 10:29:48,752 : INFO : worker thread finished; awaiting finish of 7 more threads\n",
            "2019-02-21 10:29:48,764 : INFO : worker thread finished; awaiting finish of 6 more threads\n",
            "2019-02-21 10:29:48,783 : INFO : worker thread finished; awaiting finish of 5 more threads\n",
            "2019-02-21 10:29:48,787 : INFO : worker thread finished; awaiting finish of 4 more threads\n",
            "2019-02-21 10:29:48,793 : INFO : worker thread finished; awaiting finish of 3 more threads\n",
            "2019-02-21 10:29:48,805 : INFO : worker thread finished; awaiting finish of 2 more threads\n",
            "2019-02-21 10:29:48,825 : INFO : worker thread finished; awaiting finish of 1 more threads\n",
            "2019-02-21 10:29:48,828 : INFO : worker thread finished; awaiting finish of 0 more threads\n",
            "2019-02-21 10:29:48,829 : INFO : EPOCH - 18 : training on 9227204 raw words (8222153 effective words) took 20.8s, 395496 effective words/s\n",
            "2019-02-21 10:29:49,871 : INFO : EPOCH 19 - PROGRESS: at 4.56% examples, 362480 words/s, in_qsize 14, out_qsize 1\n",
            "2019-02-21 10:29:50,872 : INFO : EPOCH 19 - PROGRESS: at 9.12% examples, 368151 words/s, in_qsize 15, out_qsize 1\n",
            "2019-02-21 10:29:51,909 : INFO : EPOCH 19 - PROGRESS: at 14.00% examples, 374375 words/s, in_qsize 15, out_qsize 0\n",
            "2019-02-21 10:29:52,963 : INFO : EPOCH 19 - PROGRESS: at 18.97% examples, 377964 words/s, in_qsize 15, out_qsize 0\n",
            "2019-02-21 10:29:53,991 : INFO : EPOCH 19 - PROGRESS: at 24.18% examples, 385567 words/s, in_qsize 15, out_qsize 0\n",
            "2019-02-21 10:29:55,002 : INFO : EPOCH 19 - PROGRESS: at 28.83% examples, 384483 words/s, in_qsize 16, out_qsize 2\n",
            "2019-02-21 10:29:56,020 : INFO : EPOCH 19 - PROGRESS: at 33.70% examples, 385756 words/s, in_qsize 14, out_qsize 1\n",
            "2019-02-21 10:29:57,051 : INFO : EPOCH 19 - PROGRESS: at 38.78% examples, 388334 words/s, in_qsize 15, out_qsize 0\n",
            "2019-02-21 10:29:58,084 : INFO : EPOCH 19 - PROGRESS: at 43.64% examples, 388293 words/s, in_qsize 15, out_qsize 0\n",
            "2019-02-21 10:29:59,123 : INFO : EPOCH 19 - PROGRESS: at 48.73% examples, 389783 words/s, in_qsize 15, out_qsize 0\n",
            "2019-02-21 10:30:00,144 : INFO : EPOCH 19 - PROGRESS: at 53.27% examples, 387716 words/s, in_qsize 16, out_qsize 1\n",
            "2019-02-21 10:30:01,152 : INFO : EPOCH 19 - PROGRESS: at 57.82% examples, 386365 words/s, in_qsize 14, out_qsize 3\n",
            "2019-02-21 10:30:02,165 : INFO : EPOCH 19 - PROGRESS: at 63.11% examples, 389759 words/s, in_qsize 14, out_qsize 1\n",
            "2019-02-21 10:30:03,227 : INFO : EPOCH 19 - PROGRESS: at 67.88% examples, 388245 words/s, in_qsize 15, out_qsize 0\n",
            "2019-02-21 10:30:04,277 : INFO : EPOCH 19 - PROGRESS: at 72.97% examples, 388966 words/s, in_qsize 16, out_qsize 0\n",
            "2019-02-21 10:30:05,311 : INFO : EPOCH 19 - PROGRESS: at 77.96% examples, 389413 words/s, in_qsize 16, out_qsize 0\n",
            "2019-02-21 10:30:06,361 : INFO : EPOCH 19 - PROGRESS: at 83.07% examples, 389984 words/s, in_qsize 15, out_qsize 0\n",
            "2019-02-21 10:30:07,442 : INFO : EPOCH 19 - PROGRESS: at 88.26% examples, 390280 words/s, in_qsize 15, out_qsize 0\n",
            "2019-02-21 10:30:08,462 : INFO : EPOCH 19 - PROGRESS: at 93.37% examples, 391309 words/s, in_qsize 16, out_qsize 0\n",
            "2019-02-21 10:30:09,466 : INFO : EPOCH 19 - PROGRESS: at 98.25% examples, 391697 words/s, in_qsize 15, out_qsize 0\n",
            "2019-02-21 10:30:09,697 : INFO : worker thread finished; awaiting finish of 7 more threads\n",
            "2019-02-21 10:30:09,747 : INFO : worker thread finished; awaiting finish of 6 more threads\n",
            "2019-02-21 10:30:09,749 : INFO : worker thread finished; awaiting finish of 5 more threads\n",
            "2019-02-21 10:30:09,754 : INFO : worker thread finished; awaiting finish of 4 more threads\n",
            "2019-02-21 10:30:09,758 : INFO : worker thread finished; awaiting finish of 3 more threads\n",
            "2019-02-21 10:30:09,761 : INFO : worker thread finished; awaiting finish of 2 more threads\n",
            "2019-02-21 10:30:09,767 : INFO : worker thread finished; awaiting finish of 1 more threads\n",
            "2019-02-21 10:30:09,782 : INFO : worker thread finished; awaiting finish of 0 more threads\n",
            "2019-02-21 10:30:09,783 : INFO : EPOCH - 19 : training on 9227204 raw words (8222994 effective words) took 20.9s, 392633 effective words/s\n",
            "2019-02-21 10:30:10,812 : INFO : EPOCH 20 - PROGRESS: at 4.23% examples, 341379 words/s, in_qsize 15, out_qsize 0\n",
            "2019-02-21 10:30:11,814 : INFO : EPOCH 20 - PROGRESS: at 9.23% examples, 374962 words/s, in_qsize 15, out_qsize 0\n",
            "2019-02-21 10:30:12,887 : INFO : EPOCH 20 - PROGRESS: at 14.22% examples, 377343 words/s, in_qsize 15, out_qsize 0\n",
            "2019-02-21 10:30:13,893 : INFO : EPOCH 20 - PROGRESS: at 18.86% examples, 378085 words/s, in_qsize 15, out_qsize 0\n",
            "2019-02-21 10:30:14,973 : INFO : EPOCH 20 - PROGRESS: at 24.06% examples, 381898 words/s, in_qsize 16, out_qsize 0\n",
            "2019-02-21 10:30:15,992 : INFO : EPOCH 20 - PROGRESS: at 28.94% examples, 383815 words/s, in_qsize 15, out_qsize 1\n",
            "2019-02-21 10:30:17,018 : INFO : EPOCH 20 - PROGRESS: at 34.13% examples, 388458 words/s, in_qsize 15, out_qsize 0\n",
            "2019-02-21 10:30:18,055 : INFO : EPOCH 20 - PROGRESS: at 38.89% examples, 387128 words/s, in_qsize 15, out_qsize 0\n",
            "2019-02-21 10:30:19,069 : INFO : EPOCH 20 - PROGRESS: at 43.96% examples, 389932 words/s, in_qsize 16, out_qsize 1\n",
            "2019-02-21 10:30:20,126 : INFO : EPOCH 20 - PROGRESS: at 48.62% examples, 387106 words/s, in_qsize 15, out_qsize 0\n",
            "2019-02-21 10:30:21,129 : INFO : EPOCH 20 - PROGRESS: at 53.38% examples, 387457 words/s, in_qsize 16, out_qsize 0\n",
            "2019-02-21 10:30:22,133 : INFO : EPOCH 20 - PROGRESS: at 58.14% examples, 387714 words/s, in_qsize 15, out_qsize 0\n",
            "2019-02-21 10:30:23,169 : INFO : EPOCH 20 - PROGRESS: at 62.89% examples, 387013 words/s, in_qsize 15, out_qsize 2\n",
            "2019-02-21 10:30:24,201 : INFO : EPOCH 20 - PROGRESS: at 67.88% examples, 387694 words/s, in_qsize 15, out_qsize 0\n",
            "2019-02-21 10:30:25,258 : INFO : EPOCH 20 - PROGRESS: at 72.86% examples, 388355 words/s, in_qsize 15, out_qsize 0\n",
            "2019-02-21 10:30:26,235 : INFO : EPOCH 20 - PROGRESS: at 77.63% examples, 388479 words/s, in_qsize 16, out_qsize 1\n",
            "2019-02-21 10:30:27,260 : INFO : EPOCH 20 - PROGRESS: at 82.21% examples, 387121 words/s, in_qsize 15, out_qsize 0\n",
            "2019-02-21 10:30:28,386 : INFO : EPOCH 20 - PROGRESS: at 87.51% examples, 387146 words/s, in_qsize 15, out_qsize 0\n",
            "2019-02-21 10:30:29,391 : INFO : EPOCH 20 - PROGRESS: at 92.39% examples, 387713 words/s, in_qsize 15, out_qsize 0\n",
            "2019-02-21 10:30:30,408 : INFO : EPOCH 20 - PROGRESS: at 97.39% examples, 388459 words/s, in_qsize 15, out_qsize 1\n",
            "2019-02-21 10:30:30,803 : INFO : worker thread finished; awaiting finish of 7 more threads\n",
            "2019-02-21 10:30:30,830 : INFO : worker thread finished; awaiting finish of 6 more threads\n",
            "2019-02-21 10:30:30,845 : INFO : worker thread finished; awaiting finish of 5 more threads\n",
            "2019-02-21 10:30:30,884 : INFO : worker thread finished; awaiting finish of 4 more threads\n",
            "2019-02-21 10:30:30,893 : INFO : worker thread finished; awaiting finish of 3 more threads\n",
            "2019-02-21 10:30:30,902 : INFO : worker thread finished; awaiting finish of 2 more threads\n",
            "2019-02-21 10:30:30,916 : INFO : worker thread finished; awaiting finish of 1 more threads\n",
            "2019-02-21 10:30:30,920 : INFO : worker thread finished; awaiting finish of 0 more threads\n",
            "2019-02-21 10:30:30,921 : INFO : EPOCH - 20 : training on 9227204 raw words (8222228 effective words) took 21.1s, 389196 effective words/s\n",
            "2019-02-21 10:30:31,960 : INFO : EPOCH 21 - PROGRESS: at 4.23% examples, 338748 words/s, in_qsize 14, out_qsize 1\n",
            "2019-02-21 10:30:32,979 : INFO : EPOCH 21 - PROGRESS: at 9.23% examples, 370195 words/s, in_qsize 12, out_qsize 3\n",
            "2019-02-21 10:30:33,980 : INFO : EPOCH 21 - PROGRESS: at 14.00% examples, 377228 words/s, in_qsize 16, out_qsize 2\n",
            "2019-02-21 10:30:35,047 : INFO : EPOCH 21 - PROGRESS: at 18.87% examples, 376729 words/s, in_qsize 16, out_qsize 2\n",
            "2019-02-21 10:30:36,087 : INFO : EPOCH 21 - PROGRESS: at 23.84% examples, 380321 words/s, in_qsize 16, out_qsize 0\n",
            "2019-02-21 10:30:37,232 : INFO : EPOCH 21 - PROGRESS: at 29.05% examples, 379162 words/s, in_qsize 14, out_qsize 5\n",
            "2019-02-21 10:30:38,280 : INFO : EPOCH 21 - PROGRESS: at 34.35% examples, 384492 words/s, in_qsize 14, out_qsize 1\n",
            "2019-02-21 10:30:39,284 : INFO : EPOCH 21 - PROGRESS: at 39.22% examples, 386272 words/s, in_qsize 15, out_qsize 0\n",
            "2019-02-21 10:30:40,297 : INFO : EPOCH 21 - PROGRESS: at 43.86% examples, 385348 words/s, in_qsize 15, out_qsize 0\n",
            "2019-02-21 10:30:41,304 : INFO : EPOCH 21 - PROGRESS: at 48.62% examples, 385764 words/s, in_qsize 15, out_qsize 0\n",
            "2019-02-21 10:30:42,307 : INFO : EPOCH 21 - PROGRESS: at 53.38% examples, 386201 words/s, in_qsize 14, out_qsize 2\n",
            "2019-02-21 10:30:43,313 : INFO : EPOCH 21 - PROGRESS: at 58.14% examples, 386511 words/s, in_qsize 15, out_qsize 0\n",
            "2019-02-21 10:30:44,360 : INFO : EPOCH 21 - PROGRESS: at 63.11% examples, 386905 words/s, in_qsize 15, out_qsize 0\n",
            "2019-02-21 10:30:45,391 : INFO : EPOCH 21 - PROGRESS: at 68.21% examples, 388296 words/s, in_qsize 14, out_qsize 1\n",
            "2019-02-21 10:30:46,396 : INFO : EPOCH 21 - PROGRESS: at 73.08% examples, 388954 words/s, in_qsize 14, out_qsize 1\n",
            "2019-02-21 10:30:47,397 : INFO : EPOCH 21 - PROGRESS: at 78.18% examples, 390702 words/s, in_qsize 15, out_qsize 0\n",
            "2019-02-21 10:30:48,417 : INFO : EPOCH 21 - PROGRESS: at 82.75% examples, 389310 words/s, in_qsize 15, out_qsize 0\n",
            "2019-02-21 10:30:49,449 : INFO : EPOCH 21 - PROGRESS: at 87.83% examples, 390219 words/s, in_qsize 15, out_qsize 0\n",
            "2019-02-21 10:30:50,469 : INFO : EPOCH 21 - PROGRESS: at 92.50% examples, 389433 words/s, in_qsize 13, out_qsize 2\n",
            "2019-02-21 10:30:51,477 : INFO : EPOCH 21 - PROGRESS: at 97.93% examples, 391988 words/s, in_qsize 15, out_qsize 0\n",
            "2019-02-21 10:30:51,799 : INFO : worker thread finished; awaiting finish of 7 more threads\n",
            "2019-02-21 10:30:51,820 : INFO : worker thread finished; awaiting finish of 6 more threads\n",
            "2019-02-21 10:30:51,824 : INFO : worker thread finished; awaiting finish of 5 more threads\n",
            "2019-02-21 10:30:51,829 : INFO : worker thread finished; awaiting finish of 4 more threads\n",
            "2019-02-21 10:30:51,837 : INFO : worker thread finished; awaiting finish of 3 more threads\n",
            "2019-02-21 10:30:51,839 : INFO : worker thread finished; awaiting finish of 2 more threads\n",
            "2019-02-21 10:30:51,878 : INFO : worker thread finished; awaiting finish of 1 more threads\n",
            "2019-02-21 10:30:51,884 : INFO : worker thread finished; awaiting finish of 0 more threads\n",
            "2019-02-21 10:30:51,885 : INFO : EPOCH - 21 : training on 9227204 raw words (8222943 effective words) took 21.0s, 392473 effective words/s\n",
            "2019-02-21 10:30:52,923 : INFO : EPOCH 22 - PROGRESS: at 4.34% examples, 347300 words/s, in_qsize 15, out_qsize 0\n",
            "2019-02-21 10:30:53,989 : INFO : EPOCH 22 - PROGRESS: at 9.34% examples, 366425 words/s, in_qsize 15, out_qsize 0\n",
            "2019-02-21 10:30:55,031 : INFO : EPOCH 22 - PROGRESS: at 14.43% examples, 378182 words/s, in_qsize 15, out_qsize 0\n",
            "2019-02-21 10:30:56,083 : INFO : EPOCH 22 - PROGRESS: at 19.51% examples, 383181 words/s, in_qsize 14, out_qsize 1\n",
            "2019-02-21 10:30:57,090 : INFO : EPOCH 22 - PROGRESS: at 24.29% examples, 384380 words/s, in_qsize 15, out_qsize 0\n",
            "2019-02-21 10:30:58,101 : INFO : EPOCH 22 - PROGRESS: at 29.16% examples, 386394 words/s, in_qsize 16, out_qsize 2\n",
            "2019-02-21 10:30:59,145 : INFO : EPOCH 22 - PROGRESS: at 34.13% examples, 387239 words/s, in_qsize 15, out_qsize 0\n",
            "2019-02-21 10:31:00,154 : INFO : EPOCH 22 - PROGRESS: at 39.00% examples, 388502 words/s, in_qsize 15, out_qsize 0\n",
            "2019-02-21 10:31:01,194 : INFO : EPOCH 22 - PROGRESS: at 43.75% examples, 387203 words/s, in_qsize 15, out_qsize 0\n",
            "2019-02-21 10:31:02,201 : INFO : EPOCH 22 - PROGRESS: at 48.62% examples, 388267 words/s, in_qsize 15, out_qsize 0\n",
            "2019-02-21 10:31:03,240 : INFO : EPOCH 22 - PROGRESS: at 53.48% examples, 388041 words/s, in_qsize 15, out_qsize 0\n",
            "2019-02-21 10:31:04,279 : INFO : EPOCH 22 - PROGRESS: at 58.69% examples, 390033 words/s, in_qsize 15, out_qsize 0\n",
            "2019-02-21 10:31:05,285 : INFO : EPOCH 22 - PROGRESS: at 63.65% examples, 391340 words/s, in_qsize 16, out_qsize 1\n",
            "2019-02-21 10:31:06,288 : INFO : EPOCH 22 - PROGRESS: at 68.32% examples, 390662 words/s, in_qsize 15, out_qsize 0\n",
            "2019-02-21 10:31:07,295 : INFO : EPOCH 22 - PROGRESS: at 72.97% examples, 389955 words/s, in_qsize 15, out_qsize 1\n",
            "2019-02-21 10:31:08,308 : INFO : EPOCH 22 - PROGRESS: at 78.07% examples, 391404 words/s, in_qsize 15, out_qsize 0\n",
            "2019-02-21 10:31:09,321 : INFO : EPOCH 22 - PROGRESS: at 82.96% examples, 391651 words/s, in_qsize 15, out_qsize 0\n",
            "2019-02-21 10:31:10,327 : INFO : EPOCH 22 - PROGRESS: at 87.72% examples, 391548 words/s, in_qsize 16, out_qsize 0\n",
            "2019-02-21 10:31:11,330 : INFO : EPOCH 22 - PROGRESS: at 92.18% examples, 390111 words/s, in_qsize 15, out_qsize 2\n",
            "2019-02-21 10:31:12,412 : INFO : EPOCH 22 - PROGRESS: at 97.39% examples, 390378 words/s, in_qsize 15, out_qsize 1\n",
            "2019-02-21 10:31:12,760 : INFO : worker thread finished; awaiting finish of 7 more threads\n",
            "2019-02-21 10:31:12,765 : INFO : worker thread finished; awaiting finish of 6 more threads\n",
            "2019-02-21 10:31:12,766 : INFO : worker thread finished; awaiting finish of 5 more threads\n",
            "2019-02-21 10:31:12,781 : INFO : worker thread finished; awaiting finish of 4 more threads\n",
            "2019-02-21 10:31:12,800 : INFO : worker thread finished; awaiting finish of 3 more threads\n",
            "2019-02-21 10:31:12,801 : INFO : worker thread finished; awaiting finish of 2 more threads\n",
            "2019-02-21 10:31:12,815 : INFO : worker thread finished; awaiting finish of 1 more threads\n",
            "2019-02-21 10:31:12,818 : INFO : worker thread finished; awaiting finish of 0 more threads\n",
            "2019-02-21 10:31:12,819 : INFO : EPOCH - 22 : training on 9227204 raw words (8223051 effective words) took 20.9s, 393043 effective words/s\n",
            "2019-02-21 10:31:13,853 : INFO : EPOCH 23 - PROGRESS: at 4.34% examples, 349085 words/s, in_qsize 15, out_qsize 0\n",
            "2019-02-21 10:31:14,863 : INFO : EPOCH 23 - PROGRESS: at 9.34% examples, 377129 words/s, in_qsize 15, out_qsize 0\n",
            "2019-02-21 10:31:15,889 : INFO : EPOCH 23 - PROGRESS: at 14.01% examples, 375903 words/s, in_qsize 11, out_qsize 4\n",
            "2019-02-21 10:31:16,908 : INFO : EPOCH 23 - PROGRESS: at 19.40% examples, 391130 words/s, in_qsize 15, out_qsize 0\n",
            "2019-02-21 10:31:17,920 : INFO : EPOCH 23 - PROGRESS: at 23.85% examples, 385165 words/s, in_qsize 12, out_qsize 3\n",
            "2019-02-21 10:31:18,928 : INFO : EPOCH 23 - PROGRESS: at 28.72% examples, 387284 words/s, in_qsize 14, out_qsize 1\n",
            "2019-02-21 10:31:20,015 : INFO : EPOCH 23 - PROGRESS: at 33.92% examples, 388173 words/s, in_qsize 15, out_qsize 0\n",
            "2019-02-21 10:31:21,043 : INFO : EPOCH 23 - PROGRESS: at 38.89% examples, 389486 words/s, in_qsize 16, out_qsize 0\n",
            "2019-02-21 10:31:22,061 : INFO : EPOCH 23 - PROGRESS: at 43.64% examples, 389011 words/s, in_qsize 15, out_qsize 0\n",
            "2019-02-21 10:31:23,061 : INFO : EPOCH 23 - PROGRESS: at 48.62% examples, 391006 words/s, in_qsize 15, out_qsize 0\n",
            "2019-02-21 10:31:24,099 : INFO : EPOCH 23 - PROGRESS: at 53.38% examples, 389801 words/s, in_qsize 15, out_qsize 0\n",
            "2019-02-21 10:31:25,153 : INFO : EPOCH 23 - PROGRESS: at 58.47% examples, 390473 words/s, in_qsize 15, out_qsize 0\n",
            "2019-02-21 10:31:26,242 : INFO : EPOCH 23 - PROGRESS: at 63.54% examples, 390618 words/s, in_qsize 15, out_qsize 2\n",
            "2019-02-21 10:31:27,231 : INFO : EPOCH 23 - PROGRESS: at 68.85% examples, 393508 words/s, in_qsize 15, out_qsize 0\n",
            "2019-02-21 10:31:28,252 : INFO : EPOCH 23 - PROGRESS: at 73.83% examples, 394013 words/s, in_qsize 16, out_qsize 0\n",
            "2019-02-21 10:31:29,268 : INFO : EPOCH 23 - PROGRESS: at 78.40% examples, 392402 words/s, in_qsize 15, out_qsize 0\n",
            "2019-02-21 10:31:30,303 : INFO : EPOCH 23 - PROGRESS: at 83.51% examples, 393135 words/s, in_qsize 15, out_qsize 0\n",
            "2019-02-21 10:31:31,311 : INFO : EPOCH 23 - PROGRESS: at 88.27% examples, 392901 words/s, in_qsize 13, out_qsize 2\n",
            "2019-02-21 10:31:32,375 : INFO : EPOCH 23 - PROGRESS: at 93.16% examples, 391996 words/s, in_qsize 15, out_qsize 0\n",
            "2019-02-21 10:31:33,383 : INFO : EPOCH 23 - PROGRESS: at 98.15% examples, 392712 words/s, in_qsize 15, out_qsize 0\n",
            "2019-02-21 10:31:33,583 : INFO : worker thread finished; awaiting finish of 7 more threads\n",
            "2019-02-21 10:31:33,597 : INFO : worker thread finished; awaiting finish of 6 more threads\n",
            "2019-02-21 10:31:33,601 : INFO : worker thread finished; awaiting finish of 5 more threads\n",
            "2019-02-21 10:31:33,625 : INFO : worker thread finished; awaiting finish of 4 more threads\n",
            "2019-02-21 10:31:33,627 : INFO : worker thread finished; awaiting finish of 3 more threads\n",
            "2019-02-21 10:31:33,643 : INFO : worker thread finished; awaiting finish of 2 more threads\n",
            "2019-02-21 10:31:33,645 : INFO : worker thread finished; awaiting finish of 1 more threads\n",
            "2019-02-21 10:31:33,653 : INFO : worker thread finished; awaiting finish of 0 more threads\n",
            "2019-02-21 10:31:33,654 : INFO : EPOCH - 23 : training on 9227204 raw words (8223187 effective words) took 20.8s, 394928 effective words/s\n",
            "2019-02-21 10:31:34,671 : INFO : EPOCH 24 - PROGRESS: at 4.34% examples, 354765 words/s, in_qsize 14, out_qsize 3\n",
            "2019-02-21 10:31:35,672 : INFO : EPOCH 24 - PROGRESS: at 9.01% examples, 368844 words/s, in_qsize 15, out_qsize 0\n",
            "2019-02-21 10:31:36,679 : INFO : EPOCH 24 - PROGRESS: at 14.00% examples, 381447 words/s, in_qsize 15, out_qsize 1\n",
            "2019-02-21 10:31:37,709 : INFO : EPOCH 24 - PROGRESS: at 18.87% examples, 383292 words/s, in_qsize 14, out_qsize 1\n",
            "2019-02-21 10:31:38,724 : INFO : EPOCH 24 - PROGRESS: at 23.84% examples, 387419 words/s, in_qsize 15, out_qsize 0\n",
            "2019-02-21 10:31:39,795 : INFO : EPOCH 24 - PROGRESS: at 28.83% examples, 386627 words/s, in_qsize 13, out_qsize 2\n",
            "2019-02-21 10:31:40,796 : INFO : EPOCH 24 - PROGRESS: at 33.92% examples, 391101 words/s, in_qsize 16, out_qsize 0\n",
            "2019-02-21 10:31:41,806 : INFO : EPOCH 24 - PROGRESS: at 38.89% examples, 392938 words/s, in_qsize 15, out_qsize 0\n",
            "2019-02-21 10:31:42,808 : INFO : EPOCH 24 - PROGRESS: at 43.54% examples, 391759 words/s, in_qsize 15, out_qsize 0\n",
            "2019-02-21 10:31:43,830 : INFO : EPOCH 24 - PROGRESS: at 48.40% examples, 391792 words/s, in_qsize 15, out_qsize 0\n",
            "2019-02-21 10:31:44,847 : INFO : EPOCH 24 - PROGRESS: at 53.48% examples, 393652 words/s, in_qsize 15, out_qsize 0\n",
            "2019-02-21 10:31:45,858 : INFO : EPOCH 24 - PROGRESS: at 57.92% examples, 390974 words/s, in_qsize 15, out_qsize 0\n",
            "2019-02-21 10:31:46,870 : INFO : EPOCH 24 - PROGRESS: at 63.22% examples, 394072 words/s, in_qsize 16, out_qsize 0\n",
            "2019-02-21 10:31:47,871 : INFO : EPOCH 24 - PROGRESS: at 67.77% examples, 392660 words/s, in_qsize 15, out_qsize 0\n",
            "2019-02-21 10:31:48,877 : INFO : EPOCH 24 - PROGRESS: at 72.86% examples, 394211 words/s, in_qsize 16, out_qsize 0\n",
            "2019-02-21 10:31:49,907 : INFO : EPOCH 24 - PROGRESS: at 77.42% examples, 392227 words/s, in_qsize 11, out_qsize 7\n",
            "2019-02-21 10:31:50,912 : INFO : EPOCH 24 - PROGRESS: at 82.10% examples, 391573 words/s, in_qsize 16, out_qsize 5\n",
            "2019-02-21 10:31:51,913 : INFO : EPOCH 24 - PROGRESS: at 87.07% examples, 392543 words/s, in_qsize 15, out_qsize 0\n",
            "2019-02-21 10:31:52,968 : INFO : EPOCH 24 - PROGRESS: at 92.17% examples, 392756 words/s, in_qsize 13, out_qsize 2\n",
            "2019-02-21 10:31:54,007 : INFO : EPOCH 24 - PROGRESS: at 97.18% examples, 392807 words/s, in_qsize 16, out_qsize 0\n",
            "2019-02-21 10:31:54,396 : INFO : worker thread finished; awaiting finish of 7 more threads\n",
            "2019-02-21 10:31:54,408 : INFO : worker thread finished; awaiting finish of 6 more threads\n",
            "2019-02-21 10:31:54,412 : INFO : worker thread finished; awaiting finish of 5 more threads\n",
            "2019-02-21 10:31:54,418 : INFO : worker thread finished; awaiting finish of 4 more threads\n",
            "2019-02-21 10:31:54,422 : INFO : worker thread finished; awaiting finish of 3 more threads\n",
            "2019-02-21 10:31:54,452 : INFO : worker thread finished; awaiting finish of 2 more threads\n",
            "2019-02-21 10:31:54,461 : INFO : worker thread finished; awaiting finish of 1 more threads\n",
            "2019-02-21 10:31:54,470 : INFO : worker thread finished; awaiting finish of 0 more threads\n",
            "2019-02-21 10:31:54,471 : INFO : EPOCH - 24 : training on 9227204 raw words (8222706 effective words) took 20.8s, 395245 effective words/s\n",
            "2019-02-21 10:31:55,493 : INFO : EPOCH 25 - PROGRESS: at 4.12% examples, 335300 words/s, in_qsize 15, out_qsize 0\n",
            "2019-02-21 10:31:56,574 : INFO : EPOCH 25 - PROGRESS: at 9.23% examples, 362416 words/s, in_qsize 15, out_qsize 0\n",
            "2019-02-21 10:31:57,624 : INFO : EPOCH 25 - PROGRESS: at 14.33% examples, 374466 words/s, in_qsize 14, out_qsize 2\n",
            "2019-02-21 10:31:58,628 : INFO : EPOCH 25 - PROGRESS: at 19.30% examples, 382675 words/s, in_qsize 15, out_qsize 0\n",
            "2019-02-21 10:31:59,655 : INFO : EPOCH 25 - PROGRESS: at 23.74% examples, 377367 words/s, in_qsize 15, out_qsize 0\n",
            "2019-02-21 10:32:00,664 : INFO : EPOCH 25 - PROGRESS: at 28.61% examples, 380643 words/s, in_qsize 14, out_qsize 1\n",
            "2019-02-21 10:32:01,690 : INFO : EPOCH 25 - PROGRESS: at 33.27% examples, 379535 words/s, in_qsize 16, out_qsize 0\n",
            "2019-02-21 10:32:02,701 : INFO : EPOCH 25 - PROGRESS: at 38.35% examples, 383811 words/s, in_qsize 15, out_qsize 0\n",
            "2019-02-21 10:32:03,708 : INFO : EPOCH 25 - PROGRESS: at 43.10% examples, 384365 words/s, in_qsize 15, out_qsize 0\n",
            "2019-02-21 10:32:04,720 : INFO : EPOCH 25 - PROGRESS: at 47.65% examples, 382897 words/s, in_qsize 16, out_qsize 2\n",
            "2019-02-21 10:32:05,779 : INFO : EPOCH 25 - PROGRESS: at 52.84% examples, 384882 words/s, in_qsize 15, out_qsize 0\n",
            "2019-02-21 10:32:06,818 : INFO : EPOCH 25 - PROGRESS: at 58.03% examples, 387127 words/s, in_qsize 15, out_qsize 0\n",
            "2019-02-21 10:32:07,822 : INFO : EPOCH 25 - PROGRESS: at 62.79% examples, 387389 words/s, in_qsize 15, out_qsize 0\n",
            "2019-02-21 10:32:08,856 : INFO : EPOCH 25 - PROGRESS: at 67.77% examples, 388007 words/s, in_qsize 15, out_qsize 0\n",
            "2019-02-21 10:32:09,917 : INFO : EPOCH 25 - PROGRESS: at 72.75% examples, 387867 words/s, in_qsize 15, out_qsize 0\n",
            "2019-02-21 10:32:10,975 : INFO : EPOCH 25 - PROGRESS: at 77.85% examples, 388372 words/s, in_qsize 14, out_qsize 1\n",
            "2019-02-21 10:32:12,050 : INFO : EPOCH 25 - PROGRESS: at 82.96% examples, 388428 words/s, in_qsize 15, out_qsize 0\n",
            "2019-02-21 10:32:13,112 : INFO : EPOCH 25 - PROGRESS: at 88.05% examples, 388761 words/s, in_qsize 15, out_qsize 0\n",
            "2019-02-21 10:32:14,117 : INFO : EPOCH 25 - PROGRESS: at 92.50% examples, 387457 words/s, in_qsize 15, out_qsize 0\n",
            "2019-02-21 10:32:15,199 : INFO : EPOCH 25 - PROGRESS: at 97.82% examples, 388256 words/s, in_qsize 15, out_qsize 0\n",
            "2019-02-21 10:32:15,464 : INFO : worker thread finished; awaiting finish of 7 more threads\n",
            "2019-02-21 10:32:15,467 : INFO : worker thread finished; awaiting finish of 6 more threads\n",
            "2019-02-21 10:32:15,480 : INFO : worker thread finished; awaiting finish of 5 more threads\n",
            "2019-02-21 10:32:15,492 : INFO : worker thread finished; awaiting finish of 4 more threads\n",
            "2019-02-21 10:32:15,521 : INFO : worker thread finished; awaiting finish of 3 more threads\n",
            "2019-02-21 10:32:15,546 : INFO : worker thread finished; awaiting finish of 2 more threads\n",
            "2019-02-21 10:32:15,560 : INFO : worker thread finished; awaiting finish of 1 more threads\n",
            "2019-02-21 10:32:15,561 : INFO : worker thread finished; awaiting finish of 0 more threads\n",
            "2019-02-21 10:32:15,562 : INFO : EPOCH - 25 : training on 9227204 raw words (8222220 effective words) took 21.1s, 390079 effective words/s\n",
            "2019-02-21 10:32:16,589 : INFO : EPOCH 26 - PROGRESS: at 4.02% examples, 325284 words/s, in_qsize 13, out_qsize 3\n",
            "2019-02-21 10:32:17,605 : INFO : EPOCH 26 - PROGRESS: at 8.90% examples, 359997 words/s, in_qsize 16, out_qsize 0\n",
            "2019-02-21 10:32:18,628 : INFO : EPOCH 26 - PROGRESS: at 13.68% examples, 367845 words/s, in_qsize 15, out_qsize 2\n",
            "2019-02-21 10:32:19,687 : INFO : EPOCH 26 - PROGRESS: at 18.87% examples, 376939 words/s, in_qsize 15, out_qsize 0\n",
            "2019-02-21 10:32:20,695 : INFO : EPOCH 26 - PROGRESS: at 23.74% examples, 381148 words/s, in_qsize 15, out_qsize 0\n",
            "2019-02-21 10:32:21,703 : INFO : EPOCH 26 - PROGRESS: at 28.18% examples, 378022 words/s, in_qsize 15, out_qsize 0\n",
            "2019-02-21 10:32:22,704 : INFO : EPOCH 26 - PROGRESS: at 33.16% examples, 382496 words/s, in_qsize 14, out_qsize 1\n",
            "2019-02-21 10:32:23,705 : INFO : EPOCH 26 - PROGRESS: at 38.03% examples, 384668 words/s, in_qsize 15, out_qsize 0\n",
            "2019-02-21 10:32:24,716 : INFO : EPOCH 26 - PROGRESS: at 42.78% examples, 384998 words/s, in_qsize 14, out_qsize 1\n",
            "2019-02-21 10:32:25,784 : INFO : EPOCH 26 - PROGRESS: at 47.75% examples, 384805 words/s, in_qsize 15, out_qsize 0\n",
            "2019-02-21 10:32:26,858 : INFO : EPOCH 26 - PROGRESS: at 52.62% examples, 383755 words/s, in_qsize 13, out_qsize 2\n",
            "2019-02-21 10:32:27,884 : INFO : EPOCH 26 - PROGRESS: at 57.71% examples, 385777 words/s, in_qsize 16, out_qsize 1\n",
            "2019-02-21 10:32:28,937 : INFO : EPOCH 26 - PROGRESS: at 62.79% examples, 386704 words/s, in_qsize 15, out_qsize 0\n",
            "2019-02-21 10:32:29,954 : INFO : EPOCH 26 - PROGRESS: at 67.56% examples, 386597 words/s, in_qsize 15, out_qsize 0\n",
            "2019-02-21 10:32:30,993 : INFO : EPOCH 26 - PROGRESS: at 72.53% examples, 387119 words/s, in_qsize 15, out_qsize 0\n",
            "2019-02-21 10:32:32,019 : INFO : EPOCH 26 - PROGRESS: at 77.09% examples, 385692 words/s, in_qsize 15, out_qsize 0\n",
            "2019-02-21 10:32:33,107 : INFO : EPOCH 26 - PROGRESS: at 82.31% examples, 386149 words/s, in_qsize 15, out_qsize 3\n",
            "2019-02-21 10:32:34,125 : INFO : EPOCH 26 - PROGRESS: at 87.62% examples, 388488 words/s, in_qsize 16, out_qsize 0\n",
            "2019-02-21 10:32:35,141 : INFO : EPOCH 26 - PROGRESS: at 92.39% examples, 388350 words/s, in_qsize 15, out_qsize 0\n",
            "2019-02-21 10:32:36,147 : INFO : EPOCH 26 - PROGRESS: at 97.07% examples, 387946 words/s, in_qsize 15, out_qsize 1\n",
            "2019-02-21 10:32:36,548 : INFO : worker thread finished; awaiting finish of 7 more threads\n",
            "2019-02-21 10:32:36,561 : INFO : worker thread finished; awaiting finish of 6 more threads\n",
            "2019-02-21 10:32:36,569 : INFO : worker thread finished; awaiting finish of 5 more threads\n",
            "2019-02-21 10:32:36,583 : INFO : worker thread finished; awaiting finish of 4 more threads\n",
            "2019-02-21 10:32:36,625 : INFO : worker thread finished; awaiting finish of 3 more threads\n",
            "2019-02-21 10:32:36,636 : INFO : worker thread finished; awaiting finish of 2 more threads\n",
            "2019-02-21 10:32:36,640 : INFO : worker thread finished; awaiting finish of 1 more threads\n",
            "2019-02-21 10:32:36,641 : INFO : worker thread finished; awaiting finish of 0 more threads\n",
            "2019-02-21 10:32:36,642 : INFO : EPOCH - 26 : training on 9227204 raw words (8222165 effective words) took 21.1s, 390301 effective words/s\n",
            "2019-02-21 10:32:37,678 : INFO : EPOCH 27 - PROGRESS: at 4.45% examples, 356765 words/s, in_qsize 14, out_qsize 1\n",
            "2019-02-21 10:32:38,696 : INFO : EPOCH 27 - PROGRESS: at 9.55% examples, 384311 words/s, in_qsize 15, out_qsize 0\n",
            "2019-02-21 10:32:39,724 : INFO : EPOCH 27 - PROGRESS: at 14.00% examples, 374511 words/s, in_qsize 15, out_qsize 0\n",
            "2019-02-21 10:32:40,746 : INFO : EPOCH 27 - PROGRESS: at 18.97% examples, 381006 words/s, in_qsize 15, out_qsize 0\n",
            "2019-02-21 10:32:41,750 : INFO : EPOCH 27 - PROGRESS: at 23.84% examples, 384604 words/s, in_qsize 15, out_qsize 0\n",
            "2019-02-21 10:32:42,770 : INFO : EPOCH 27 - PROGRESS: at 28.61% examples, 384531 words/s, in_qsize 15, out_qsize 0\n",
            "2019-02-21 10:32:43,786 : INFO : EPOCH 27 - PROGRESS: at 33.48% examples, 385955 words/s, in_qsize 15, out_qsize 0\n",
            "2019-02-21 10:32:44,828 : INFO : EPOCH 27 - PROGRESS: at 38.46% examples, 386927 words/s, in_qsize 15, out_qsize 0\n",
            "2019-02-21 10:32:45,896 : INFO : EPOCH 27 - PROGRESS: at 43.64% examples, 388486 words/s, in_qsize 16, out_qsize 1\n",
            "2019-02-21 10:32:46,993 : INFO : EPOCH 27 - PROGRESS: at 48.84% examples, 388632 words/s, in_qsize 16, out_qsize 0\n",
            "2019-02-21 10:32:48,015 : INFO : EPOCH 27 - PROGRESS: at 54.03% examples, 391313 words/s, in_qsize 16, out_qsize 0\n",
            "2019-02-21 10:32:49,116 : INFO : EPOCH 27 - PROGRESS: at 58.90% examples, 388950 words/s, in_qsize 13, out_qsize 2\n",
            "2019-02-21 10:32:50,122 : INFO : EPOCH 27 - PROGRESS: at 63.87% examples, 390302 words/s, in_qsize 16, out_qsize 0\n",
            "2019-02-21 10:32:51,190 : INFO : EPOCH 27 - PROGRESS: at 68.85% examples, 389836 words/s, in_qsize 15, out_qsize 0\n",
            "2019-02-21 10:32:52,203 : INFO : EPOCH 27 - PROGRESS: at 73.94% examples, 391331 words/s, in_qsize 15, out_qsize 0\n",
            "2019-02-21 10:32:53,239 : INFO : EPOCH 27 - PROGRESS: at 78.29% examples, 388381 words/s, in_qsize 15, out_qsize 3\n",
            "2019-02-21 10:32:54,259 : INFO : EPOCH 27 - PROGRESS: at 83.29% examples, 389157 words/s, in_qsize 15, out_qsize 0\n",
            "2019-02-21 10:32:55,328 : INFO : EPOCH 27 - PROGRESS: at 88.05% examples, 388176 words/s, in_qsize 15, out_qsize 2\n",
            "2019-02-21 10:32:56,336 : INFO : EPOCH 27 - PROGRESS: at 93.15% examples, 389266 words/s, in_qsize 15, out_qsize 0\n",
            "2019-02-21 10:32:57,341 : INFO : EPOCH 27 - PROGRESS: at 98.15% examples, 390155 words/s, in_qsize 15, out_qsize 0\n",
            "2019-02-21 10:32:57,595 : INFO : worker thread finished; awaiting finish of 7 more threads\n",
            "2019-02-21 10:32:57,603 : INFO : worker thread finished; awaiting finish of 6 more threads\n",
            "2019-02-21 10:32:57,654 : INFO : worker thread finished; awaiting finish of 5 more threads\n",
            "2019-02-21 10:32:57,662 : INFO : worker thread finished; awaiting finish of 4 more threads\n",
            "2019-02-21 10:32:57,675 : INFO : worker thread finished; awaiting finish of 3 more threads\n",
            "2019-02-21 10:32:57,682 : INFO : worker thread finished; awaiting finish of 2 more threads\n",
            "2019-02-21 10:32:57,690 : INFO : worker thread finished; awaiting finish of 1 more threads\n",
            "2019-02-21 10:32:57,695 : INFO : worker thread finished; awaiting finish of 0 more threads\n",
            "2019-02-21 10:32:57,696 : INFO : EPOCH - 27 : training on 9227204 raw words (8223420 effective words) took 21.0s, 390815 effective words/s\n",
            "2019-02-21 10:32:58,709 : INFO : EPOCH 28 - PROGRESS: at 4.13% examples, 338253 words/s, in_qsize 16, out_qsize 1\n",
            "2019-02-21 10:32:59,720 : INFO : EPOCH 28 - PROGRESS: at 8.80% examples, 358599 words/s, in_qsize 14, out_qsize 1\n",
            "2019-02-21 10:33:00,803 : INFO : EPOCH 28 - PROGRESS: at 13.79% examples, 365526 words/s, in_qsize 16, out_qsize 1\n",
            "2019-02-21 10:33:01,855 : INFO : EPOCH 28 - PROGRESS: at 18.76% examples, 371532 words/s, in_qsize 15, out_qsize 0\n",
            "2019-02-21 10:33:02,873 : INFO : EPOCH 28 - PROGRESS: at 23.96% examples, 381059 words/s, in_qsize 15, out_qsize 0\n",
            "2019-02-21 10:33:03,914 : INFO : EPOCH 28 - PROGRESS: at 28.50% examples, 377464 words/s, in_qsize 15, out_qsize 0\n",
            "2019-02-21 10:33:04,936 : INFO : EPOCH 28 - PROGRESS: at 33.38% examples, 379479 words/s, in_qsize 15, out_qsize 0\n",
            "2019-02-21 10:33:05,985 : INFO : EPOCH 28 - PROGRESS: at 38.24% examples, 379848 words/s, in_qsize 15, out_qsize 0\n",
            "2019-02-21 10:33:06,990 : INFO : EPOCH 28 - PROGRESS: at 43.43% examples, 384780 words/s, in_qsize 15, out_qsize 0\n",
            "2019-02-21 10:33:07,991 : INFO : EPOCH 28 - PROGRESS: at 47.65% examples, 381091 words/s, in_qsize 13, out_qsize 2\n",
            "2019-02-21 10:33:09,029 : INFO : EPOCH 28 - PROGRESS: at 52.62% examples, 382384 words/s, in_qsize 13, out_qsize 2\n",
            "2019-02-21 10:33:10,070 : INFO : EPOCH 28 - PROGRESS: at 57.49% examples, 382629 words/s, in_qsize 16, out_qsize 0\n",
            "2019-02-21 10:33:11,078 : INFO : EPOCH 28 - PROGRESS: at 62.03% examples, 381781 words/s, in_qsize 13, out_qsize 2\n",
            "2019-02-21 10:33:12,147 : INFO : EPOCH 28 - PROGRESS: at 67.24% examples, 383116 words/s, in_qsize 14, out_qsize 1\n",
            "2019-02-21 10:33:13,158 : INFO : EPOCH 28 - PROGRESS: at 72.43% examples, 385709 words/s, in_qsize 14, out_qsize 0\n",
            "2019-02-21 10:33:14,207 : INFO : EPOCH 28 - PROGRESS: at 76.88% examples, 383297 words/s, in_qsize 16, out_qsize 2\n",
            "2019-02-21 10:33:15,233 : INFO : EPOCH 28 - PROGRESS: at 82.21% examples, 385753 words/s, in_qsize 15, out_qsize 0\n",
            "2019-02-21 10:33:16,235 : INFO : EPOCH 28 - PROGRESS: at 87.07% examples, 386510 words/s, in_qsize 15, out_qsize 0\n",
            "2019-02-21 10:33:17,302 : INFO : EPOCH 28 - PROGRESS: at 91.96% examples, 385912 words/s, in_qsize 15, out_qsize 0\n",
            "2019-02-21 10:33:18,379 : INFO : EPOCH 28 - PROGRESS: at 97.18% examples, 386481 words/s, in_qsize 15, out_qsize 0\n",
            "2019-02-21 10:33:18,747 : INFO : worker thread finished; awaiting finish of 7 more threads\n",
            "2019-02-21 10:33:18,759 : INFO : worker thread finished; awaiting finish of 6 more threads\n",
            "2019-02-21 10:33:18,790 : INFO : worker thread finished; awaiting finish of 5 more threads\n",
            "2019-02-21 10:33:18,792 : INFO : worker thread finished; awaiting finish of 4 more threads\n",
            "2019-02-21 10:33:18,803 : INFO : worker thread finished; awaiting finish of 3 more threads\n",
            "2019-02-21 10:33:18,810 : INFO : worker thread finished; awaiting finish of 2 more threads\n",
            "2019-02-21 10:33:18,829 : INFO : worker thread finished; awaiting finish of 1 more threads\n",
            "2019-02-21 10:33:18,833 : INFO : worker thread finished; awaiting finish of 0 more threads\n",
            "2019-02-21 10:33:18,834 : INFO : EPOCH - 28 : training on 9227204 raw words (8221346 effective words) took 21.1s, 389163 effective words/s\n",
            "2019-02-21 10:33:19,914 : INFO : EPOCH 29 - PROGRESS: at 4.56% examples, 350374 words/s, in_qsize 15, out_qsize 0\n",
            "2019-02-21 10:33:20,976 : INFO : EPOCH 29 - PROGRESS: at 9.77% examples, 376585 words/s, in_qsize 15, out_qsize 0\n",
            "2019-02-21 10:33:22,000 : INFO : EPOCH 29 - PROGRESS: at 14.75% examples, 384170 words/s, in_qsize 14, out_qsize 1\n",
            "2019-02-21 10:33:23,025 : INFO : EPOCH 29 - PROGRESS: at 19.62% examples, 385775 words/s, in_qsize 15, out_qsize 0\n",
            "2019-02-21 10:33:24,029 : INFO : EPOCH 29 - PROGRESS: at 24.50% examples, 388411 words/s, in_qsize 16, out_qsize 0\n",
            "2019-02-21 10:33:25,031 : INFO : EPOCH 29 - PROGRESS: at 29.59% examples, 393194 words/s, in_qsize 15, out_qsize 0\n",
            "2019-02-21 10:33:26,093 : INFO : EPOCH 29 - PROGRESS: at 33.81% examples, 384605 words/s, in_qsize 15, out_qsize 3\n",
            "2019-02-21 10:33:27,112 : INFO : EPOCH 29 - PROGRESS: at 38.68% examples, 384713 words/s, in_qsize 15, out_qsize 0\n",
            "2019-02-21 10:33:28,117 : INFO : EPOCH 29 - PROGRESS: at 43.32% examples, 384337 words/s, in_qsize 14, out_qsize 0\n",
            "2019-02-21 10:33:29,178 : INFO : EPOCH 29 - PROGRESS: at 47.97% examples, 381918 words/s, in_qsize 15, out_qsize 0\n",
            "2019-02-21 10:33:30,190 : INFO : EPOCH 29 - PROGRESS: at 52.40% examples, 380099 words/s, in_qsize 12, out_qsize 3\n",
            "2019-02-21 10:33:31,248 : INFO : EPOCH 29 - PROGRESS: at 57.38% examples, 380739 words/s, in_qsize 15, out_qsize 0\n",
            "2019-02-21 10:33:32,274 : INFO : EPOCH 29 - PROGRESS: at 62.46% examples, 382831 words/s, in_qsize 13, out_qsize 2\n",
            "2019-02-21 10:33:33,318 : INFO : EPOCH 29 - PROGRESS: at 67.34% examples, 382899 words/s, in_qsize 13, out_qsize 2\n",
            "2019-02-21 10:33:34,358 : INFO : EPOCH 29 - PROGRESS: at 72.32% examples, 383658 words/s, in_qsize 16, out_qsize 0\n",
            "2019-02-21 10:33:35,363 : INFO : EPOCH 29 - PROGRESS: at 77.20% examples, 384548 words/s, in_qsize 14, out_qsize 2\n",
            "2019-02-21 10:33:36,432 : INFO : EPOCH 29 - PROGRESS: at 81.88% examples, 382953 words/s, in_qsize 14, out_qsize 1\n",
            "2019-02-21 10:33:37,449 : INFO : EPOCH 29 - PROGRESS: at 86.86% examples, 384036 words/s, in_qsize 15, out_qsize 0\n",
            "2019-02-21 10:33:38,539 : INFO : EPOCH 29 - PROGRESS: at 91.52% examples, 382213 words/s, in_qsize 15, out_qsize 0\n",
            "2019-02-21 10:33:39,549 : INFO : EPOCH 29 - PROGRESS: at 96.64% examples, 383776 words/s, in_qsize 15, out_qsize 0\n",
            "2019-02-21 10:33:40,193 : INFO : worker thread finished; awaiting finish of 7 more threads\n",
            "2019-02-21 10:33:40,198 : INFO : worker thread finished; awaiting finish of 6 more threads\n",
            "2019-02-21 10:33:40,213 : INFO : worker thread finished; awaiting finish of 5 more threads\n",
            "2019-02-21 10:33:40,251 : INFO : worker thread finished; awaiting finish of 4 more threads\n",
            "2019-02-21 10:33:40,258 : INFO : worker thread finished; awaiting finish of 3 more threads\n",
            "2019-02-21 10:33:40,267 : INFO : worker thread finished; awaiting finish of 2 more threads\n",
            "2019-02-21 10:33:40,270 : INFO : worker thread finished; awaiting finish of 1 more threads\n",
            "2019-02-21 10:33:40,282 : INFO : worker thread finished; awaiting finish of 0 more threads\n",
            "2019-02-21 10:33:40,283 : INFO : EPOCH - 29 : training on 9227204 raw words (8221731 effective words) took 21.4s, 383556 effective words/s\n",
            "2019-02-21 10:33:41,303 : INFO : EPOCH 30 - PROGRESS: at 4.34% examples, 353632 words/s, in_qsize 14, out_qsize 0\n",
            "2019-02-21 10:33:42,322 : INFO : EPOCH 30 - PROGRESS: at 8.80% examples, 356186 words/s, in_qsize 15, out_qsize 0\n",
            "2019-02-21 10:33:43,350 : INFO : EPOCH 30 - PROGRESS: at 13.36% examples, 358815 words/s, in_qsize 14, out_qsize 1\n",
            "2019-02-21 10:33:44,373 : INFO : EPOCH 30 - PROGRESS: at 18.32% examples, 369238 words/s, in_qsize 15, out_qsize 0\n",
            "2019-02-21 10:33:45,412 : INFO : EPOCH 30 - PROGRESS: at 22.76% examples, 365668 words/s, in_qsize 16, out_qsize 0\n",
            "2019-02-21 10:33:46,418 : INFO : EPOCH 30 - PROGRESS: at 27.75% examples, 372528 words/s, in_qsize 15, out_qsize 0\n",
            "2019-02-21 10:33:47,422 : INFO : EPOCH 30 - PROGRESS: at 32.73% examples, 377560 words/s, in_qsize 13, out_qsize 2\n",
            "2019-02-21 10:33:48,439 : INFO : EPOCH 30 - PROGRESS: at 37.27% examples, 376337 words/s, in_qsize 16, out_qsize 0\n",
            "2019-02-21 10:33:49,489 : INFO : EPOCH 30 - PROGRESS: at 42.24% examples, 377928 words/s, in_qsize 15, out_qsize 4\n",
            "2019-02-21 10:33:50,568 : INFO : EPOCH 30 - PROGRESS: at 47.54% examples, 380680 words/s, in_qsize 15, out_qsize 0\n",
            "2019-02-21 10:33:51,683 : INFO : EPOCH 30 - PROGRESS: at 52.84% examples, 381768 words/s, in_qsize 14, out_qsize 1\n",
            "2019-02-21 10:33:52,739 : INFO : EPOCH 30 - PROGRESS: at 58.03% examples, 383793 words/s, in_qsize 15, out_qsize 0\n",
            "2019-02-21 10:33:53,762 : INFO : EPOCH 30 - PROGRESS: at 63.11% examples, 385722 words/s, in_qsize 15, out_qsize 0\n",
            "2019-02-21 10:33:54,783 : INFO : EPOCH 30 - PROGRESS: at 67.66% examples, 384344 words/s, in_qsize 15, out_qsize 0\n",
            "2019-02-21 10:33:55,864 : INFO : EPOCH 30 - PROGRESS: at 72.97% examples, 385696 words/s, in_qsize 16, out_qsize 0\n",
            "2019-02-21 10:33:56,886 : INFO : EPOCH 30 - PROGRESS: at 78.07% examples, 387159 words/s, in_qsize 16, out_qsize 1\n",
            "2019-02-21 10:33:57,922 : INFO : EPOCH 30 - PROGRESS: at 82.74% examples, 386133 words/s, in_qsize 16, out_qsize 0\n",
            "2019-02-21 10:33:58,973 : INFO : EPOCH 30 - PROGRESS: at 87.72% examples, 386327 words/s, in_qsize 15, out_qsize 0\n",
            "2019-02-21 10:34:00,026 : INFO : EPOCH 30 - PROGRESS: at 92.83% examples, 386932 words/s, in_qsize 15, out_qsize 0\n",
            "2019-02-21 10:34:01,056 : INFO : EPOCH 30 - PROGRESS: at 97.71% examples, 387026 words/s, in_qsize 15, out_qsize 0\n",
            "2019-02-21 10:34:01,327 : INFO : worker thread finished; awaiting finish of 7 more threads\n",
            "2019-02-21 10:34:01,336 : INFO : worker thread finished; awaiting finish of 6 more threads\n",
            "2019-02-21 10:34:01,382 : INFO : worker thread finished; awaiting finish of 5 more threads\n",
            "2019-02-21 10:34:01,386 : INFO : worker thread finished; awaiting finish of 4 more threads\n",
            "2019-02-21 10:34:01,397 : INFO : worker thread finished; awaiting finish of 3 more threads\n",
            "2019-02-21 10:34:01,401 : INFO : worker thread finished; awaiting finish of 2 more threads\n",
            "2019-02-21 10:34:01,411 : INFO : worker thread finished; awaiting finish of 1 more threads\n",
            "2019-02-21 10:34:01,412 : INFO : worker thread finished; awaiting finish of 0 more threads\n",
            "2019-02-21 10:34:01,414 : INFO : EPOCH - 30 : training on 9227204 raw words (8222950 effective words) took 21.1s, 389384 effective words/s\n",
            "2019-02-21 10:34:02,456 : INFO : EPOCH 31 - PROGRESS: at 4.56% examples, 363626 words/s, in_qsize 12, out_qsize 2\n",
            "2019-02-21 10:34:03,463 : INFO : EPOCH 31 - PROGRESS: at 9.34% examples, 376390 words/s, in_qsize 15, out_qsize 0\n",
            "2019-02-21 10:34:04,464 : INFO : EPOCH 31 - PROGRESS: at 14.11% examples, 381394 words/s, in_qsize 15, out_qsize 0\n",
            "2019-02-21 10:34:05,503 : INFO : EPOCH 31 - PROGRESS: at 18.87% examples, 380301 words/s, in_qsize 11, out_qsize 4\n",
            "2019-02-21 10:34:06,505 : INFO : EPOCH 31 - PROGRESS: at 23.96% examples, 387786 words/s, in_qsize 13, out_qsize 2\n",
            "2019-02-21 10:34:07,546 : INFO : EPOCH 31 - PROGRESS: at 28.61% examples, 384414 words/s, in_qsize 16, out_qsize 1\n",
            "2019-02-21 10:34:08,595 : INFO : EPOCH 31 - PROGRESS: at 33.81% examples, 389439 words/s, in_qsize 15, out_qsize 2\n",
            "2019-02-21 10:34:09,609 : INFO : EPOCH 31 - PROGRESS: at 38.78% examples, 389774 words/s, in_qsize 15, out_qsize 0\n",
            "2019-02-21 10:34:10,616 : INFO : EPOCH 31 - PROGRESS: at 43.86% examples, 392631 words/s, in_qsize 15, out_qsize 0\n",
            "2019-02-21 10:34:11,686 : INFO : EPOCH 31 - PROGRESS: at 48.51% examples, 389005 words/s, in_qsize 11, out_qsize 4\n",
            "2019-02-21 10:34:12,763 : INFO : EPOCH 31 - PROGRESS: at 53.81% examples, 390568 words/s, in_qsize 14, out_qsize 1\n",
            "2019-02-21 10:34:13,815 : INFO : EPOCH 31 - PROGRESS: at 58.90% examples, 391251 words/s, in_qsize 15, out_qsize 0\n",
            "2019-02-21 10:34:14,887 : INFO : EPOCH 31 - PROGRESS: at 63.97% examples, 391183 words/s, in_qsize 15, out_qsize 0\n",
            "2019-02-21 10:34:15,891 : INFO : EPOCH 31 - PROGRESS: at 68.75% examples, 391127 words/s, in_qsize 15, out_qsize 0\n",
            "2019-02-21 10:34:16,891 : INFO : EPOCH 31 - PROGRESS: at 73.62% examples, 391742 words/s, in_qsize 15, out_qsize 0\n",
            "2019-02-21 10:34:17,902 : INFO : EPOCH 31 - PROGRESS: at 78.51% examples, 392033 words/s, in_qsize 15, out_qsize 0\n",
            "2019-02-21 10:34:18,930 : INFO : EPOCH 31 - PROGRESS: at 83.51% examples, 392438 words/s, in_qsize 15, out_qsize 0\n",
            "2019-02-21 10:34:19,951 : INFO : EPOCH 31 - PROGRESS: at 88.37% examples, 392413 words/s, in_qsize 15, out_qsize 0\n",
            "2019-02-21 10:34:20,984 : INFO : EPOCH 31 - PROGRESS: at 93.15% examples, 391707 words/s, in_qsize 14, out_qsize 1\n",
            "2019-02-21 10:34:22,068 : INFO : EPOCH 31 - PROGRESS: at 98.47% examples, 392274 words/s, in_qsize 15, out_qsize 0\n",
            "2019-02-21 10:34:22,168 : INFO : worker thread finished; awaiting finish of 7 more threads\n",
            "2019-02-21 10:34:22,210 : INFO : worker thread finished; awaiting finish of 6 more threads\n",
            "2019-02-21 10:34:22,235 : INFO : worker thread finished; awaiting finish of 5 more threads\n",
            "2019-02-21 10:34:22,243 : INFO : worker thread finished; awaiting finish of 4 more threads\n",
            "2019-02-21 10:34:22,279 : INFO : worker thread finished; awaiting finish of 3 more threads\n",
            "2019-02-21 10:34:22,281 : INFO : worker thread finished; awaiting finish of 2 more threads\n",
            "2019-02-21 10:34:22,292 : INFO : worker thread finished; awaiting finish of 1 more threads\n",
            "2019-02-21 10:34:22,293 : INFO : worker thread finished; awaiting finish of 0 more threads\n",
            "2019-02-21 10:34:22,295 : INFO : EPOCH - 31 : training on 9227204 raw words (8222377 effective words) took 20.9s, 394040 effective words/s\n",
            "2019-02-21 10:34:23,319 : INFO : EPOCH 32 - PROGRESS: at 4.34% examples, 351682 words/s, in_qsize 15, out_qsize 0\n",
            "2019-02-21 10:34:24,321 : INFO : EPOCH 32 - PROGRESS: at 9.23% examples, 375826 words/s, in_qsize 15, out_qsize 0\n",
            "2019-02-21 10:34:25,366 : INFO : EPOCH 32 - PROGRESS: at 14.00% examples, 375555 words/s, in_qsize 15, out_qsize 0\n",
            "2019-02-21 10:34:26,425 : INFO : EPOCH 32 - PROGRESS: at 19.40% examples, 387103 words/s, in_qsize 16, out_qsize 0\n",
            "2019-02-21 10:34:27,452 : INFO : EPOCH 32 - PROGRESS: at 23.96% examples, 382560 words/s, in_qsize 16, out_qsize 3\n",
            "2019-02-21 10:34:28,479 : INFO : EPOCH 32 - PROGRESS: at 29.16% examples, 388263 words/s, in_qsize 15, out_qsize 0\n",
            "2019-02-21 10:34:29,503 : INFO : EPOCH 32 - PROGRESS: at 33.92% examples, 387423 words/s, in_qsize 15, out_qsize 0\n",
            "2019-02-21 10:34:30,582 : INFO : EPOCH 32 - PROGRESS: at 38.89% examples, 386454 words/s, in_qsize 16, out_qsize 0\n",
            "2019-02-21 10:34:31,590 : INFO : EPOCH 32 - PROGRESS: at 43.75% examples, 387667 words/s, in_qsize 14, out_qsize 2\n",
            "2019-02-21 10:34:32,695 : INFO : EPOCH 32 - PROGRESS: at 49.05% examples, 388481 words/s, in_qsize 15, out_qsize 0\n",
            "2019-02-21 10:34:33,732 : INFO : EPOCH 32 - PROGRESS: at 54.14% examples, 389904 words/s, in_qsize 15, out_qsize 0\n",
            "2019-02-21 10:34:34,737 : INFO : EPOCH 32 - PROGRESS: at 59.34% examples, 392776 words/s, in_qsize 15, out_qsize 0\n",
            "2019-02-21 10:34:35,744 : INFO : EPOCH 32 - PROGRESS: at 63.87% examples, 391197 words/s, in_qsize 15, out_qsize 0\n",
            "2019-02-21 10:34:36,750 : INFO : EPOCH 32 - PROGRESS: at 68.75% examples, 391702 words/s, in_qsize 15, out_qsize 0\n",
            "2019-02-21 10:34:37,775 : INFO : EPOCH 32 - PROGRESS: at 73.73% examples, 392228 words/s, in_qsize 16, out_qsize 0\n",
            "2019-02-21 10:34:38,823 : INFO : EPOCH 32 - PROGRESS: at 78.62% examples, 391604 words/s, in_qsize 14, out_qsize 1\n",
            "2019-02-21 10:34:39,827 : INFO : EPOCH 32 - PROGRESS: at 83.62% examples, 392555 words/s, in_qsize 16, out_qsize 0\n",
            "2019-02-21 10:34:40,844 : INFO : EPOCH 32 - PROGRESS: at 88.37% examples, 392137 words/s, in_qsize 15, out_qsize 0\n",
            "2019-02-21 10:34:41,860 : INFO : EPOCH 32 - PROGRESS: at 93.26% examples, 392253 words/s, in_qsize 13, out_qsize 2\n",
            "2019-02-21 10:34:42,909 : INFO : EPOCH 32 - PROGRESS: at 98.47% examples, 393026 words/s, in_qsize 15, out_qsize 0\n",
            "2019-02-21 10:34:43,040 : INFO : worker thread finished; awaiting finish of 7 more threads\n",
            "2019-02-21 10:34:43,056 : INFO : worker thread finished; awaiting finish of 6 more threads\n",
            "2019-02-21 10:34:43,064 : INFO : worker thread finished; awaiting finish of 5 more threads\n",
            "2019-02-21 10:34:43,094 : INFO : worker thread finished; awaiting finish of 4 more threads\n",
            "2019-02-21 10:34:43,108 : INFO : worker thread finished; awaiting finish of 3 more threads\n",
            "2019-02-21 10:34:43,127 : INFO : worker thread finished; awaiting finish of 2 more threads\n",
            "2019-02-21 10:34:43,134 : INFO : worker thread finished; awaiting finish of 1 more threads\n",
            "2019-02-21 10:34:43,139 : INFO : worker thread finished; awaiting finish of 0 more threads\n",
            "2019-02-21 10:34:43,140 : INFO : EPOCH - 32 : training on 9227204 raw words (8223523 effective words) took 20.8s, 394709 effective words/s\n",
            "2019-02-21 10:34:43,141 : INFO : training on a 295270528 raw words (263123428 effective words) took 673.0s, 390987 effective words/s\n"
          ],
          "name": "stderr"
        },
        {
          "output_type": "stream",
          "text": [
            "CPU times: user 21min 50s, sys: 4.82 s, total: 21min 55s\n",
            "Wall time: 11min 12s\n"
          ],
          "name": "stdout"
        },
        {
          "output_type": "execute_result",
          "data": {
            "text/plain": [
              "(263123428, 295270528)"
            ]
          },
          "metadata": {
            "tags": []
          },
          "execution_count": 76
        }
      ]
    },
    {
      "metadata": {
        "id": "tvUfc3Y6G96d",
        "colab_type": "code",
        "colab": {
          "base_uri": "https://localhost:8080/",
          "height": 204
        },
        "outputId": "f558417f-153c-4452-c1cb-a11ae8c8a59a"
      },
      "cell_type": "code",
      "source": [
        "w2v_model.most_similar(\"love\")"
      ],
      "execution_count": 77,
      "outputs": [
        {
          "output_type": "stream",
          "text": [
            "2019-02-21 10:34:43,153 : INFO : precomputing L2-norms of word weight vectors\n"
          ],
          "name": "stderr"
        },
        {
          "output_type": "execute_result",
          "data": {
            "text/plain": [
              "[('luv', 0.5743352174758911),\n",
              " ('loves', 0.5617808699607849),\n",
              " ('loved', 0.5331576466560364),\n",
              " ('adore', 0.5241740942001343),\n",
              " ('amazing', 0.5005620718002319),\n",
              " ('looove', 0.49606549739837646),\n",
              " ('awesome', 0.4657699465751648),\n",
              " ('lovee', 0.44312143325805664),\n",
              " ('miss', 0.44245004653930664),\n",
              " ('loooove', 0.43469715118408203)]"
            ]
          },
          "metadata": {
            "tags": []
          },
          "execution_count": 77
        }
      ]
    },
    {
      "metadata": {
        "id": "-oMOfGOIG96g",
        "colab_type": "text"
      },
      "cell_type": "markdown",
      "source": [
        "## Tokenize Text"
      ]
    },
    {
      "metadata": {
        "id": "lHea_iMkG96h",
        "colab_type": "code",
        "colab": {
          "base_uri": "https://localhost:8080/",
          "height": 68
        },
        "outputId": "046032d7-276c-4286-a5c6-2dee8865b075"
      },
      "cell_type": "code",
      "source": [
        "%%time\n",
        "tokenizer = Tokenizer()\n",
        "tokenizer.fit_on_texts(df_train.text)\n",
        "\n",
        "vocab_size = len(tokenizer.word_index) + 1\n",
        "print(\"Total words\", vocab_size)"
      ],
      "execution_count": 78,
      "outputs": [
        {
          "output_type": "stream",
          "text": [
            "Total words 290419\n",
            "CPU times: user 23.6 s, sys: 150 ms, total: 23.8 s\n",
            "Wall time: 23.7 s\n"
          ],
          "name": "stdout"
        }
      ]
    },
    {
      "metadata": {
        "id": "bk4EnXxSG96k",
        "colab_type": "code",
        "colab": {
          "base_uri": "https://localhost:8080/",
          "height": 51
        },
        "outputId": "81ffe283-09cc-42b3-8df3-f8d2f8ccf97f"
      },
      "cell_type": "code",
      "source": [
        "%%time\n",
        "x_train = pad_sequences(tokenizer.texts_to_sequences(df_train.text), maxlen=SEQUENCE_LENGTH)\n",
        "x_test = pad_sequences(tokenizer.texts_to_sequences(df_test.text), maxlen=SEQUENCE_LENGTH)"
      ],
      "execution_count": 79,
      "outputs": [
        {
          "output_type": "stream",
          "text": [
            "CPU times: user 34.7 s, sys: 798 ms, total: 35.5 s\n",
            "Wall time: 35.5 s\n"
          ],
          "name": "stdout"
        }
      ]
    },
    {
      "metadata": {
        "id": "7IkOxAslG96n",
        "colab_type": "text"
      },
      "cell_type": "markdown",
      "source": [
        "## Label Encoder"
      ]
    },
    {
      "metadata": {
        "id": "pp9M8g3KG96n",
        "colab_type": "code",
        "colab": {
          "base_uri": "https://localhost:8080/",
          "height": 34
        },
        "outputId": "998d4f18-ab49-46e7-b005-0aaab3d894a3"
      },
      "cell_type": "code",
      "source": [
        "labels = df_train.target.unique().tolist()\n",
        "labels.append(NEUTRAL)\n",
        "labels"
      ],
      "execution_count": 80,
      "outputs": [
        {
          "output_type": "execute_result",
          "data": {
            "text/plain": [
              "['POSITIVE', 'NEGATIVE', 'NEUTRAL']"
            ]
          },
          "metadata": {
            "tags": []
          },
          "execution_count": 80
        }
      ]
    },
    {
      "metadata": {
        "id": "ud06tVkPG96s",
        "colab_type": "code",
        "colab": {
          "base_uri": "https://localhost:8080/",
          "height": 51
        },
        "outputId": "7ea1bd98-a672-45f9-e168-c6d732071ff3"
      },
      "cell_type": "code",
      "source": [
        "encoder = LabelEncoder()\n",
        "encoder.fit(df_train.target.tolist())\n",
        "\n",
        "y_train = encoder.transform(df_train.target.tolist())\n",
        "y_test = encoder.transform(df_test.target.tolist())\n",
        "\n",
        "y_train = y_train.reshape(-1,1)\n",
        "y_test = y_test.reshape(-1,1)\n",
        "\n",
        "print(\"y_train\",y_train.shape)\n",
        "print(\"y_test\",y_test.shape)"
      ],
      "execution_count": 81,
      "outputs": [
        {
          "output_type": "stream",
          "text": [
            "y_train (1280000, 1)\n",
            "y_test (320000, 1)\n"
          ],
          "name": "stdout"
        }
      ]
    },
    {
      "metadata": {
        "id": "TxB87Z3uG96z",
        "colab_type": "code",
        "colab": {
          "base_uri": "https://localhost:8080/",
          "height": 102
        },
        "outputId": "b294605c-e5f1-4cc0-e403-60b320c04f7d"
      },
      "cell_type": "code",
      "source": [
        "print(\"x_train\", x_train.shape)\n",
        "print(\"y_train\", y_train.shape)\n",
        "print()\n",
        "print(\"x_test\", x_test.shape)\n",
        "print(\"y_test\", y_test.shape)"
      ],
      "execution_count": 82,
      "outputs": [
        {
          "output_type": "stream",
          "text": [
            "x_train (1280000, 300)\n",
            "y_train (1280000, 1)\n",
            "\n",
            "x_test (320000, 300)\n",
            "y_test (320000, 1)\n"
          ],
          "name": "stdout"
        }
      ]
    },
    {
      "metadata": {
        "id": "CoIe-KONG962",
        "colab_type": "code",
        "colab": {
          "base_uri": "https://localhost:8080/",
          "height": 187
        },
        "outputId": "c622fb9b-ff35-4f27-fec5-439360fbdef6"
      },
      "cell_type": "code",
      "source": [
        "y_train[:10]"
      ],
      "execution_count": 83,
      "outputs": [
        {
          "output_type": "execute_result",
          "data": {
            "text/plain": [
              "array([[1],\n",
              "       [1],\n",
              "       [1],\n",
              "       [0],\n",
              "       [1],\n",
              "       [1],\n",
              "       [1],\n",
              "       [1],\n",
              "       [1],\n",
              "       [1]])"
            ]
          },
          "metadata": {
            "tags": []
          },
          "execution_count": 83
        }
      ]
    },
    {
      "metadata": {
        "id": "2pAOiwbgG965",
        "colab_type": "text"
      },
      "cell_type": "markdown",
      "source": [
        "## Embedding layer"
      ]
    },
    {
      "metadata": {
        "id": "csSRs-7LG966",
        "colab_type": "code",
        "colab": {
          "base_uri": "https://localhost:8080/",
          "height": 34
        },
        "outputId": "65da2b4a-74a1-454c-8040-0d476fd78f75"
      },
      "cell_type": "code",
      "source": [
        "embedding_matrix = np.zeros((vocab_size, W2V_SIZE))\n",
        "for word, i in tokenizer.word_index.items():\n",
        "    if word in w2v_model.wv:\n",
        "        embedding_matrix[i] = w2v_model.wv[word]\n",
        "print(embedding_matrix.shape)"
      ],
      "execution_count": 84,
      "outputs": [
        {
          "output_type": "stream",
          "text": [
            "(290419, 300)\n"
          ],
          "name": "stdout"
        }
      ]
    },
    {
      "metadata": {
        "id": "WOKXoEGUG97A",
        "colab_type": "code",
        "colab": {}
      },
      "cell_type": "code",
      "source": [
        "combined_embedding_vector_length= embedding_matrix.shape[1]"
      ],
      "execution_count": 0,
      "outputs": []
    },
    {
      "metadata": {
        "id": "L-PDNwmmG97E",
        "colab_type": "code",
        "colab": {}
      },
      "cell_type": "code",
      "source": [
        "embedding_layer = Embedding(vocab_size, W2V_SIZE, weights=[embedding_matrix], input_length=SEQUENCE_LENGTH, trainable=False)"
      ],
      "execution_count": 0,
      "outputs": []
    },
    {
      "metadata": {
        "id": "Pw1Z49X2G97L",
        "colab_type": "text"
      },
      "cell_type": "markdown",
      "source": [
        "## Build Model"
      ]
    },
    {
      "metadata": {
        "id": "SxOqWizzG97M",
        "colab_type": "code",
        "colab": {}
      },
      "cell_type": "code",
      "source": [
        "import tensorflow as tf\n",
        "import tensorflow.keras as keras\n",
        "from keras.models import Sequential\n",
        "from keras.layers import Dense\n",
        "from keras.layers import LSTM"
      ],
      "execution_count": 0,
      "outputs": []
    },
    {
      "metadata": {
        "id": "lrAiBwhrG97P",
        "colab_type": "code",
        "colab": {
          "base_uri": "https://localhost:8080/",
          "height": 272
        },
        "outputId": "f48c42fb-3c90-42d2-ef5b-f627014d5366"
      },
      "cell_type": "code",
      "source": [
        "model = Sequential()\n",
        "model.add(embedding_layer)\n",
        "model.add(Dropout(0.5))\n",
        "model.add(LSTM(100, dropout=0.2, recurrent_dropout=0.2))\n",
        "model.add(Dense(1, activation='sigmoid'))\n",
        "model.summary()"
      ],
      "execution_count": 92,
      "outputs": [
        {
          "output_type": "stream",
          "text": [
            "_________________________________________________________________\n",
            "Layer (type)                 Output Shape              Param #   \n",
            "=================================================================\n",
            "embedding_1 (Embedding)      (None, 300, 300)          87125700  \n",
            "_________________________________________________________________\n",
            "dropout_3 (Dropout)          (None, 300, 300)          0         \n",
            "_________________________________________________________________\n",
            "lstm_1 (LSTM)                (None, 100)               160400    \n",
            "_________________________________________________________________\n",
            "dense_1 (Dense)              (None, 1)                 101       \n",
            "=================================================================\n",
            "Total params: 87,286,201\n",
            "Trainable params: 160,501\n",
            "Non-trainable params: 87,125,700\n",
            "_________________________________________________________________\n"
          ],
          "name": "stdout"
        }
      ]
    },
    {
      "metadata": {
        "id": "mBx7UViwtXV3",
        "colab_type": "text"
      },
      "cell_type": "markdown",
      "source": [
        "**Compile model**"
      ]
    },
    {
      "metadata": {
        "id": "KV6Ll-1kG97R",
        "colab_type": "code",
        "colab": {}
      },
      "cell_type": "code",
      "source": [
        "model.compile(loss='binary_crossentropy',\n",
        "              optimizer=\"adam\",\n",
        "              metrics=['accuracy'])"
      ],
      "execution_count": 0,
      "outputs": []
    },
    {
      "metadata": {
        "id": "LqWGZZKotxiK",
        "colab_type": "text"
      },
      "cell_type": "markdown",
      "source": [
        "**Callbacks**"
      ]
    },
    {
      "metadata": {
        "id": "nU8Hu_G8tSxe",
        "colab_type": "code",
        "colab": {}
      },
      "cell_type": "code",
      "source": [
        "callbacks = [ ReduceLROnPlateau(monitor='val_loss', patience=5, cooldown=0),\n",
        "              EarlyStopping(monitor='val_acc', min_delta=1e-4, patience=5)]"
      ],
      "execution_count": 0,
      "outputs": []
    },
    {
      "metadata": {
        "id": "PyksndhbuJ8n",
        "colab_type": "text"
      },
      "cell_type": "markdown",
      "source": [
        "**Train**"
      ]
    },
    {
      "metadata": {
        "id": "YvmG3fXMtnDU",
        "colab_type": "code",
        "colab": {
          "base_uri": "https://localhost:8080/",
          "height": 190
        },
        "outputId": "17222caf-6be9-44d6-81a4-ff00940e6875"
      },
      "cell_type": "code",
      "source": [
        "%%time\n",
        "history = model.fit(x_train, y_train,\n",
        "                    batch_size=BATCH_SIZE,\n",
        "                    epochs=EPOCHS,\n",
        "                    validation_split=0.1,\n",
        "                    verbose=1,\n",
        "                    callbacks=callbacks)"
      ],
      "execution_count": 0,
      "outputs": [
        {
          "output_type": "stream",
          "text": [
            "WARNING:tensorflow:From /usr/local/lib/python3.6/dist-packages/tensorflow/python/ops/math_ops.py:3066: to_int32 (from tensorflow.python.ops.math_ops) is deprecated and will be removed in a future version.\n",
            "Instructions for updating:\n",
            "Use tf.cast instead.\n"
          ],
          "name": "stdout"
        },
        {
          "output_type": "stream",
          "text": [
            "2019-02-21 11:00:23,399 : WARNING : From /usr/local/lib/python3.6/dist-packages/tensorflow/python/ops/math_ops.py:3066: to_int32 (from tensorflow.python.ops.math_ops) is deprecated and will be removed in a future version.\n",
            "Instructions for updating:\n",
            "Use tf.cast instead.\n"
          ],
          "name": "stderr"
        },
        {
          "output_type": "stream",
          "text": [
            "Train on 1152000 samples, validate on 128000 samples\n",
            "Epoch 1/8\n",
            " 290816/1152000 [======>.......................] - ETA: 12:33 - loss: 0.5368 - acc: 0.7264"
          ],
          "name": "stdout"
        }
      ]
    },
    {
      "metadata": {
        "id": "l1aGfd8Xtqfl",
        "colab_type": "code",
        "colab": {}
      },
      "cell_type": "code",
      "source": [
        ""
      ],
      "execution_count": 0,
      "outputs": []
    }
  ]
}